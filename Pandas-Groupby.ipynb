{
    "nbformat_minor": 1,
    "cells": [
        {
            "source": "<h1> Pandas-Groupby</h1>",
            "cell_type": "markdown",
            "metadata": {
                "collapsed": true
            }
        },
        {
            "source": "<h3>Groupby allows you to group together rows based off of a column, and perform an aggregate function on them.</h3>",
            "cell_type": "markdown",
            "metadata": {}
        },
        {
            "source": "import numpy as np\nimport pandas as pd",
            "cell_type": "code",
            "execution_count": 1,
            "outputs": [],
            "metadata": {}
        },
        {
            "source": "# Create a dictionary called data\n\ndata = {'Company':['GOOG','GOOG','MSFT','MSFT','FB','FB'],\n        'Person':['Sam','Charlie','Amy','Vanessa','Carl','Sarah'],\n        'Sales':[200,120,340,124,243,350]}",
            "cell_type": "code",
            "execution_count": 6,
            "outputs": [],
            "metadata": {}
        },
        {
            "source": "data",
            "cell_type": "code",
            "execution_count": 7,
            "outputs": [
                {
                    "output_type": "execute_result",
                    "metadata": {},
                    "data": {
                        "text/plain": "{'Company': ['GOOG', 'GOOG', 'MSFT', 'MSFT', 'FB', 'FB'],\n 'Person': ['Sam', 'Charlie', 'Amy', 'Vanessa', 'Carl', 'Sarah'],\n 'Sales': [200, 120, 340, 124, 243, 350]}"
                    },
                    "execution_count": 7
                }
            ],
            "metadata": {}
        },
        {
            "source": "df = pd.DataFrame(data)",
            "cell_type": "code",
            "execution_count": 9,
            "outputs": [],
            "metadata": {}
        },
        {
            "source": "df",
            "cell_type": "code",
            "execution_count": 10,
            "outputs": [
                {
                    "output_type": "execute_result",
                    "metadata": {},
                    "data": {
                        "text/html": "<div>\n<style scoped>\n    .dataframe tbody tr th:only-of-type {\n        vertical-align: middle;\n    }\n\n    .dataframe tbody tr th {\n        vertical-align: top;\n    }\n\n    .dataframe thead th {\n        text-align: right;\n    }\n</style>\n<table border=\"1\" class=\"dataframe\">\n  <thead>\n    <tr style=\"text-align: right;\">\n      <th></th>\n      <th>Company</th>\n      <th>Person</th>\n      <th>Sales</th>\n    </tr>\n  </thead>\n  <tbody>\n    <tr>\n      <th>0</th>\n      <td>GOOG</td>\n      <td>Sam</td>\n      <td>200</td>\n    </tr>\n    <tr>\n      <th>1</th>\n      <td>GOOG</td>\n      <td>Charlie</td>\n      <td>120</td>\n    </tr>\n    <tr>\n      <th>2</th>\n      <td>MSFT</td>\n      <td>Amy</td>\n      <td>340</td>\n    </tr>\n    <tr>\n      <th>3</th>\n      <td>MSFT</td>\n      <td>Vanessa</td>\n      <td>124</td>\n    </tr>\n    <tr>\n      <th>4</th>\n      <td>FB</td>\n      <td>Carl</td>\n      <td>243</td>\n    </tr>\n    <tr>\n      <th>5</th>\n      <td>FB</td>\n      <td>Sarah</td>\n      <td>350</td>\n    </tr>\n  </tbody>\n</table>\n</div>",
                        "text/plain": "  Company   Person  Sales\n0    GOOG      Sam    200\n1    GOOG  Charlie    120\n2    MSFT      Amy    340\n3    MSFT  Vanessa    124\n4      FB     Carl    243\n5      FB    Sarah    350"
                    },
                    "execution_count": 10
                }
            ],
            "metadata": {}
        },
        {
            "source": "<h3>Groupby off of a column name</h3>",
            "cell_type": "markdown",
            "metadata": {}
        },
        {
            "source": "df.groupby('Company')       # The output shows you were the object is stored in memory\n                            # Assign it to a variable, and add a function in order to see output\n                            # Usage: df.groupby('Some column name')",
            "cell_type": "code",
            "execution_count": 20,
            "outputs": [
                {
                    "output_type": "execute_result",
                    "metadata": {},
                    "data": {
                        "text/plain": "<pandas.core.groupby.DataFrameGroupBy object at 0x7f2c4c7695c0>"
                    },
                    "execution_count": 20
                }
            ],
            "metadata": {}
        },
        {
            "source": "byComp = df.groupby('Company')  # Assign the groupby object to some variable\n                                # In this example, byComp",
            "cell_type": "code",
            "execution_count": 18,
            "outputs": [],
            "metadata": {}
        },
        {
            "source": "byComp.mean()               # Apply some aggregate function\n                            # In this example, add the mean method to byComp to see df output",
            "cell_type": "code",
            "execution_count": 22,
            "outputs": [
                {
                    "output_type": "execute_result",
                    "metadata": {},
                    "data": {
                        "text/html": "<div>\n<style scoped>\n    .dataframe tbody tr th:only-of-type {\n        vertical-align: middle;\n    }\n\n    .dataframe tbody tr th {\n        vertical-align: top;\n    }\n\n    .dataframe thead th {\n        text-align: right;\n    }\n</style>\n<table border=\"1\" class=\"dataframe\">\n  <thead>\n    <tr style=\"text-align: right;\">\n      <th></th>\n      <th>Sales</th>\n    </tr>\n    <tr>\n      <th>Company</th>\n      <th></th>\n    </tr>\n  </thead>\n  <tbody>\n    <tr>\n      <th>FB</th>\n      <td>296.5</td>\n    </tr>\n    <tr>\n      <th>GOOG</th>\n      <td>160.0</td>\n    </tr>\n    <tr>\n      <th>MSFT</th>\n      <td>232.0</td>\n    </tr>\n  </tbody>\n</table>\n</div>",
                        "text/plain": "         Sales\nCompany       \nFB       296.5\nGOOG     160.0\nMSFT     232.0"
                    },
                    "execution_count": 22
                }
            ],
            "metadata": {}
        },
        {
            "source": "byComp.sum()            # Applying the sum method to the groupby object",
            "cell_type": "code",
            "execution_count": 24,
            "outputs": [
                {
                    "output_type": "execute_result",
                    "metadata": {},
                    "data": {
                        "text/html": "<div>\n<style scoped>\n    .dataframe tbody tr th:only-of-type {\n        vertical-align: middle;\n    }\n\n    .dataframe tbody tr th {\n        vertical-align: top;\n    }\n\n    .dataframe thead th {\n        text-align: right;\n    }\n</style>\n<table border=\"1\" class=\"dataframe\">\n  <thead>\n    <tr style=\"text-align: right;\">\n      <th></th>\n      <th>Sales</th>\n    </tr>\n    <tr>\n      <th>Company</th>\n      <th></th>\n    </tr>\n  </thead>\n  <tbody>\n    <tr>\n      <th>FB</th>\n      <td>593</td>\n    </tr>\n    <tr>\n      <th>GOOG</th>\n      <td>320</td>\n    </tr>\n    <tr>\n      <th>MSFT</th>\n      <td>464</td>\n    </tr>\n  </tbody>\n</table>\n</div>",
                        "text/plain": "         Sales\nCompany       \nFB         593\nGOOG       320\nMSFT       464"
                    },
                    "execution_count": 24
                }
            ],
            "metadata": {}
        },
        {
            "source": "byComp.std()           # Applying the standard deviation method to the groupby object",
            "cell_type": "code",
            "execution_count": 25,
            "outputs": [
                {
                    "output_type": "execute_result",
                    "metadata": {},
                    "data": {
                        "text/html": "<div>\n<style scoped>\n    .dataframe tbody tr th:only-of-type {\n        vertical-align: middle;\n    }\n\n    .dataframe tbody tr th {\n        vertical-align: top;\n    }\n\n    .dataframe thead th {\n        text-align: right;\n    }\n</style>\n<table border=\"1\" class=\"dataframe\">\n  <thead>\n    <tr style=\"text-align: right;\">\n      <th></th>\n      <th>Sales</th>\n    </tr>\n    <tr>\n      <th>Company</th>\n      <th></th>\n    </tr>\n  </thead>\n  <tbody>\n    <tr>\n      <th>FB</th>\n      <td>75.660426</td>\n    </tr>\n    <tr>\n      <th>GOOG</th>\n      <td>56.568542</td>\n    </tr>\n    <tr>\n      <th>MSFT</th>\n      <td>152.735065</td>\n    </tr>\n  </tbody>\n</table>\n</div>",
                        "text/plain": "              Sales\nCompany            \nFB        75.660426\nGOOG      56.568542\nMSFT     152.735065"
                    },
                    "execution_count": 25
                }
            ],
            "metadata": {}
        },
        {
            "source": "byComp.sum().loc['FB']  # To get information from specific row, using loc\n                        # In this eaxample, sum up total for 'FB' row\n                        # useage: byComp.sum().loc['FB']",
            "cell_type": "code",
            "execution_count": 27,
            "outputs": [
                {
                    "output_type": "execute_result",
                    "metadata": {},
                    "data": {
                        "text/plain": "Sales    593\nName: FB, dtype: int64"
                    },
                    "execution_count": 27
                }
            ],
            "metadata": {}
        },
        {
            "source": "df.groupby('Company').sum().loc['FB']   # Building out one line df syntax\n                                        # Groupby 'Company'\n                                        # sum method\n                                        # then find a specific row using .loc[]",
            "cell_type": "code",
            "execution_count": 28,
            "outputs": [
                {
                    "output_type": "execute_result",
                    "metadata": {},
                    "data": {
                        "text/plain": "Sales    593\nName: FB, dtype: int64"
                    },
                    "execution_count": 28
                }
            ],
            "metadata": {}
        },
        {
            "source": "df.groupby('Company').sum().loc['GOOG']",
            "cell_type": "code",
            "execution_count": 29,
            "outputs": [
                {
                    "output_type": "execute_result",
                    "metadata": {},
                    "data": {
                        "text/plain": "Sales    320\nName: GOOG, dtype: int64"
                    },
                    "execution_count": 29
                }
            ],
            "metadata": {}
        },
        {
            "source": "df.groupby('Company').sum().loc['MSFT']",
            "cell_type": "code",
            "execution_count": 30,
            "outputs": [
                {
                    "output_type": "execute_result",
                    "metadata": {},
                    "data": {
                        "text/plain": "Sales    464\nName: MSFT, dtype: int64"
                    },
                    "execution_count": 30
                }
            ],
            "metadata": {}
        },
        {
            "source": "df.groupby('Company').count()      # Apply the count method to count the number of things per row",
            "cell_type": "code",
            "execution_count": 33,
            "outputs": [
                {
                    "output_type": "execute_result",
                    "metadata": {},
                    "data": {
                        "text/html": "<div>\n<style scoped>\n    .dataframe tbody tr th:only-of-type {\n        vertical-align: middle;\n    }\n\n    .dataframe tbody tr th {\n        vertical-align: top;\n    }\n\n    .dataframe thead th {\n        text-align: right;\n    }\n</style>\n<table border=\"1\" class=\"dataframe\">\n  <thead>\n    <tr style=\"text-align: right;\">\n      <th></th>\n      <th>Person</th>\n      <th>Sales</th>\n    </tr>\n    <tr>\n      <th>Company</th>\n      <th></th>\n      <th></th>\n    </tr>\n  </thead>\n  <tbody>\n    <tr>\n      <th>FB</th>\n      <td>2</td>\n      <td>2</td>\n    </tr>\n    <tr>\n      <th>GOOG</th>\n      <td>2</td>\n      <td>2</td>\n    </tr>\n    <tr>\n      <th>MSFT</th>\n      <td>2</td>\n      <td>2</td>\n    </tr>\n  </tbody>\n</table>\n</div>",
                        "text/plain": "         Person  Sales\nCompany               \nFB            2      2\nGOOG          2      2\nMSFT          2      2"
                    },
                    "execution_count": 33
                }
            ],
            "metadata": {}
        },
        {
            "source": "df.groupby('Company').max()      # Apply max ()",
            "cell_type": "code",
            "execution_count": 34,
            "outputs": [
                {
                    "output_type": "execute_result",
                    "metadata": {},
                    "data": {
                        "text/html": "<div>\n<style scoped>\n    .dataframe tbody tr th:only-of-type {\n        vertical-align: middle;\n    }\n\n    .dataframe tbody tr th {\n        vertical-align: top;\n    }\n\n    .dataframe thead th {\n        text-align: right;\n    }\n</style>\n<table border=\"1\" class=\"dataframe\">\n  <thead>\n    <tr style=\"text-align: right;\">\n      <th></th>\n      <th>Person</th>\n      <th>Sales</th>\n    </tr>\n    <tr>\n      <th>Company</th>\n      <th></th>\n      <th></th>\n    </tr>\n  </thead>\n  <tbody>\n    <tr>\n      <th>FB</th>\n      <td>Sarah</td>\n      <td>350</td>\n    </tr>\n    <tr>\n      <th>GOOG</th>\n      <td>Sam</td>\n      <td>200</td>\n    </tr>\n    <tr>\n      <th>MSFT</th>\n      <td>Vanessa</td>\n      <td>340</td>\n    </tr>\n  </tbody>\n</table>\n</div>",
                        "text/plain": "          Person  Sales\nCompany                \nFB         Sarah    350\nGOOG         Sam    200\nMSFT     Vanessa    340"
                    },
                    "execution_count": 34
                }
            ],
            "metadata": {}
        },
        {
            "source": "df.groupby('Company').min()    # Apply min ()",
            "cell_type": "code",
            "execution_count": 35,
            "outputs": [
                {
                    "output_type": "execute_result",
                    "metadata": {},
                    "data": {
                        "text/html": "<div>\n<style scoped>\n    .dataframe tbody tr th:only-of-type {\n        vertical-align: middle;\n    }\n\n    .dataframe tbody tr th {\n        vertical-align: top;\n    }\n\n    .dataframe thead th {\n        text-align: right;\n    }\n</style>\n<table border=\"1\" class=\"dataframe\">\n  <thead>\n    <tr style=\"text-align: right;\">\n      <th></th>\n      <th>Person</th>\n      <th>Sales</th>\n    </tr>\n    <tr>\n      <th>Company</th>\n      <th></th>\n      <th></th>\n    </tr>\n  </thead>\n  <tbody>\n    <tr>\n      <th>FB</th>\n      <td>Carl</td>\n      <td>243</td>\n    </tr>\n    <tr>\n      <th>GOOG</th>\n      <td>Charlie</td>\n      <td>120</td>\n    </tr>\n    <tr>\n      <th>MSFT</th>\n      <td>Amy</td>\n      <td>124</td>\n    </tr>\n  </tbody>\n</table>\n</div>",
                        "text/plain": "          Person  Sales\nCompany                \nFB          Carl    243\nGOOG     Charlie    120\nMSFT         Amy    124"
                    },
                    "execution_count": 35
                }
            ],
            "metadata": {}
        },
        {
            "source": "df.groupby('Company').describe()   # Applying describe() to show details about the df",
            "cell_type": "code",
            "execution_count": 36,
            "outputs": [
                {
                    "output_type": "execute_result",
                    "metadata": {},
                    "data": {
                        "text/html": "<div>\n<style scoped>\n    .dataframe tbody tr th:only-of-type {\n        vertical-align: middle;\n    }\n\n    .dataframe tbody tr th {\n        vertical-align: top;\n    }\n\n    .dataframe thead tr th {\n        text-align: left;\n    }\n\n    .dataframe thead tr:last-of-type th {\n        text-align: right;\n    }\n</style>\n<table border=\"1\" class=\"dataframe\">\n  <thead>\n    <tr>\n      <th></th>\n      <th colspan=\"8\" halign=\"left\">Sales</th>\n    </tr>\n    <tr>\n      <th></th>\n      <th>count</th>\n      <th>mean</th>\n      <th>std</th>\n      <th>min</th>\n      <th>25%</th>\n      <th>50%</th>\n      <th>75%</th>\n      <th>max</th>\n    </tr>\n    <tr>\n      <th>Company</th>\n      <th></th>\n      <th></th>\n      <th></th>\n      <th></th>\n      <th></th>\n      <th></th>\n      <th></th>\n      <th></th>\n    </tr>\n  </thead>\n  <tbody>\n    <tr>\n      <th>FB</th>\n      <td>2.0</td>\n      <td>296.5</td>\n      <td>75.660426</td>\n      <td>243.0</td>\n      <td>269.75</td>\n      <td>296.5</td>\n      <td>323.25</td>\n      <td>350.0</td>\n    </tr>\n    <tr>\n      <th>GOOG</th>\n      <td>2.0</td>\n      <td>160.0</td>\n      <td>56.568542</td>\n      <td>120.0</td>\n      <td>140.00</td>\n      <td>160.0</td>\n      <td>180.00</td>\n      <td>200.0</td>\n    </tr>\n    <tr>\n      <th>MSFT</th>\n      <td>2.0</td>\n      <td>232.0</td>\n      <td>152.735065</td>\n      <td>124.0</td>\n      <td>178.00</td>\n      <td>232.0</td>\n      <td>286.00</td>\n      <td>340.0</td>\n    </tr>\n  </tbody>\n</table>\n</div>",
                        "text/plain": "        Sales                                                        \n        count   mean         std    min     25%    50%     75%    max\nCompany                                                              \nFB        2.0  296.5   75.660426  243.0  269.75  296.5  323.25  350.0\nGOOG      2.0  160.0   56.568542  120.0  140.00  160.0  180.00  200.0\nMSFT      2.0  232.0  152.735065  124.0  178.00  232.0  286.00  340.0"
                    },
                    "execution_count": 36
                }
            ],
            "metadata": {}
        },
        {
            "source": "df.groupby('Company').describe().transpose()  # Transpose to swap columns with rows",
            "cell_type": "code",
            "execution_count": 40,
            "outputs": [
                {
                    "output_type": "execute_result",
                    "metadata": {},
                    "data": {
                        "text/html": "<div>\n<style scoped>\n    .dataframe tbody tr th:only-of-type {\n        vertical-align: middle;\n    }\n\n    .dataframe tbody tr th {\n        vertical-align: top;\n    }\n\n    .dataframe thead th {\n        text-align: right;\n    }\n</style>\n<table border=\"1\" class=\"dataframe\">\n  <thead>\n    <tr style=\"text-align: right;\">\n      <th></th>\n      <th>Company</th>\n      <th>FB</th>\n      <th>GOOG</th>\n      <th>MSFT</th>\n    </tr>\n  </thead>\n  <tbody>\n    <tr>\n      <th rowspan=\"8\" valign=\"top\">Sales</th>\n      <th>count</th>\n      <td>2.000000</td>\n      <td>2.000000</td>\n      <td>2.000000</td>\n    </tr>\n    <tr>\n      <th>mean</th>\n      <td>296.500000</td>\n      <td>160.000000</td>\n      <td>232.000000</td>\n    </tr>\n    <tr>\n      <th>std</th>\n      <td>75.660426</td>\n      <td>56.568542</td>\n      <td>152.735065</td>\n    </tr>\n    <tr>\n      <th>min</th>\n      <td>243.000000</td>\n      <td>120.000000</td>\n      <td>124.000000</td>\n    </tr>\n    <tr>\n      <th>25%</th>\n      <td>269.750000</td>\n      <td>140.000000</td>\n      <td>178.000000</td>\n    </tr>\n    <tr>\n      <th>50%</th>\n      <td>296.500000</td>\n      <td>160.000000</td>\n      <td>232.000000</td>\n    </tr>\n    <tr>\n      <th>75%</th>\n      <td>323.250000</td>\n      <td>180.000000</td>\n      <td>286.000000</td>\n    </tr>\n    <tr>\n      <th>max</th>\n      <td>350.000000</td>\n      <td>200.000000</td>\n      <td>340.000000</td>\n    </tr>\n  </tbody>\n</table>\n</div>",
                        "text/plain": "Company              FB        GOOG        MSFT\nSales count    2.000000    2.000000    2.000000\n      mean   296.500000  160.000000  232.000000\n      std     75.660426   56.568542  152.735065\n      min    243.000000  120.000000  124.000000\n      25%    269.750000  140.000000  178.000000\n      50%    296.500000  160.000000  232.000000\n      75%    323.250000  180.000000  286.000000\n      max    350.000000  200.000000  340.000000"
                    },
                    "execution_count": 40
                }
            ],
            "metadata": {}
        },
        {
            "source": "df.groupby('Company').describe().transpose()['FB']  # Swap column with row\n                                                    # get info for a specific column (ex: 'FB')",
            "cell_type": "code",
            "execution_count": 44,
            "outputs": [
                {
                    "output_type": "execute_result",
                    "metadata": {},
                    "data": {
                        "text/plain": "Sales  count      2.000000\n       mean     296.500000\n       std       75.660426\n       min      243.000000\n       25%      269.750000\n       50%      296.500000\n       75%      323.250000\n       max      350.000000\nName: FB, dtype: float64"
                    },
                    "execution_count": 44
                }
            ],
            "metadata": {}
        },
        {
            "source": "df.groupby('Company').describe().transpose()['GOOG']",
            "cell_type": "code",
            "execution_count": 46,
            "outputs": [
                {
                    "output_type": "execute_result",
                    "metadata": {},
                    "data": {
                        "text/plain": "Sales  count      2.000000\n       mean     160.000000\n       std       56.568542\n       min      120.000000\n       25%      140.000000\n       50%      160.000000\n       75%      180.000000\n       max      200.000000\nName: GOOG, dtype: float64"
                    },
                    "execution_count": 46
                }
            ],
            "metadata": {}
        },
        {
            "source": "df.groupby('Company').describe().transpose()['MSFT']",
            "cell_type": "code",
            "execution_count": 47,
            "outputs": [
                {
                    "output_type": "execute_result",
                    "metadata": {},
                    "data": {
                        "text/plain": "Sales  count      2.000000\n       mean     232.000000\n       std      152.735065\n       min      124.000000\n       25%      178.000000\n       50%      232.000000\n       75%      286.000000\n       max      340.000000\nName: MSFT, dtype: float64"
                    },
                    "execution_count": 47
                }
            ],
            "metadata": {}
        },
        {
            "source": "<h3>Some groupby examples/exercises</h3>",
            "cell_type": "markdown",
            "metadata": {}
        },
        {
            "source": "df.groupby('Person').max()",
            "cell_type": "code",
            "execution_count": 49,
            "outputs": [
                {
                    "output_type": "execute_result",
                    "metadata": {},
                    "data": {
                        "text/html": "<div>\n<style scoped>\n    .dataframe tbody tr th:only-of-type {\n        vertical-align: middle;\n    }\n\n    .dataframe tbody tr th {\n        vertical-align: top;\n    }\n\n    .dataframe thead th {\n        text-align: right;\n    }\n</style>\n<table border=\"1\" class=\"dataframe\">\n  <thead>\n    <tr style=\"text-align: right;\">\n      <th></th>\n      <th>Company</th>\n      <th>Sales</th>\n    </tr>\n    <tr>\n      <th>Person</th>\n      <th></th>\n      <th></th>\n    </tr>\n  </thead>\n  <tbody>\n    <tr>\n      <th>Amy</th>\n      <td>MSFT</td>\n      <td>340</td>\n    </tr>\n    <tr>\n      <th>Carl</th>\n      <td>FB</td>\n      <td>243</td>\n    </tr>\n    <tr>\n      <th>Charlie</th>\n      <td>GOOG</td>\n      <td>120</td>\n    </tr>\n    <tr>\n      <th>Sam</th>\n      <td>GOOG</td>\n      <td>200</td>\n    </tr>\n    <tr>\n      <th>Sarah</th>\n      <td>FB</td>\n      <td>350</td>\n    </tr>\n    <tr>\n      <th>Vanessa</th>\n      <td>MSFT</td>\n      <td>124</td>\n    </tr>\n  </tbody>\n</table>\n</div>",
                        "text/plain": "        Company  Sales\nPerson                \nAmy        MSFT    340\nCarl         FB    243\nCharlie    GOOG    120\nSam        GOOG    200\nSarah        FB    350\nVanessa    MSFT    124"
                    },
                    "execution_count": 49
                }
            ],
            "metadata": {}
        },
        {
            "source": "df.groupby('Sales').max()",
            "cell_type": "code",
            "execution_count": 61,
            "outputs": [
                {
                    "output_type": "execute_result",
                    "metadata": {},
                    "data": {
                        "text/html": "<div>\n<style scoped>\n    .dataframe tbody tr th:only-of-type {\n        vertical-align: middle;\n    }\n\n    .dataframe tbody tr th {\n        vertical-align: top;\n    }\n\n    .dataframe thead th {\n        text-align: right;\n    }\n</style>\n<table border=\"1\" class=\"dataframe\">\n  <thead>\n    <tr style=\"text-align: right;\">\n      <th></th>\n      <th>Company</th>\n      <th>Person</th>\n    </tr>\n    <tr>\n      <th>Sales</th>\n      <th></th>\n      <th></th>\n    </tr>\n  </thead>\n  <tbody>\n    <tr>\n      <th>120</th>\n      <td>GOOG</td>\n      <td>Charlie</td>\n    </tr>\n    <tr>\n      <th>124</th>\n      <td>MSFT</td>\n      <td>Vanessa</td>\n    </tr>\n    <tr>\n      <th>200</th>\n      <td>GOOG</td>\n      <td>Sam</td>\n    </tr>\n    <tr>\n      <th>243</th>\n      <td>FB</td>\n      <td>Carl</td>\n    </tr>\n    <tr>\n      <th>340</th>\n      <td>MSFT</td>\n      <td>Amy</td>\n    </tr>\n    <tr>\n      <th>350</th>\n      <td>FB</td>\n      <td>Sarah</td>\n    </tr>\n  </tbody>\n</table>\n</div>",
                        "text/plain": "      Company   Person\nSales                 \n120      GOOG  Charlie\n124      MSFT  Vanessa\n200      GOOG      Sam\n243        FB     Carl\n340      MSFT      Amy\n350        FB    Sarah"
                    },
                    "execution_count": 61
                }
            ],
            "metadata": {}
        },
        {
            "source": "df.groupby('Sales').max()['Person']",
            "cell_type": "code",
            "execution_count": 56,
            "outputs": [
                {
                    "output_type": "execute_result",
                    "metadata": {},
                    "data": {
                        "text/plain": "Sales\n120    Charlie\n124    Vanessa\n200        Sam\n243       Carl\n340        Amy\n350      Sarah\nName: Person, dtype: object"
                    },
                    "execution_count": 56
                }
            ],
            "metadata": {}
        },
        {
            "source": "df.groupby('Person').count()",
            "cell_type": "code",
            "execution_count": 59,
            "outputs": [
                {
                    "output_type": "execute_result",
                    "metadata": {},
                    "data": {
                        "text/html": "<div>\n<style scoped>\n    .dataframe tbody tr th:only-of-type {\n        vertical-align: middle;\n    }\n\n    .dataframe tbody tr th {\n        vertical-align: top;\n    }\n\n    .dataframe thead th {\n        text-align: right;\n    }\n</style>\n<table border=\"1\" class=\"dataframe\">\n  <thead>\n    <tr style=\"text-align: right;\">\n      <th></th>\n      <th>Company</th>\n      <th>Sales</th>\n    </tr>\n    <tr>\n      <th>Person</th>\n      <th></th>\n      <th></th>\n    </tr>\n  </thead>\n  <tbody>\n    <tr>\n      <th>Amy</th>\n      <td>1</td>\n      <td>1</td>\n    </tr>\n    <tr>\n      <th>Carl</th>\n      <td>1</td>\n      <td>1</td>\n    </tr>\n    <tr>\n      <th>Charlie</th>\n      <td>1</td>\n      <td>1</td>\n    </tr>\n    <tr>\n      <th>Sam</th>\n      <td>1</td>\n      <td>1</td>\n    </tr>\n    <tr>\n      <th>Sarah</th>\n      <td>1</td>\n      <td>1</td>\n    </tr>\n    <tr>\n      <th>Vanessa</th>\n      <td>1</td>\n      <td>1</td>\n    </tr>\n  </tbody>\n</table>\n</div>",
                        "text/plain": "         Company  Sales\nPerson                 \nAmy            1      1\nCarl           1      1\nCharlie        1      1\nSam            1      1\nSarah          1      1\nVanessa        1      1"
                    },
                    "execution_count": 59
                }
            ],
            "metadata": {}
        },
        {
            "source": "",
            "cell_type": "code",
            "execution_count": null,
            "outputs": [],
            "metadata": {}
        }
    ],
    "nbformat": 4,
    "metadata": {
        "kernelspec": {
            "display_name": "Python 3.5",
            "name": "python3",
            "language": "python"
        },
        "language_info": {
            "mimetype": "text/x-python",
            "nbconvert_exporter": "python",
            "version": "3.5.5",
            "name": "python",
            "file_extension": ".py",
            "pygments_lexer": "ipython3",
            "codemirror_mode": {
                "version": 3,
                "name": "ipython"
            }
        }
    }
}