{
    "nbformat_minor": 1,
    "cells": [
        {
            "source": "<h3>MAP/Filter Functions</h3>",
            "cell_type": "markdown",
            "metadata": {
                "collapsed": true
            }
        },
        {
            "source": "# Function Review:\n\ndef times2(var):\n    return var *2",
            "cell_type": "code",
            "execution_count": 1,
            "outputs": [],
            "metadata": {}
        },
        {
            "source": "times2(5)",
            "cell_type": "code",
            "execution_count": 2,
            "outputs": [
                {
                    "output_type": "execute_result",
                    "metadata": {},
                    "data": {
                        "text/plain": "10"
                    },
                    "execution_count": 2
                }
            ],
            "metadata": {}
        },
        {
            "source": "# MAP() - 'Automatically' applies a function against a list, and provides output",
            "cell_type": "code",
            "execution_count": 3,
            "outputs": [],
            "metadata": {}
        },
        {
            "source": "seq = [1,2,3,4,5]",
            "cell_type": "code",
            "execution_count": 9,
            "outputs": [],
            "metadata": {}
        },
        {
            "source": "map(times2,seq) # Pass in the called function (times2) and the desired list (seq)\n\n# This shows where the map is in memory\n# Have to wrap map into a list in order to execute and get output",
            "cell_type": "code",
            "execution_count": 10,
            "outputs": [
                {
                    "output_type": "execute_result",
                    "metadata": {},
                    "data": {
                        "text/plain": "<map at 0x7f9d0032aac8>"
                    },
                    "execution_count": 10
                }
            ],
            "metadata": {}
        },
        {
            "source": "list(map(times2,seq)) # Map wrapped in a list",
            "cell_type": "code",
            "execution_count": 11,
            "outputs": [
                {
                    "output_type": "execute_result",
                    "metadata": {},
                    "data": {
                        "text/plain": "[2, 4, 6, 8, 10]"
                    },
                    "execution_count": 11
                }
            ],
            "metadata": {}
        },
        {
            "source": "<h3>Lambda-Lambda-Lambda</h3>",
            "cell_type": "markdown",
            "metadata": {}
        },
        {
            "source": "# Lambda Express - Reduce having to write out a full function",
            "cell_type": "code",
            "execution_count": 12,
            "outputs": [],
            "metadata": {}
        },
        {
            "source": "# Take this function, for example, and write it all on one line:\n def times2(var): return var *2",
            "cell_type": "code",
            "execution_count": 16,
            "outputs": [],
            "metadata": {}
        },
        {
            "source": "# Remove key words *def* and *return*, because these are well known words for creating functions:",
            "cell_type": "code",
            "execution_count": 17,
            "outputs": [],
            "metadata": {}
        },
        {
            "source": " times2(var):var *2",
            "cell_type": "code",
            "execution_count": 18,
            "outputs": [],
            "metadata": {}
        },
        {
            "source": "# Replace the function name (times2) with a lambda expression, and remove the () around the passed parameter (var):",
            "cell_type": "code",
            "execution_count": null,
            "outputs": [],
            "metadata": {}
        },
        {
            "source": "lambda var:var*2",
            "cell_type": "code",
            "execution_count": 13,
            "outputs": [
                {
                    "output_type": "execute_result",
                    "metadata": {},
                    "data": {
                        "text/plain": "<function __main__.<lambda>>"
                    },
                    "execution_count": 13
                }
            ],
            "metadata": {}
        },
        {
            "source": "# Wrap the lambda expression in a map and list --> list(map())",
            "cell_type": "code",
            "execution_count": 19,
            "outputs": [],
            "metadata": {}
        },
        {
            "source": "# lambda <what you want to pass in the lambda 'function'> (num) : <the expected ouput or code to perform>, and some list (seq)",
            "cell_type": "code",
            "execution_count": 22,
            "outputs": [],
            "metadata": {}
        },
        {
            "source": "# This example takes a number from the seq list, and multiplies them by 3",
            "cell_type": "code",
            "execution_count": null,
            "outputs": [],
            "metadata": {}
        },
        {
            "source": "list(map(lambda num: num*3,seq))",
            "cell_type": "code",
            "execution_count": 23,
            "outputs": [
                {
                    "output_type": "execute_result",
                    "metadata": {},
                    "data": {
                        "text/plain": "[3, 6, 9, 12, 15]"
                    },
                    "execution_count": 23
                }
            ],
            "metadata": {}
        },
        {
            "source": "<h3>Filter</h3>",
            "cell_type": "markdown",
            "metadata": {}
        },
        {
            "source": "# Filter() -  out elements from a sequence, and returns results based on BOOLEAN evaluation",
            "cell_type": "code",
            "execution_count": 28,
            "outputs": [],
            "metadata": {}
        },
        {
            "source": "filter(lambda num: num%2 == 0, seq)",
            "cell_type": "code",
            "execution_count": 29,
            "outputs": [
                {
                    "output_type": "execute_result",
                    "metadata": {},
                    "data": {
                        "text/plain": "<filter at 0x7f9d00356c88>"
                    },
                    "execution_count": 29
                }
            ],
            "metadata": {}
        },
        {
            "source": "list(filter(lambda num:num%2 == 0, seq)) # This returns the even numbers from the seq list",
            "cell_type": "code",
            "execution_count": 30,
            "outputs": [
                {
                    "output_type": "execute_result",
                    "metadata": {},
                    "data": {
                        "text/plain": "[2, 4]"
                    },
                    "execution_count": 30
                }
            ],
            "metadata": {}
        },
        {
            "source": "<h3>Methods, Man -lol</h3>",
            "cell_type": "markdown",
            "metadata": {}
        },
        {
            "source": "s = 'hello my is Sam'",
            "cell_type": "code",
            "execution_count": 31,
            "outputs": [],
            "metadata": {}
        },
        {
            "source": "# Hit TAB after the . to show all assocated methods that can be used",
            "cell_type": "code",
            "execution_count": 48,
            "outputs": [],
            "metadata": {}
        },
        {
            "source": "s.lower() # String Methods",
            "cell_type": "code",
            "execution_count": 49,
            "outputs": [
                {
                    "output_type": "execute_result",
                    "metadata": {},
                    "data": {
                        "text/plain": "'hello my is sam'"
                    },
                    "execution_count": 49
                }
            ],
            "metadata": {}
        },
        {
            "source": "s.upper()",
            "cell_type": "code",
            "execution_count": 33,
            "outputs": [
                {
                    "output_type": "execute_result",
                    "metadata": {},
                    "data": {
                        "text/plain": "'HELLO MY IS SAM'"
                    },
                    "execution_count": 33
                }
            ],
            "metadata": {}
        },
        {
            "source": "s.split()",
            "cell_type": "code",
            "execution_count": 34,
            "outputs": [
                {
                    "output_type": "execute_result",
                    "metadata": {},
                    "data": {
                        "text/plain": "['hello', 'my', 'is', 'Sam']"
                    },
                    "execution_count": 34
                }
            ],
            "metadata": {}
        },
        {
            "source": "tweet = 'Go Sports! #Sports' # Example of Tweet string to use for understanding split()",
            "cell_type": "code",
            "execution_count": 35,
            "outputs": [],
            "metadata": {}
        },
        {
            "source": "tweet.split('#') # Split on the '#'",
            "cell_type": "code",
            "execution_count": 36,
            "outputs": [
                {
                    "output_type": "execute_result",
                    "metadata": {},
                    "data": {
                        "text/plain": "['Go Sports! ', 'Sports']"
                    },
                    "execution_count": 36
                }
            ],
            "metadata": {}
        },
        {
            "source": "len(tweet.split('#')) # Get the length of the tweet split",
            "cell_type": "code",
            "execution_count": 40,
            "outputs": [
                {
                    "output_type": "execute_result",
                    "metadata": {},
                    "data": {
                        "text/plain": "2"
                    },
                    "execution_count": 40
                }
            ],
            "metadata": {}
        },
        {
            "source": "tweet.split('#')[0]",
            "cell_type": "code",
            "execution_count": 41,
            "outputs": [
                {
                    "output_type": "execute_result",
                    "metadata": {},
                    "data": {
                        "text/plain": "'Go Sports! '"
                    },
                    "execution_count": 41
                }
            ],
            "metadata": {}
        },
        {
            "source": "tweet.split('#')[1]",
            "cell_type": "code",
            "execution_count": 42,
            "outputs": [
                {
                    "output_type": "execute_result",
                    "metadata": {},
                    "data": {
                        "text/plain": "'Sports'"
                    },
                    "execution_count": 42
                }
            ],
            "metadata": {}
        },
        {
            "source": "d = {'k1': 1, 'k2': 2} # Dictionary methods",
            "cell_type": "code",
            "execution_count": 44,
            "outputs": [],
            "metadata": {}
        },
        {
            "source": "d.keys()",
            "cell_type": "code",
            "execution_count": 45,
            "outputs": [
                {
                    "output_type": "execute_result",
                    "metadata": {},
                    "data": {
                        "text/plain": "dict_keys(['k2', 'k1'])"
                    },
                    "execution_count": 45
                }
            ],
            "metadata": {}
        },
        {
            "source": "d.items()",
            "cell_type": "code",
            "execution_count": 46,
            "outputs": [
                {
                    "output_type": "execute_result",
                    "metadata": {},
                    "data": {
                        "text/plain": "dict_items([('k2', 2), ('k1', 1)])"
                    },
                    "execution_count": 46
                }
            ],
            "metadata": {}
        },
        {
            "source": "d.values()",
            "cell_type": "code",
            "execution_count": 47,
            "outputs": [
                {
                    "output_type": "execute_result",
                    "metadata": {},
                    "data": {
                        "text/plain": "dict_values([2, 1])"
                    },
                    "execution_count": 47
                }
            ],
            "metadata": {}
        },
        {
            "source": "lst1 = [1,2,3] # List Methods",
            "cell_type": "code",
            "execution_count": 56,
            "outputs": [],
            "metadata": {}
        },
        {
            "source": "lst1.pop() # Pop the last item out of the list",
            "cell_type": "code",
            "execution_count": 57,
            "outputs": [
                {
                    "output_type": "execute_result",
                    "metadata": {},
                    "data": {
                        "text/plain": "3"
                    },
                    "execution_count": 57
                }
            ],
            "metadata": {}
        },
        {
            "source": "lst1",
            "cell_type": "code",
            "execution_count": 59,
            "outputs": [
                {
                    "output_type": "execute_result",
                    "metadata": {},
                    "data": {
                        "text/plain": "[1, 2]"
                    },
                    "execution_count": 59
                }
            ],
            "metadata": {}
        },
        {
            "source": "lst1 = [1,2,3,4,5]",
            "cell_type": "code",
            "execution_count": 60,
            "outputs": [],
            "metadata": {}
        },
        {
            "source": "item = lst1.pop()  # Pop last item off of list, and assign to var item",
            "cell_type": "code",
            "execution_count": 62,
            "outputs": [],
            "metadata": {}
        },
        {
            "source": "lst1",
            "cell_type": "code",
            "execution_count": 63,
            "outputs": [
                {
                    "output_type": "execute_result",
                    "metadata": {},
                    "data": {
                        "text/plain": "[1, 2, 3, 4]"
                    },
                    "execution_count": 63
                }
            ],
            "metadata": {}
        },
        {
            "source": "item",
            "cell_type": "code",
            "execution_count": 64,
            "outputs": [
                {
                    "output_type": "execute_result",
                    "metadata": {},
                    "data": {
                        "text/plain": "5"
                    },
                    "execution_count": 64
                }
            ],
            "metadata": {}
        },
        {
            "source": "first = lst1.pop(0) # Pop the first index item out of the list, and assign it to var first",
            "cell_type": "code",
            "execution_count": 65,
            "outputs": [],
            "metadata": {}
        },
        {
            "source": "first",
            "cell_type": "code",
            "execution_count": 66,
            "outputs": [
                {
                    "output_type": "execute_result",
                    "metadata": {},
                    "data": {
                        "text/plain": "1"
                    },
                    "execution_count": 66
                }
            ],
            "metadata": {}
        },
        {
            "source": "lst1",
            "cell_type": "code",
            "execution_count": 67,
            "outputs": [
                {
                    "output_type": "execute_result",
                    "metadata": {},
                    "data": {
                        "text/plain": "[2, 3, 4]"
                    },
                    "execution_count": 67
                }
            ],
            "metadata": {}
        },
        {
            "source": "lst1.append('new')  # Append new to the end of the list",
            "cell_type": "code",
            "execution_count": 68,
            "outputs": [],
            "metadata": {}
        },
        {
            "source": "lst1",
            "cell_type": "code",
            "execution_count": 69,
            "outputs": [
                {
                    "output_type": "execute_result",
                    "metadata": {},
                    "data": {
                        "text/plain": "[2, 3, 4, 'new']"
                    },
                    "execution_count": 69
                }
            ],
            "metadata": {}
        },
        {
            "source": "<h3>IN</h3>",
            "cell_type": "markdown",
            "metadata": {}
        },
        {
            "source": "'x' in 'fox'",
            "cell_type": "code",
            "execution_count": 70,
            "outputs": [
                {
                    "output_type": "execute_result",
                    "metadata": {},
                    "data": {
                        "text/plain": "True"
                    },
                    "execution_count": 70
                }
            ],
            "metadata": {}
        },
        {
            "source": "'x' in 'car'",
            "cell_type": "code",
            "execution_count": 71,
            "outputs": [
                {
                    "output_type": "execute_result",
                    "metadata": {},
                    "data": {
                        "text/plain": "False"
                    },
                    "execution_count": 71
                }
            ],
            "metadata": {}
        },
        {
            "source": "'why' in ['box','why','zebra']",
            "cell_type": "code",
            "execution_count": 76,
            "outputs": [
                {
                    "output_type": "execute_result",
                    "metadata": {},
                    "data": {
                        "text/plain": "True"
                    },
                    "execution_count": 76
                }
            ],
            "metadata": {}
        },
        {
            "source": "'4' in [1,2,3]",
            "cell_type": "code",
            "execution_count": 77,
            "outputs": [
                {
                    "output_type": "execute_result",
                    "metadata": {},
                    "data": {
                        "text/plain": "False"
                    },
                    "execution_count": 77
                }
            ],
            "metadata": {}
        },
        {
            "source": "apple = {'k1': 'butter', 'k2': 'ketchup'}",
            "cell_type": "code",
            "execution_count": 80,
            "outputs": [],
            "metadata": {}
        },
        {
            "source": "'butter' in apple.values()",
            "cell_type": "code",
            "execution_count": 85,
            "outputs": [
                {
                    "output_type": "execute_result",
                    "metadata": {},
                    "data": {
                        "text/plain": "True"
                    },
                    "execution_count": 85
                }
            ],
            "metadata": {}
        },
        {
            "source": "<h3>Tuple Unpacking</h3>",
            "cell_type": "markdown",
            "metadata": {}
        },
        {
            "source": "x = [(1,2),(3,4),(5,6)]",
            "cell_type": "code",
            "execution_count": 2,
            "outputs": [],
            "metadata": {}
        },
        {
            "source": "for item in x:\n    print(item)",
            "cell_type": "code",
            "execution_count": 88,
            "outputs": [
                {
                    "output_type": "stream",
                    "name": "stdout",
                    "text": "(1, 2)\n(3, 4)\n(5, 6)\n"
                }
            ],
            "metadata": {}
        },
        {
            "source": "for (a,b) in x:\n    print(a)",
            "cell_type": "code",
            "execution_count": 89,
            "outputs": [
                {
                    "output_type": "stream",
                    "name": "stdout",
                    "text": "1\n3\n5\n"
                }
            ],
            "metadata": {}
        },
        {
            "source": "for (a,b) in x:\n    print(b)",
            "cell_type": "code",
            "execution_count": 90,
            "outputs": [
                {
                    "output_type": "stream",
                    "name": "stdout",
                    "text": "2\n4\n6\n"
                }
            ],
            "metadata": {}
        },
        {
            "source": "[a for (a,b) in x]  # Unpacking Tuple using list comprehension to get the odd numbers",
            "cell_type": "code",
            "execution_count": 91,
            "outputs": [
                {
                    "output_type": "execute_result",
                    "metadata": {},
                    "data": {
                        "text/plain": "[1, 3, 5]"
                    },
                    "execution_count": 91
                }
            ],
            "metadata": {}
        },
        {
            "source": "[b for (a,b) in x] # Unpacking Tuple using list comprehension to get the even numbers",
            "cell_type": "code",
            "execution_count": 92,
            "outputs": [
                {
                    "output_type": "execute_result",
                    "metadata": {},
                    "data": {
                        "text/plain": "[2, 4, 6]"
                    },
                    "execution_count": 92
                }
            ],
            "metadata": {}
        },
        {
            "source": "h = [b for (a,b) in x] # Unpack Tuple using list comprehension and assign to h",
            "cell_type": "code",
            "execution_count": 3,
            "outputs": [],
            "metadata": {}
        },
        {
            "source": "h",
            "cell_type": "code",
            "execution_count": 4,
            "outputs": [
                {
                    "output_type": "execute_result",
                    "metadata": {},
                    "data": {
                        "text/plain": "[2, 4, 6]"
                    },
                    "execution_count": 4
                }
            ],
            "metadata": {}
        },
        {
            "source": "h[1] # Slice to get index value for 1",
            "cell_type": "code",
            "execution_count": 7,
            "outputs": [
                {
                    "output_type": "execute_result",
                    "metadata": {},
                    "data": {
                        "text/plain": "4"
                    },
                    "execution_count": 7
                }
            ],
            "metadata": {}
        },
        {
            "source": "",
            "cell_type": "code",
            "execution_count": null,
            "outputs": [],
            "metadata": {}
        }
    ],
    "nbformat": 4,
    "metadata": {
        "kernelspec": {
            "display_name": "Python 3.5",
            "name": "python3",
            "language": "python"
        },
        "language_info": {
            "mimetype": "text/x-python",
            "nbconvert_exporter": "python",
            "version": "3.5.5",
            "name": "python",
            "file_extension": ".py",
            "pygments_lexer": "ipython3",
            "codemirror_mode": {
                "version": 3,
                "name": "ipython"
            }
        }
    }
}