{
    "nbformat_minor": 1,
    "cells": [
        {
            "source": "<h1>Introduction to NumPy Arrays</h1>",
            "cell_type": "markdown",
            "metadata": {
                "collapsed": true
            }
        },
        {
            "source": "import numpy as np",
            "cell_type": "code",
            "execution_count": 1,
            "outputs": [],
            "metadata": {}
        },
        {
            "source": "my_list = [1,2,3]",
            "cell_type": "code",
            "execution_count": 2,
            "outputs": [],
            "metadata": {}
        },
        {
            "source": "my_list",
            "cell_type": "code",
            "execution_count": 3,
            "outputs": [
                {
                    "output_type": "execute_result",
                    "metadata": {},
                    "data": {
                        "text/plain": "[1, 2, 3]"
                    },
                    "execution_count": 3
                }
            ],
            "metadata": {}
        },
        {
            "source": "np.array(my_list)",
            "cell_type": "code",
            "execution_count": 4,
            "outputs": [
                {
                    "output_type": "execute_result",
                    "metadata": {},
                    "data": {
                        "text/plain": "array([1, 2, 3])"
                    },
                    "execution_count": 4
                }
            ],
            "metadata": {}
        },
        {
            "source": "arr = np.array(my_list) # Cast a one dimensional array",
            "cell_type": "code",
            "execution_count": 6,
            "outputs": [],
            "metadata": {}
        },
        {
            "source": "arr",
            "cell_type": "code",
            "execution_count": 7,
            "outputs": [
                {
                    "output_type": "execute_result",
                    "metadata": {},
                    "data": {
                        "text/plain": "array([1, 2, 3])"
                    },
                    "execution_count": 7
                }
            ],
            "metadata": {}
        },
        {
            "source": "my_mat = [[1,2,3],[4,5,6],[7,8,9]]",
            "cell_type": "code",
            "execution_count": 10,
            "outputs": [],
            "metadata": {}
        },
        {
            "source": "my_mat",
            "cell_type": "code",
            "execution_count": 11,
            "outputs": [
                {
                    "output_type": "execute_result",
                    "metadata": {},
                    "data": {
                        "text/plain": "[[1, 2, 3], [4, 5, 6], [7, 8, 9]]"
                    },
                    "execution_count": 11
                }
            ],
            "metadata": {}
        },
        {
            "source": "np.array(my_mat)  # Two dimensional array (2 sets of brackets) 3x3 (3 rows, 3 columns)",
            "cell_type": "code",
            "execution_count": 12,
            "outputs": [
                {
                    "output_type": "execute_result",
                    "metadata": {},
                    "data": {
                        "text/plain": "array([[1, 2, 3],\n       [4, 5, 6],\n       [7, 8, 9]])"
                    },
                    "execution_count": 12
                }
            ],
            "metadata": {}
        },
        {
            "source": "<h2>Numpy Arange</h2>",
            "cell_type": "markdown",
            "metadata": {}
        },
        {
            "source": "np.arange(0,11,2)   # Numpy arange method similar to python range(), used to generate arrays quickly. \n                    # Give start and stop value (and step count if necessary)\n                    # This example starts at 0, stops at 11 and steps by 2 for even values",
            "cell_type": "code",
            "execution_count": 14,
            "outputs": [
                {
                    "output_type": "execute_result",
                    "metadata": {},
                    "data": {
                        "text/plain": "array([ 0,  2,  4,  6,  8, 10])"
                    },
                    "execution_count": 14
                }
            ],
            "metadata": {}
        },
        {
            "source": "np.arange(10,20)",
            "cell_type": "code",
            "execution_count": 30,
            "outputs": [
                {
                    "output_type": "execute_result",
                    "metadata": {},
                    "data": {
                        "text/plain": "array([10, 11, 12, 13, 14, 15, 16, 17, 18, 19])"
                    },
                    "execution_count": 30
                }
            ],
            "metadata": {}
        },
        {
            "source": "<h2>NumPy Zeros and Ones</h2>",
            "cell_type": "markdown",
            "metadata": {}
        },
        {
            "source": "np.zeros(3)         # To get all zeros\n                    # This examples gives 3 zero values",
            "cell_type": "code",
            "execution_count": 16,
            "outputs": [
                {
                    "output_type": "execute_result",
                    "metadata": {},
                    "data": {
                        "text/plain": "array([ 0.,  0.,  0.])"
                    },
                    "execution_count": 16
                }
            ],
            "metadata": {}
        },
        {
            "source": "np.zeros((5,5))     # A tuple of zeros\n                    # This example gives 5x5 zeros from the tuple(5,5)",
            "cell_type": "code",
            "execution_count": 18,
            "outputs": [
                {
                    "output_type": "execute_result",
                    "metadata": {},
                    "data": {
                        "text/plain": "array([[ 0.,  0.,  0.,  0.,  0.],\n       [ 0.,  0.,  0.,  0.,  0.],\n       [ 0.,  0.,  0.,  0.,  0.],\n       [ 0.,  0.,  0.,  0.,  0.],\n       [ 0.,  0.,  0.,  0.,  0.]])"
                    },
                    "execution_count": 18
                }
            ],
            "metadata": {}
        },
        {
            "source": "np.zeros((2,3))   # 2x3 array of zeros created by tuple(2,3)",
            "cell_type": "code",
            "execution_count": 20,
            "outputs": [
                {
                    "output_type": "execute_result",
                    "metadata": {},
                    "data": {
                        "text/plain": "array([[ 0.,  0.,  0.],\n       [ 0.,  0.,  0.]])"
                    },
                    "execution_count": 20
                }
            ],
            "metadata": {}
        },
        {
            "source": "np.ones(4)",
            "cell_type": "code",
            "execution_count": 21,
            "outputs": [
                {
                    "output_type": "execute_result",
                    "metadata": {},
                    "data": {
                        "text/plain": "array([ 1.,  1.,  1.,  1.])"
                    },
                    "execution_count": 21
                }
            ],
            "metadata": {}
        },
        {
            "source": "np.ones((3,4))",
            "cell_type": "code",
            "execution_count": 22,
            "outputs": [
                {
                    "output_type": "execute_result",
                    "metadata": {},
                    "data": {
                        "text/plain": "array([[ 1.,  1.,  1.,  1.],\n       [ 1.,  1.,  1.,  1.],\n       [ 1.,  1.,  1.,  1.]])"
                    },
                    "execution_count": 22
                }
            ],
            "metadata": {}
        },
        {
            "source": "<h2>NumPy Linspace</h2>",
            "cell_type": "markdown",
            "metadata": {}
        },
        {
            "source": "np.linspace(0,5,100)     # Linspace: provide start, stop, and distance between each value (the specified interval)\n                         # Returns evenly spaced over a specified interval\n                         # This example returns a 1 dimensional array from 0 to 5, with 100 evenly spaced points between 0 and 5",
            "cell_type": "code",
            "execution_count": 29,
            "outputs": [
                {
                    "output_type": "execute_result",
                    "metadata": {},
                    "data": {
                        "text/plain": "array([ 0.        ,  0.05050505,  0.1010101 ,  0.15151515,  0.2020202 ,\n        0.25252525,  0.3030303 ,  0.35353535,  0.4040404 ,  0.45454545,\n        0.50505051,  0.55555556,  0.60606061,  0.65656566,  0.70707071,\n        0.75757576,  0.80808081,  0.85858586,  0.90909091,  0.95959596,\n        1.01010101,  1.06060606,  1.11111111,  1.16161616,  1.21212121,\n        1.26262626,  1.31313131,  1.36363636,  1.41414141,  1.46464646,\n        1.51515152,  1.56565657,  1.61616162,  1.66666667,  1.71717172,\n        1.76767677,  1.81818182,  1.86868687,  1.91919192,  1.96969697,\n        2.02020202,  2.07070707,  2.12121212,  2.17171717,  2.22222222,\n        2.27272727,  2.32323232,  2.37373737,  2.42424242,  2.47474747,\n        2.52525253,  2.57575758,  2.62626263,  2.67676768,  2.72727273,\n        2.77777778,  2.82828283,  2.87878788,  2.92929293,  2.97979798,\n        3.03030303,  3.08080808,  3.13131313,  3.18181818,  3.23232323,\n        3.28282828,  3.33333333,  3.38383838,  3.43434343,  3.48484848,\n        3.53535354,  3.58585859,  3.63636364,  3.68686869,  3.73737374,\n        3.78787879,  3.83838384,  3.88888889,  3.93939394,  3.98989899,\n        4.04040404,  4.09090909,  4.14141414,  4.19191919,  4.24242424,\n        4.29292929,  4.34343434,  4.39393939,  4.44444444,  4.49494949,\n        4.54545455,  4.5959596 ,  4.64646465,  4.6969697 ,  4.74747475,\n        4.7979798 ,  4.84848485,  4.8989899 ,  4.94949495,  5.        ])"
                    },
                    "execution_count": 29
                }
            ],
            "metadata": {}
        },
        {
            "source": "<h2>Identity Matrix using NumPy</h2>",
            "cell_type": "markdown",
            "metadata": {}
        },
        {
            "source": "np.eye(4)      # Eye\n               # 2 dimensional array, rows and columns are the same size (Takes only one argument)\n               # Used to provide zeros and ones\n               # Ones are diagonal",
            "cell_type": "code",
            "execution_count": 5,
            "outputs": [
                {
                    "output_type": "execute_result",
                    "metadata": {},
                    "data": {
                        "text/plain": "array([[ 1.,  0.,  0.,  0.],\n       [ 0.,  1.,  0.,  0.],\n       [ 0.,  0.,  1.,  0.],\n       [ 0.,  0.,  0.,  1.]])"
                    },
                    "execution_count": 5
                }
            ],
            "metadata": {}
        },
        {
            "source": "<h3> Random Numbers</h3>",
            "cell_type": "markdown",
            "metadata": {}
        },
        {
            "source": "np.random.rand(5)    # RAND\n                     # 1 dimensional array of random numbers, based on the value provided \n                     # Random sample of numbers are uniformly distributed between 0 and 1",
            "cell_type": "code",
            "execution_count": 34,
            "outputs": [
                {
                    "output_type": "execute_result",
                    "metadata": {},
                    "data": {
                        "text/plain": "array([ 0.82704918,  0.4291216 ,  0.67049251,  0.75782795,  0.61012561])"
                    },
                    "execution_count": 34
                }
            ],
            "metadata": {}
        },
        {
            "source": "np.random.rand(10)   # This example provides 10 random numbers between 0 and 1",
            "cell_type": "code",
            "execution_count": 37,
            "outputs": [
                {
                    "output_type": "execute_result",
                    "metadata": {},
                    "data": {
                        "text/plain": "array([ 0.00781381,  0.18550234,  0.93627762,  0.39582837,  0.75116074,\n        0.41685195,  0.06590642,  0.51952122,  0.79842323,  0.77912565])"
                    },
                    "execution_count": 37
                }
            ],
            "metadata": {}
        },
        {
            "source": "np.random.rand(5,5)  # Two dimensional array, pass in two values (not as a tuple)",
            "cell_type": "code",
            "execution_count": 38,
            "outputs": [
                {
                    "output_type": "execute_result",
                    "metadata": {},
                    "data": {
                        "text/plain": "array([[ 0.93669631,  0.54050318,  0.0285361 ,  0.98174844,  0.43881975],\n       [ 0.15698142,  0.56642958,  0.77576585,  0.4082741 ,  0.88151122],\n       [ 0.40399126,  0.12926492,  0.89250812,  0.35379505,  0.8728606 ],\n       [ 0.19529333,  0.09984875,  0.80600053,  0.62529086,  0.2177796 ],\n       [ 0.91609614,  0.78869031,  0.66277728,  0.83659764,  0.51012262]])"
                    },
                    "execution_count": 38
                }
            ],
            "metadata": {}
        },
        {
            "source": "np.random.randn(2)    # RANDN\n                      # Random numbers returned from a normal distribution, around zero ",
            "cell_type": "code",
            "execution_count": 40,
            "outputs": [
                {
                    "output_type": "execute_result",
                    "metadata": {},
                    "data": {
                        "text/plain": "array([-1.41007222,  0.6867951 ])"
                    },
                    "execution_count": 40
                }
            ],
            "metadata": {}
        },
        {
            "source": "np.random.randn(4,4)  # RANDN\n                      # Two dimensional array 4x4, with random numbers\n                      # Values passed not as tuples; (just comma seperated values)",
            "cell_type": "code",
            "execution_count": 41,
            "outputs": [
                {
                    "output_type": "execute_result",
                    "metadata": {},
                    "data": {
                        "text/plain": "array([[-0.62833748, -1.19686445, -0.82270899, -2.33947464],\n       [ 0.07235767,  0.26281316, -0.08631764, -0.58888288],\n       [-0.8399922 , -0.38952511, -0.8059327 ,  0.3593052 ],\n       [-0.02910016,  0.8767743 , -0.07315284, -0.12665325]])"
                    },
                    "execution_count": 41
                }
            ],
            "metadata": {}
        },
        {
            "source": "np.random.randint(1,100)   # RANDINT\n                           # Returns a random interger from a low to a high number passed into the method (between 1 and 100 in this example)",
            "cell_type": "code",
            "execution_count": 6,
            "outputs": [
                {
                    "output_type": "execute_result",
                    "metadata": {},
                    "data": {
                        "text/plain": "48"
                    },
                    "execution_count": 6
                }
            ],
            "metadata": {}
        },
        {
            "source": "np.random.randint(1,100,10)  # Returns 10 random intergers, between 1 and 100, in this example",
            "cell_type": "code",
            "execution_count": 7,
            "outputs": [
                {
                    "output_type": "execute_result",
                    "metadata": {},
                    "data": {
                        "text/plain": "array([ 3, 55, 22, 84, 96, 45, 16, 49, 64, 54])"
                    },
                    "execution_count": 7
                }
            ],
            "metadata": {}
        },
        {
            "source": "<h3>Attributes and Methods of Arrays</h3>",
            "cell_type": "markdown",
            "metadata": {}
        },
        {
            "source": "<h4>RESHAPE</h4>",
            "cell_type": "markdown",
            "metadata": {}
        },
        {
            "source": "arr = np.arange(25)",
            "cell_type": "code",
            "execution_count": 8,
            "outputs": [],
            "metadata": {}
        },
        {
            "source": "arr",
            "cell_type": "code",
            "execution_count": 9,
            "outputs": [
                {
                    "output_type": "execute_result",
                    "metadata": {},
                    "data": {
                        "text/plain": "array([ 0,  1,  2,  3,  4,  5,  6,  7,  8,  9, 10, 11, 12, 13, 14, 15, 16,\n       17, 18, 19, 20, 21, 22, 23, 24])"
                    },
                    "execution_count": 9
                }
            ],
            "metadata": {}
        },
        {
            "source": "ranarr = np.random.randint(0,50,10)",
            "cell_type": "code",
            "execution_count": 10,
            "outputs": [],
            "metadata": {}
        },
        {
            "source": "ranarr",
            "cell_type": "code",
            "execution_count": 11,
            "outputs": [
                {
                    "output_type": "execute_result",
                    "metadata": {},
                    "data": {
                        "text/plain": "array([25, 36, 45, 17, 46, 33, 24, 36, 24, 44])"
                    },
                    "execution_count": 11
                }
            ],
            "metadata": {}
        },
        {
            "source": "arr.reshape(5,5)    # RESHAPE\n                    # Return an array of same data, but with a new shape\n                    # Notice in arr above, how the array is 1 dimensional\n                    # Reshape made the array 2 dimensional, as a 5x5. ",
            "cell_type": "code",
            "execution_count": 12,
            "outputs": [
                {
                    "output_type": "execute_result",
                    "metadata": {},
                    "data": {
                        "text/plain": "array([[ 0,  1,  2,  3,  4],\n       [ 5,  6,  7,  8,  9],\n       [10, 11, 12, 13, 14],\n       [15, 16, 17, 18, 19],\n       [20, 21, 22, 23, 24]])"
                    },
                    "execution_count": 12
                }
            ],
            "metadata": {}
        },
        {
            "source": "arr.reshape(5,10)   # An Error will be returned if the array isn't filled up completely with elements\n                    # In this example, 50 elements (5,10) would be needed to fill up the array, \n                    # since arr only has 25 elements defined (arr = np.arange(25)) \n                    # The number of rows x columns should equal the actual number of elements.",
            "cell_type": "code",
            "execution_count": 13,
            "outputs": [
                {
                    "output_type": "error",
                    "evalue": "cannot reshape array of size 25 into shape (5,10)",
                    "traceback": [
                        "\u001b[0;31m---------------------------------------------------------------------------\u001b[0m",
                        "\u001b[0;31mValueError\u001b[0m                                Traceback (most recent call last)",
                        "\u001b[0;32m<ipython-input-13-5f9d63542514>\u001b[0m in \u001b[0;36m<module>\u001b[0;34m()\u001b[0m\n\u001b[0;32m----> 1\u001b[0;31m \u001b[0marr\u001b[0m\u001b[0;34m.\u001b[0m\u001b[0mreshape\u001b[0m\u001b[0;34m(\u001b[0m\u001b[0;36m5\u001b[0m\u001b[0;34m,\u001b[0m\u001b[0;36m10\u001b[0m\u001b[0;34m)\u001b[0m\u001b[0;34m\u001b[0m\u001b[0m\n\u001b[0m",
                        "\u001b[0;31mValueError\u001b[0m: cannot reshape array of size 25 into shape (5,10)"
                    ],
                    "ename": "ValueError"
                }
            ],
            "metadata": {}
        },
        {
            "source": "<h4>MAX and MIN</h4>",
            "cell_type": "markdown",
            "metadata": {}
        },
        {
            "source": "ranarr",
            "cell_type": "code",
            "execution_count": 20,
            "outputs": [
                {
                    "output_type": "execute_result",
                    "metadata": {},
                    "data": {
                        "text/plain": "array([25, 36, 45, 17, 46, 33, 24, 36, 24, 44])"
                    },
                    "execution_count": 20
                }
            ],
            "metadata": {}
        },
        {
            "source": "ranarr.max()        # MAX \n                    # Find the max value of an array",
            "cell_type": "code",
            "execution_count": 19,
            "outputs": [
                {
                    "output_type": "execute_result",
                    "metadata": {},
                    "data": {
                        "text/plain": "46"
                    },
                    "execution_count": 19
                }
            ],
            "metadata": {}
        },
        {
            "source": "ranarr.min()        # MIN \n                    # Find the max value of an array",
            "cell_type": "code",
            "execution_count": 22,
            "outputs": [
                {
                    "output_type": "execute_result",
                    "metadata": {},
                    "data": {
                        "text/plain": "17"
                    },
                    "execution_count": 22
                }
            ],
            "metadata": {}
        },
        {
            "source": "ranarr",
            "cell_type": "code",
            "execution_count": 23,
            "outputs": [
                {
                    "output_type": "execute_result",
                    "metadata": {},
                    "data": {
                        "text/plain": "array([25, 36, 45, 17, 46, 33, 24, 36, 24, 44])"
                    },
                    "execution_count": 23
                }
            ],
            "metadata": {}
        },
        {
            "source": "ranarr.argmax()     # ARGMAX()\n                    # Find the *index location* of the MAX value",
            "cell_type": "code",
            "execution_count": 24,
            "outputs": [
                {
                    "output_type": "execute_result",
                    "metadata": {},
                    "data": {
                        "text/plain": "4"
                    },
                    "execution_count": 24
                }
            ],
            "metadata": {}
        },
        {
            "source": "ranarr.argmin()     # ARGMIN()\n                    # Find the *index location* of the MIN value",
            "cell_type": "code",
            "execution_count": 37,
            "outputs": [
                {
                    "output_type": "execute_result",
                    "metadata": {},
                    "data": {
                        "text/plain": "3"
                    },
                    "execution_count": 37
                }
            ],
            "metadata": {}
        },
        {
            "source": "<h4>SHAPE</h4>",
            "cell_type": "markdown",
            "metadata": {}
        },
        {
            "source": "arr.shape           # SHAPE\n                    # Get the shape of an array\n                    # This example shows the arr array as 1 dimensional with 25 elements",
            "cell_type": "code",
            "execution_count": 27,
            "outputs": [
                {
                    "output_type": "execute_result",
                    "metadata": {},
                    "data": {
                        "text/plain": "(25,)"
                    },
                    "execution_count": 27
                }
            ],
            "metadata": {}
        },
        {
            "source": "arr = arr.reshape(5,5)   # Reshape the array as 5x5",
            "cell_type": "code",
            "execution_count": 29,
            "outputs": [],
            "metadata": {}
        },
        {
            "source": "arr.shape           # This now shows the arr array as 5x5",
            "cell_type": "code",
            "execution_count": 30,
            "outputs": [
                {
                    "output_type": "execute_result",
                    "metadata": {},
                    "data": {
                        "text/plain": "(5, 5)"
                    },
                    "execution_count": 30
                }
            ],
            "metadata": {}
        },
        {
            "source": "<h4>Find the data type of an array </h4>",
            "cell_type": "markdown",
            "metadata": {}
        },
        {
            "source": "arr.dtype           # DTYPE\n                    # This will return the data type for the array\n                    # In this example, this is a 64 bit interger data type array",
            "cell_type": "code",
            "execution_count": 31,
            "outputs": [
                {
                    "output_type": "execute_result",
                    "metadata": {},
                    "data": {
                        "text/plain": "dtype('int64')"
                    },
                    "execution_count": 31
                }
            ],
            "metadata": {}
        },
        {
            "source": "<h4>Import functions - Shorthand syntax</h4>",
            "cell_type": "markdown",
            "metadata": {}
        },
        {
            "source": "# Instead of typing out np.random.randint(1,100,10),\n# Import randint from the numpy.random library",
            "cell_type": "code",
            "execution_count": 32,
            "outputs": [],
            "metadata": {}
        },
        {
            "source": "from numpy.random import randint ",
            "cell_type": "code",
            "execution_count": 40,
            "outputs": [],
            "metadata": {}
        },
        {
            "source": "randint(1,100,10)      ",
            "cell_type": "code",
            "execution_count": 42,
            "outputs": [
                {
                    "output_type": "execute_result",
                    "metadata": {},
                    "data": {
                        "text/plain": "array([ 8, 61, 55, 99, 64, 27, 69, 96, 15, 86])"
                    },
                    "execution_count": 42
                }
            ],
            "metadata": {}
        },
        {
            "source": "",
            "cell_type": "code",
            "execution_count": null,
            "outputs": [],
            "metadata": {}
        }
    ],
    "nbformat": 4,
    "metadata": {
        "kernelspec": {
            "display_name": "Python 3.5",
            "name": "python3",
            "language": "python"
        },
        "language_info": {
            "mimetype": "text/x-python",
            "nbconvert_exporter": "python",
            "version": "3.5.5",
            "name": "python",
            "pygments_lexer": "ipython3",
            "file_extension": ".py",
            "codemirror_mode": {
                "version": 3,
                "name": "ipython"
            }
        }
    }
}