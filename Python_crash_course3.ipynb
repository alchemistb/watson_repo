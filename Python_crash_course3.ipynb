{
    "nbformat_minor": 1,
    "cells": [
        {
            "source": "<h3>FOR LOOPS/WHILE LOOPS</h3>",
            "cell_type": "markdown",
            "metadata": {
                "collapsed": true
            }
        },
        {
            "source": "# For Loops are used to iterate through a sequence of data",
            "cell_type": "code",
            "execution_count": 2,
            "outputs": [],
            "metadata": {}
        },
        {
            "source": "seq = [1,2,3,4,5]",
            "cell_type": "code",
            "execution_count": 3,
            "outputs": [],
            "metadata": {}
        },
        {
            "source": "for item in seq:\n    print(item)",
            "cell_type": "code",
            "execution_count": 6,
            "outputs": [
                {
                    "output_type": "stream",
                    "name": "stdout",
                    "text": "1\n2\n3\n4\n5\n"
                }
            ],
            "metadata": {}
        },
        {
            "source": "i = 1\nwhile i < 5:\n    print('i is:{}'.format(i))\n    i+=1\n   ",
            "cell_type": "code",
            "execution_count": 7,
            "outputs": [
                {
                    "output_type": "stream",
                    "name": "stdout",
                    "text": "i is:1\ni is:2\ni is:3\ni is:4\n"
                }
            ],
            "metadata": {}
        },
        {
            "source": "<h3>Range</h3>",
            "cell_type": "markdown",
            "metadata": {}
        },
        {
            "source": "# Generates numbers",
            "cell_type": "code",
            "execution_count": null,
            "outputs": [],
            "metadata": {}
        },
        {
            "source": "range(0,5) # Range Starting at 0 and ending at 5",
            "cell_type": "code",
            "execution_count": 8,
            "outputs": [
                {
                    "output_type": "execute_result",
                    "metadata": {},
                    "data": {
                        "text/plain": "range(0, 5)"
                    },
                    "execution_count": 8
                }
            ],
            "metadata": {}
        },
        {
            "source": "for x in range(0,5):\n    print(x)",
            "cell_type": "code",
            "execution_count": 9,
            "outputs": [
                {
                    "output_type": "stream",
                    "name": "stdout",
                    "text": "0\n1\n2\n3\n4\n"
                }
            ],
            "metadata": {}
        },
        {
            "source": "list(range(0,5)) # Put range inside of a list",
            "cell_type": "code",
            "execution_count": 31,
            "outputs": [
                {
                    "output_type": "execute_result",
                    "metadata": {},
                    "data": {
                        "text/plain": "[0, 1, 2, 3, 4]"
                    },
                    "execution_count": 31
                }
            ],
            "metadata": {}
        },
        {
            "source": "list(range(10)) # Put range of 10 values inside of a list",
            "cell_type": "code",
            "execution_count": 32,
            "outputs": [
                {
                    "output_type": "execute_result",
                    "metadata": {},
                    "data": {
                        "text/plain": "[0, 1, 2, 3, 4, 5, 6, 7, 8, 9]"
                    },
                    "execution_count": 32
                }
            ],
            "metadata": {}
        },
        {
            "source": "<h3>List Comprehension</h3>",
            "cell_type": "markdown",
            "metadata": {}
        },
        {
            "source": "# Reducing a FOR Loop Syntax to one line, and into a list",
            "cell_type": "code",
            "execution_count": 33,
            "outputs": [],
            "metadata": {}
        },
        {
            "source": "x = [1,2,3,4]",
            "cell_type": "code",
            "execution_count": 34,
            "outputs": [],
            "metadata": {}
        },
        {
            "source": "out = []",
            "cell_type": "code",
            "execution_count": 35,
            "outputs": [],
            "metadata": {}
        },
        {
            "source": "for num in x:\n    out.append(num**2) # Get the sqaure of each value in x list",
            "cell_type": "code",
            "execution_count": 21,
            "outputs": [],
            "metadata": {}
        },
        {
            "source": "print(out)",
            "cell_type": "code",
            "execution_count": 22,
            "outputs": [
                {
                    "output_type": "stream",
                    "name": "stdout",
                    "text": "[1, 4, 9, 16]\n"
                }
            ],
            "metadata": {}
        },
        {
            "source": "# List Comprehension Steps:\n# Step 1 make an empty list []\n# Step 2 add the 'what do you want the output to be' part first (num **2) inside of the list\n# Step 3 include the FOR loop part (for num in x) inside of the list",
            "cell_type": "code",
            "execution_count": 27,
            "outputs": [],
            "metadata": {}
        },
        {
            "source": "[num**2 for num in x]",
            "cell_type": "code",
            "execution_count": 25,
            "outputs": [
                {
                    "output_type": "execute_result",
                    "metadata": {},
                    "data": {
                        "text/plain": "[1, 4, 9, 16]"
                    },
                    "execution_count": 25
                }
            ],
            "metadata": {}
        },
        {
            "source": "<h3>Functions</h3>",
            "cell_type": "markdown",
            "metadata": {}
        },
        {
            "source": "def my_func(param1):\n    print(param1)",
            "cell_type": "code",
            "execution_count": 89,
            "outputs": [],
            "metadata": {}
        },
        {
            "source": "my_func('Hello')",
            "cell_type": "code",
            "execution_count": 90,
            "outputs": [
                {
                    "output_type": "stream",
                    "name": "stdout",
                    "text": "Hello\n"
                }
            ],
            "metadata": {}
        },
        {
            "source": "def my_func(name):\n    \"\"\"\n    THIS FUNCTION PRINTS OUT HELLO + 'NAME'\n    \"\"\"\n    print('Hello ' + name)",
            "cell_type": "code",
            "execution_count": 91,
            "outputs": [],
            "metadata": {}
        },
        {
            "source": "my_func('Jose')",
            "cell_type": "code",
            "execution_count": 92,
            "outputs": [
                {
                    "output_type": "stream",
                    "name": "stdout",
                    "text": "Hello Jose\n"
                }
            ],
            "metadata": {}
        },
        {
            "source": "def square(num):\n    \"\"\"\n    THIS IS A DOCSTRING\n    CAN GO MULTIPLE LINES.\n    THIS FUNCTION SQUARES A NUMBER.\n    \"\"\"\n    return(num**2) #Return the square of a variable",
            "cell_type": "code",
            "execution_count": 84,
            "outputs": [],
            "metadata": {}
        },
        {
            "source": "output = square(2)",
            "cell_type": "code",
            "execution_count": 85,
            "outputs": [],
            "metadata": {}
        },
        {
            "source": "output",
            "cell_type": "code",
            "execution_count": 86,
            "outputs": [
                {
                    "output_type": "execute_result",
                    "metadata": {},
                    "data": {
                        "text/plain": "4"
                    },
                    "execution_count": 86
                }
            ],
            "metadata": {}
        },
        {
            "source": "# Use SHIFT + TAB with cursor on the last letter to pull up the signature call of a function \n# This is possible by adding the \"\"\" and comments in RED in the above square function\n# Very neat trick/tip to use!\nsquare  \nmy_func\nrange",
            "cell_type": "code",
            "execution_count": 87,
            "outputs": [
                {
                    "output_type": "execute_result",
                    "metadata": {},
                    "data": {
                        "text/plain": "<function __main__.my_func>"
                    },
                    "execution_count": 87
                }
            ],
            "metadata": {}
        },
        {
            "source": "",
            "cell_type": "code",
            "execution_count": null,
            "outputs": [],
            "metadata": {}
        }
    ],
    "nbformat": 4,
    "metadata": {
        "kernelspec": {
            "display_name": "Python 3.5",
            "name": "python3",
            "language": "python"
        },
        "language_info": {
            "mimetype": "text/x-python",
            "nbconvert_exporter": "python",
            "version": "3.5.5",
            "name": "python",
            "pygments_lexer": "ipython3",
            "file_extension": ".py",
            "codemirror_mode": {
                "version": 3,
                "name": "ipython"
            }
        }
    }
}