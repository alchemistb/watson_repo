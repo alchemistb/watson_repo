{
    "nbformat_minor": 1,
    "cells": [
        {
            "source": "___\n\n<a href='http://www.pieriandata.com'> <img src='../Pierian_Data_Logo.png' /></a>\n___\n# Python Crash Course Exercises \n\nThis is an optional exercise to test your understanding of Python Basics. If you find this extremely challenging, then you probably are not ready for the rest of this course yet and don't have enough programming experience to continue. I would suggest you take another course more geared towards complete beginners, such as [Complete Python Bootcamp](https://www.udemy.com/complete-python-bootcamp/?couponCode=PY20)",
            "cell_type": "markdown",
            "metadata": {}
        },
        {
            "source": "## Exercises\n\nAnswer the questions or complete the tasks outlined in bold below, use the specific method described if applicable.",
            "cell_type": "markdown",
            "metadata": {}
        },
        {
            "source": "** What is 7 to the power of 4?**",
            "cell_type": "markdown",
            "metadata": {}
        },
        {
            "source": "7**4",
            "cell_type": "code",
            "execution_count": 2,
            "outputs": [
                {
                    "output_type": "execute_result",
                    "metadata": {},
                    "data": {
                        "text/plain": "2401"
                    },
                    "execution_count": 2
                }
            ],
            "metadata": {}
        },
        {
            "source": "** Split this string:**\n\n    s = \"Hi there Sam!\"\n    \n**into a list. **",
            "cell_type": "markdown",
            "metadata": {}
        },
        {
            "source": "s = \"Hi there Sam!\"",
            "cell_type": "code",
            "execution_count": 4,
            "outputs": [],
            "metadata": {}
        },
        {
            "source": "s.split()",
            "cell_type": "code",
            "execution_count": 5,
            "outputs": [
                {
                    "output_type": "execute_result",
                    "metadata": {},
                    "data": {
                        "text/plain": "['Hi', 'there', 'Sam!']"
                    },
                    "execution_count": 5
                }
            ],
            "metadata": {}
        },
        {
            "source": "** Given the variables:**\n\n    planet = \"Earth\"\n    diameter = 12742\n\n** Use .format() to print the following string: **\n\n    The diameter of Earth is 12742 kilometers.",
            "cell_type": "markdown",
            "metadata": {}
        },
        {
            "source": "planet = \"Earth\"\ndiameter = 12742",
            "cell_type": "code",
            "execution_count": 7,
            "outputs": [],
            "metadata": {}
        },
        {
            "source": "print('The diameter of {} is {} kilometers.'.format(planet,diameter))",
            "cell_type": "code",
            "execution_count": 8,
            "outputs": [
                {
                    "output_type": "stream",
                    "name": "stdout",
                    "text": "The diameter of Earth is 12742 kilometers.\n"
                }
            ],
            "metadata": {}
        },
        {
            "source": "** Given this nested list, use indexing to grab the word \"hello\" **",
            "cell_type": "markdown",
            "metadata": {}
        },
        {
            "source": "lst = [1,2,[3,4],[5,[100,200,['hello']],23,11],1,7]",
            "cell_type": "code",
            "execution_count": 10,
            "outputs": [],
            "metadata": {}
        },
        {
            "source": "lst[3][1][2][0]",
            "cell_type": "code",
            "execution_count": 11,
            "outputs": [
                {
                    "output_type": "execute_result",
                    "metadata": {},
                    "data": {
                        "text/plain": "'hello'"
                    },
                    "execution_count": 11
                }
            ],
            "metadata": {}
        },
        {
            "source": "** Given this nested dictionary grab the word \"hello\". Be prepared, this will be annoying/tricky **",
            "cell_type": "markdown",
            "metadata": {}
        },
        {
            "source": "d = {'k1':[1,2,3,{'tricky':['oh','man','inception',{'target':[1,2,3,'hello']}]}]}",
            "cell_type": "code",
            "execution_count": 18,
            "outputs": [],
            "metadata": {}
        },
        {
            "source": "d['k1'][3]['tricky'][3]['target'][3]",
            "cell_type": "code",
            "execution_count": 37,
            "outputs": [
                {
                    "output_type": "execute_result",
                    "metadata": {},
                    "data": {
                        "text/plain": "'hello'"
                    },
                    "execution_count": 37
                }
            ],
            "metadata": {}
        },
        {
            "source": "** What is the main difference between a tuple and a list? **",
            "cell_type": "markdown",
            "metadata": {}
        },
        {
            "source": "# Tuple is immutable\n# List is mutable",
            "cell_type": "code",
            "execution_count": 38,
            "outputs": [],
            "metadata": {}
        },
        {
            "source": "** Create a function that grabs the email website domain from a string in the form: **\n\n    user@domain.com\n    \n**So for example, passing \"user@domain.com\" would return: domain.com**",
            "cell_type": "markdown",
            "metadata": {}
        },
        {
            "source": "def domainGet(email):\n    return email.split('@')[1]",
            "cell_type": "code",
            "execution_count": 31,
            "outputs": [],
            "metadata": {}
        },
        {
            "source": "domainGet('user@domain.com')",
            "cell_type": "code",
            "execution_count": 16,
            "outputs": [
                {
                    "output_type": "execute_result",
                    "metadata": {},
                    "data": {
                        "text/plain": "'domain.com'"
                    },
                    "execution_count": 16
                }
            ],
            "metadata": {}
        },
        {
            "source": "** Create a basic function that returns True if the word 'dog' is contained in the input string. Don't worry about edge cases like a punctuation being attached to the word dog, but do account for capitalization. **",
            "cell_type": "markdown",
            "metadata": {}
        },
        {
            "source": "def findDog(s):\n    return 'dog' in s.lower().split()",
            "cell_type": "code",
            "execution_count": 28,
            "outputs": [],
            "metadata": {}
        },
        {
            "source": "findDog('Is there a dog here?')",
            "cell_type": "code",
            "execution_count": 29,
            "outputs": [
                {
                    "output_type": "execute_result",
                    "metadata": {},
                    "data": {
                        "text/plain": "True"
                    },
                    "execution_count": 29
                }
            ],
            "metadata": {}
        },
        {
            "source": "findDog('Is there a cat here?')",
            "cell_type": "code",
            "execution_count": 30,
            "outputs": [
                {
                    "output_type": "execute_result",
                    "metadata": {},
                    "data": {
                        "text/plain": "False"
                    },
                    "execution_count": 30
                }
            ],
            "metadata": {}
        },
        {
            "source": "** Create a function that counts the number of times the word \"dog\" occurs in a string. Again ignore edge cases. **",
            "cell_type": "markdown",
            "metadata": {}
        },
        {
            "source": "def countDog(st):\n    count = 0\n    for word in st.lower().split():\n        if word == 'dog':\n            count += 1\n    return count        ",
            "cell_type": "code",
            "execution_count": 5,
            "outputs": [],
            "metadata": {}
        },
        {
            "source": "countDog('This dog runs faster than the other dog dude!')",
            "cell_type": "code",
            "execution_count": 10,
            "outputs": [
                {
                    "output_type": "execute_result",
                    "metadata": {},
                    "data": {
                        "text/plain": "2"
                    },
                    "execution_count": 10
                }
            ],
            "metadata": {}
        },
        {
            "source": "def count2(var):\n    count = 0\n    for word in var.lower().split():\n        if 'dog' in word:\n            count += 1\n    return count      ",
            "cell_type": "code",
            "execution_count": 18,
            "outputs": [],
            "metadata": {}
        },
        {
            "source": "count2('This dog runs faster than the other dog dog dog dog!')",
            "cell_type": "code",
            "execution_count": 19,
            "outputs": [
                {
                    "output_type": "execute_result",
                    "metadata": {},
                    "data": {
                        "text/plain": "5"
                    },
                    "execution_count": 19
                }
            ],
            "metadata": {}
        },
        {
            "source": "<b>Use lambda expressions and the filter() function to filter out words from a list that don't start with the letter 's'. For example:</b>\n\nseq = ['soup','dog','salad','cat','great']\n\n<b>should be filtered down to:</b>\n\n['soup','salad']",
            "cell_type": "markdown",
            "metadata": {}
        },
        {
            "source": "seq = ['soup','dog','salad','cat','great']",
            "cell_type": "code",
            "execution_count": 7,
            "outputs": [],
            "metadata": {}
        },
        {
            "source": "list(filter(lambda word: word[0] == 's',seq))    # Use Lambda, take a word and search the first index[0] for 's' against the seq list\n                                                 # Wrap the filter inside a list   ",
            "cell_type": "code",
            "execution_count": 24,
            "outputs": [
                {
                    "output_type": "execute_result",
                    "metadata": {},
                    "data": {
                        "text/plain": "['soup', 'salad']"
                    },
                    "execution_count": 24
                }
            ],
            "metadata": {}
        },
        {
            "source": "### Final Problem\n**You are driving a little too fast, and a police officer stops you. Write a function\n  to return one of 3 possible results: \"No ticket\", \"Small ticket\", or \"Big Ticket\". \n  If your speed is 60 or less, the result is \"No Ticket\". If speed is between 61 \n  and 80 inclusive, the result is \"Small Ticket\". If speed is 81 or more, the result is \"Big    Ticket\". Unless it is your birthday (encoded as a boolean value in the parameters of the function) -- on your birthday, your speed can be 5 higher in all \n  cases. **",
            "cell_type": "markdown",
            "metadata": {}
        },
        {
            "source": "def caught_speeding(speed, is_birthday):\n    if is_birthday:\n        speeding = speed - 5\n    else:\n        speeding = speed\n        \n    if speeding > 80:\n        return 'Big Ticket'\n    elif speeding > 60:\n        return 'Small Ticket'\n    else:\n        return 'No Ticket'",
            "cell_type": "code",
            "execution_count": 25,
            "outputs": [],
            "metadata": {}
        },
        {
            "source": "caught_speeding(81,True)",
            "cell_type": "code",
            "execution_count": 26,
            "outputs": [
                {
                    "output_type": "execute_result",
                    "metadata": {},
                    "data": {
                        "text/plain": "'Small Ticket'"
                    },
                    "execution_count": 26
                }
            ],
            "metadata": {}
        },
        {
            "source": "caught_speeding(81,False)",
            "cell_type": "code",
            "execution_count": 27,
            "outputs": [
                {
                    "output_type": "execute_result",
                    "metadata": {},
                    "data": {
                        "text/plain": "'Big Ticket'"
                    },
                    "execution_count": 27
                }
            ],
            "metadata": {}
        },
        {
            "source": "# Great job!",
            "cell_type": "markdown",
            "metadata": {}
        }
    ],
    "nbformat": 4,
    "metadata": {
        "kernelspec": {
            "display_name": "Python 3.5",
            "name": "python3",
            "language": "python"
        },
        "language_info": {
            "mimetype": "text/x-python",
            "nbconvert_exporter": "python",
            "version": "3.5.5",
            "name": "python",
            "file_extension": ".py",
            "pygments_lexer": "ipython3",
            "codemirror_mode": {
                "version": 3,
                "name": "ipython"
            }
        }
    }
}