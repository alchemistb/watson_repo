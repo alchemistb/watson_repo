{
    "nbformat_minor": 1,
    "cells": [
        {
            "source": "___\n\n<a href='http://www.pieriandata.com'> <img src='../../Pierian_Data_Logo.png' /></a>\n___\n# Ecommerce Purchases Exercise\n\nIn this Exercise you will be given some Fake Data about some purchases done through Amazon! Just go ahead and follow the directions and try your best to answer the questions and complete the tasks. Feel free to reference the solutions. Most of the tasks can be solved in different ways. For the most part, the questions get progressively harder.\n\nPlease excuse anything that doesn't make \"Real-World\" sense in the dataframe, all the data is fake and made-up.\n\nAlso note that all of these questions can be answered with one line of code.\n____\n** Import pandas and read in the Ecommerce Purchases csv file and set it to a DataFrame called ecom. **",
            "cell_type": "markdown",
            "metadata": {}
        },
        {
            "source": "\nimport types\nimport pandas as pd\nimport numpy as np\nfrom botocore.client import Config\nimport ibm_boto3\n\ndef __iter__(self): return 0\n\n# @hidden_cell\n# The following code accesses a file in your IBM Cloud Object Storage. It includes your credentials.\n# You might want to remove those credentials before you share your notebook.\nclient_c301c8e200a34ae486a32a40454568f1 = ibm_boto3.client(service_name='s3',\n    ibm_api_key_id='D3_G27FYSAYWOwELXqebZnpnv235igW_eE9duzj2TzyD',\n    ibm_auth_endpoint=\"https://iam.bluemix.net/oidc/token\",\n    config=Config(signature_version='oauth'),\n    endpoint_url='https://s3-api.us-geo.objectstorage.service.networklayer.com')\n\n# Your data file was loaded into a botocore.response.StreamingBody object.\n# Please read the documentation of ibm_boto3 and pandas to learn more about your possibilities to load the data.\n# ibm_boto3 documentation: https://ibm.github.io/ibm-cos-sdk-python/\n# pandas documentation: http://pandas.pydata.org/\nstreaming_body_1 = client_c301c8e200a34ae486a32a40454568f1.get_object(Bucket='basicdataprocessingvisualizationp-donotdelete-pr-segj2b6ymcjjwc', Key='Ecommerce Purchases')['Body']\n# add missing __iter__ method, so pandas accepts body as file-like object\nif not hasattr(streaming_body_1, \"__iter__\"): streaming_body_1.__iter__ = types.MethodType( __iter__, streaming_body_1 ) \n\n",
            "cell_type": "code",
            "execution_count": 4,
            "outputs": [],
            "metadata": {}
        },
        {
            "source": "df = pd.read_csv(streaming_body_1)",
            "cell_type": "code",
            "execution_count": 5,
            "outputs": [],
            "metadata": {}
        },
        {
            "source": "df",
            "cell_type": "code",
            "execution_count": 6,
            "outputs": [
                {
                    "output_type": "execute_result",
                    "metadata": {},
                    "data": {
                        "text/html": "<div>\n<style scoped>\n    .dataframe tbody tr th:only-of-type {\n        vertical-align: middle;\n    }\n\n    .dataframe tbody tr th {\n        vertical-align: top;\n    }\n\n    .dataframe thead th {\n        text-align: right;\n    }\n</style>\n<table border=\"1\" class=\"dataframe\">\n  <thead>\n    <tr style=\"text-align: right;\">\n      <th></th>\n      <th>Address</th>\n      <th>Lot</th>\n      <th>AM or PM</th>\n      <th>Browser Info</th>\n      <th>Company</th>\n      <th>Credit Card</th>\n      <th>CC Exp Date</th>\n      <th>CC Security Code</th>\n      <th>CC Provider</th>\n      <th>Email</th>\n      <th>Job</th>\n      <th>IP Address</th>\n      <th>Language</th>\n      <th>Purchase Price</th>\n    </tr>\n  </thead>\n  <tbody>\n    <tr>\n      <th>0</th>\n      <td>16629 Pace Camp Apt. 448\\nAlexisborough, NE 77...</td>\n      <td>46 in</td>\n      <td>PM</td>\n      <td>Opera/9.56.(X11; Linux x86_64; sl-SI) Presto/2...</td>\n      <td>Martinez-Herman</td>\n      <td>6011929061123406</td>\n      <td>02/20</td>\n      <td>900</td>\n      <td>JCB 16 digit</td>\n      <td>pdunlap@yahoo.com</td>\n      <td>Scientist, product/process development</td>\n      <td>149.146.147.205</td>\n      <td>el</td>\n      <td>98.14</td>\n    </tr>\n    <tr>\n      <th>1</th>\n      <td>9374 Jasmine Spurs Suite 508\\nSouth John, TN 8...</td>\n      <td>28 rn</td>\n      <td>PM</td>\n      <td>Opera/8.93.(Windows 98; Win 9x 4.90; en-US) Pr...</td>\n      <td>Fletcher, Richards and Whitaker</td>\n      <td>3337758169645356</td>\n      <td>11/18</td>\n      <td>561</td>\n      <td>Mastercard</td>\n      <td>anthony41@reed.com</td>\n      <td>Drilling engineer</td>\n      <td>15.160.41.51</td>\n      <td>fr</td>\n      <td>70.73</td>\n    </tr>\n    <tr>\n      <th>2</th>\n      <td>Unit 0065 Box 5052\\nDPO AP 27450</td>\n      <td>94 vE</td>\n      <td>PM</td>\n      <td>Mozilla/5.0 (compatible; MSIE 9.0; Windows NT ...</td>\n      <td>Simpson, Williams and Pham</td>\n      <td>675957666125</td>\n      <td>08/19</td>\n      <td>699</td>\n      <td>JCB 16 digit</td>\n      <td>amymiller@morales-harrison.com</td>\n      <td>Customer service manager</td>\n      <td>132.207.160.22</td>\n      <td>de</td>\n      <td>0.95</td>\n    </tr>\n    <tr>\n      <th>3</th>\n      <td>7780 Julia Fords\\nNew Stacy, WA 45798</td>\n      <td>36 vm</td>\n      <td>PM</td>\n      <td>Mozilla/5.0 (Macintosh; Intel Mac OS X 10_8_0 ...</td>\n      <td>Williams, Marshall and Buchanan</td>\n      <td>6011578504430710</td>\n      <td>02/24</td>\n      <td>384</td>\n      <td>Discover</td>\n      <td>brent16@olson-robinson.info</td>\n      <td>Drilling engineer</td>\n      <td>30.250.74.19</td>\n      <td>es</td>\n      <td>78.04</td>\n    </tr>\n    <tr>\n      <th>4</th>\n      <td>23012 Munoz Drive Suite 337\\nNew Cynthia, TX 5...</td>\n      <td>20 IE</td>\n      <td>AM</td>\n      <td>Opera/9.58.(X11; Linux x86_64; it-IT) Presto/2...</td>\n      <td>Brown, Watson and Andrews</td>\n      <td>6011456623207998</td>\n      <td>10/25</td>\n      <td>678</td>\n      <td>Diners Club / Carte Blanche</td>\n      <td>christopherwright@gmail.com</td>\n      <td>Fine artist</td>\n      <td>24.140.33.94</td>\n      <td>es</td>\n      <td>77.82</td>\n    </tr>\n    <tr>\n      <th>5</th>\n      <td>7502 Powell Mission Apt. 768\\nTravisland, VA 3...</td>\n      <td>21 XT</td>\n      <td>PM</td>\n      <td>Mozilla/5.0 (Macintosh; U; PPC Mac OS X 10_8_5...</td>\n      <td>Silva-Anderson</td>\n      <td>30246185196287</td>\n      <td>07/25</td>\n      <td>7169</td>\n      <td>Discover</td>\n      <td>ynguyen@gmail.com</td>\n      <td>Fish farm manager</td>\n      <td>55.96.152.147</td>\n      <td>ru</td>\n      <td>25.15</td>\n    </tr>\n    <tr>\n      <th>6</th>\n      <td>93971 Conway Causeway\\nAndersonburgh, AZ 75107</td>\n      <td>96 Xt</td>\n      <td>AM</td>\n      <td>Mozilla/5.0 (compatible; MSIE 7.0; Windows NT ...</td>\n      <td>Gibson and Sons</td>\n      <td>6011398782655569</td>\n      <td>07/24</td>\n      <td>714</td>\n      <td>VISA 16 digit</td>\n      <td>olivia04@yahoo.com</td>\n      <td>Dancer</td>\n      <td>127.252.144.18</td>\n      <td>de</td>\n      <td>88.56</td>\n    </tr>\n    <tr>\n      <th>7</th>\n      <td>260 Rachel Plains Suite 366\\nCastroberg, WV 24...</td>\n      <td>96 pG</td>\n      <td>PM</td>\n      <td>Mozilla/5.0 (X11; Linux i686) AppleWebKit/5350...</td>\n      <td>Marshall-Collins</td>\n      <td>561252141909</td>\n      <td>06/25</td>\n      <td>256</td>\n      <td>VISA 13 digit</td>\n      <td>phillip48@parks.info</td>\n      <td>Event organiser</td>\n      <td>224.247.97.150</td>\n      <td>pt</td>\n      <td>44.25</td>\n    </tr>\n    <tr>\n      <th>8</th>\n      <td>2129 Dylan Burg\\nNew Michelle, ME 28650</td>\n      <td>45 JN</td>\n      <td>PM</td>\n      <td>Mozilla/5.0 (Macintosh; U; Intel Mac OS X 10_7...</td>\n      <td>Galloway and Sons</td>\n      <td>180041795790001</td>\n      <td>04/24</td>\n      <td>899</td>\n      <td>JCB 16 digit</td>\n      <td>kdavis@rasmussen.com</td>\n      <td>Financial manager</td>\n      <td>146.234.201.229</td>\n      <td>ru</td>\n      <td>59.54</td>\n    </tr>\n    <tr>\n      <th>9</th>\n      <td>3795 Dawson Extensions\\nLake Tinafort, ID 88739</td>\n      <td>15 Ug</td>\n      <td>AM</td>\n      <td>Mozilla/5.0 (X11; Linux i686; rv:1.9.7.20) Gec...</td>\n      <td>Rivera, Buchanan and Ramirez</td>\n      <td>4396283918371</td>\n      <td>01/17</td>\n      <td>931</td>\n      <td>American Express</td>\n      <td>qcoleman@hunt-huerta.com</td>\n      <td>Forensic scientist</td>\n      <td>236.198.199.8</td>\n      <td>zh</td>\n      <td>95.63</td>\n    </tr>\n    <tr>\n      <th>10</th>\n      <td>650 Elizabeth Park\\nLake Maria, LA 13526-2530</td>\n      <td>65 Yn</td>\n      <td>PM</td>\n      <td>Mozilla/5.0 (iPod; U; CPU iPhone OS 4_1 like M...</td>\n      <td>Strickland, Michael and Gonzales</td>\n      <td>180036417827355</td>\n      <td>02/17</td>\n      <td>754</td>\n      <td>Voyager</td>\n      <td>ustewart@hotmail.com</td>\n      <td>Development worker, community</td>\n      <td>26.59.93.1</td>\n      <td>el</td>\n      <td>96.89</td>\n    </tr>\n    <tr>\n      <th>11</th>\n      <td>349 Laurie Parks\\nThomasview, ID 08970</td>\n      <td>30 kK</td>\n      <td>PM</td>\n      <td>Mozilla/5.0 (X11; Linux i686; rv:1.9.6.20) Gec...</td>\n      <td>Kim-Oliver</td>\n      <td>869975209012056</td>\n      <td>06/26</td>\n      <td>9717</td>\n      <td>JCB 15 digit</td>\n      <td>johnnymiller@coleman.com</td>\n      <td>Diagnostic radiographer</td>\n      <td>128.222.40.234</td>\n      <td>en</td>\n      <td>19.26</td>\n    </tr>\n    <tr>\n      <th>12</th>\n      <td>733 Heather Rest Apt. 670\\nBoltonport, UT 78662</td>\n      <td>69 DO</td>\n      <td>AM</td>\n      <td>Mozilla/5.0 (Macintosh; Intel Mac OS X 10_5_3 ...</td>\n      <td>Moore-Martin</td>\n      <td>5115990487067905</td>\n      <td>05/26</td>\n      <td>119</td>\n      <td>VISA 16 digit</td>\n      <td>tholt@hotmail.com</td>\n      <td>Surveyor, quantity</td>\n      <td>236.71.234.240</td>\n      <td>en</td>\n      <td>39.65</td>\n    </tr>\n    <tr>\n      <th>13</th>\n      <td>118 Melton Via Suite 681\\nAlexanderbury, FL 32104</td>\n      <td>36 bu</td>\n      <td>PM</td>\n      <td>Mozilla/5.0 (Macintosh; U; Intel Mac OS X 10_8...</td>\n      <td>Keller PLC</td>\n      <td>4603635169938574</td>\n      <td>01/25</td>\n      <td>557</td>\n      <td>VISA 16 digit</td>\n      <td>caitlin57@yahoo.com</td>\n      <td>Accountant, chartered public finance</td>\n      <td>84.212.92.11</td>\n      <td>it</td>\n      <td>8.93</td>\n    </tr>\n    <tr>\n      <th>14</th>\n      <td>8774 Jason Keys Suite 427\\nEast Scottborough, ...</td>\n      <td>70 zH</td>\n      <td>AM</td>\n      <td>Mozilla/5.0 (Windows 98; it-IT; rv:1.9.2.20) G...</td>\n      <td>Leach, Howe and Ferguson</td>\n      <td>869967499275071</td>\n      <td>09/22</td>\n      <td>427</td>\n      <td>VISA 16 digit</td>\n      <td>aburns@yahoo.com</td>\n      <td>Acupuncturist</td>\n      <td>50.25.148.1</td>\n      <td>de</td>\n      <td>24.18</td>\n    </tr>\n    <tr>\n      <th>15</th>\n      <td>31730 Chelsea Crest\\nBlakemouth, CT 90395-0620</td>\n      <td>41 Cj</td>\n      <td>PM</td>\n      <td>Opera/8.95.(Windows NT 5.0; en-US) Presto/2.9....</td>\n      <td>Garcia-Steele</td>\n      <td>180069437020404</td>\n      <td>04/25</td>\n      <td>404</td>\n      <td>Diners Club / Carte Blanche</td>\n      <td>amanda39@yahoo.com</td>\n      <td>Retail manager</td>\n      <td>53.176.235.33</td>\n      <td>el</td>\n      <td>71.78</td>\n    </tr>\n    <tr>\n      <th>16</th>\n      <td>5283 Thomas Trafficway Suite 343\\nEast Brittne...</td>\n      <td>31 ho</td>\n      <td>AM</td>\n      <td>Opera/9.73.(Windows NT 6.2; sl-SI) Presto/2.9....</td>\n      <td>Stanton, Villanueva and Swanson</td>\n      <td>676121145525</td>\n      <td>06/22</td>\n      <td>285</td>\n      <td>Diners Club / Carte Blanche</td>\n      <td>griffincatherine@wilson.com</td>\n      <td>Therapist, art</td>\n      <td>8.145.170.52</td>\n      <td>de</td>\n      <td>84.44</td>\n    </tr>\n    <tr>\n      <th>17</th>\n      <td>950 Jacqueline Village Apt. 592\\nPort Kimberly...</td>\n      <td>23 Rh</td>\n      <td>PM</td>\n      <td>Mozilla/5.0 (compatible; MSIE 9.0; Windows NT ...</td>\n      <td>Fernandez, Melton and Gilbert</td>\n      <td>3337515540944084</td>\n      <td>01/26</td>\n      <td>771</td>\n      <td>American Express</td>\n      <td>stacymitchell@hall.com</td>\n      <td>Designer, jewellery</td>\n      <td>223.25.125.61</td>\n      <td>el</td>\n      <td>58.68</td>\n    </tr>\n    <tr>\n      <th>18</th>\n      <td>461 Christopher Square\\nWest Michaelchester, C...</td>\n      <td>17 SB</td>\n      <td>PM</td>\n      <td>Mozilla/5.0 (X11; Linux i686; rv:1.9.6.20) Gec...</td>\n      <td>Beard, Abbott and Pena</td>\n      <td>6011350184276270</td>\n      <td>12/22</td>\n      <td>767</td>\n      <td>Mastercard</td>\n      <td>hannah63@yahoo.com</td>\n      <td>Photographer</td>\n      <td>73.250.176.201</td>\n      <td>el</td>\n      <td>70.15</td>\n    </tr>\n    <tr>\n      <th>19</th>\n      <td>125 Hall Summit\\nBoothton, IL 41721</td>\n      <td>99 CU</td>\n      <td>PM</td>\n      <td>Mozilla/5.0 (compatible; MSIE 7.0; Windows NT ...</td>\n      <td>Turner-Mckinney</td>\n      <td>676343504830</td>\n      <td>02/20</td>\n      <td>440</td>\n      <td>VISA 16 digit</td>\n      <td>ruiznicole@gmail.com</td>\n      <td>Designer, interior/spatial</td>\n      <td>25.105.209.214</td>\n      <td>fr</td>\n      <td>58.39</td>\n    </tr>\n    <tr>\n      <th>20</th>\n      <td>7383 George Village\\nLake Jamesview, CO 79828</td>\n      <td>23 dk</td>\n      <td>PM</td>\n      <td>Mozilla/5.0 (Windows; U; Windows NT 4.0) Apple...</td>\n      <td>Santana, Montes and Pierce</td>\n      <td>6011833038852776</td>\n      <td>03/22</td>\n      <td>740</td>\n      <td>Maestro</td>\n      <td>zstephenson@smith.info</td>\n      <td>Public relations officer</td>\n      <td>250.71.54.180</td>\n      <td>de</td>\n      <td>30.33</td>\n    </tr>\n    <tr>\n      <th>21</th>\n      <td>282 Miller Valleys Suite 404\\nWilkinsonbury, M...</td>\n      <td>24 RZ</td>\n      <td>AM</td>\n      <td>Mozilla/5.0 (compatible; MSIE 6.0; Windows NT ...</td>\n      <td>Guzman-Reese</td>\n      <td>5491255326230898</td>\n      <td>03/25</td>\n      <td>506</td>\n      <td>JCB 16 digit</td>\n      <td>rsmith@hotmail.com</td>\n      <td>Presenter, broadcasting</td>\n      <td>125.58.66.253</td>\n      <td>it</td>\n      <td>90.93</td>\n    </tr>\n    <tr>\n      <th>22</th>\n      <td>625 Laura Summit Suite 112\\nShortmouth, AK 97156</td>\n      <td>45 oa</td>\n      <td>PM</td>\n      <td>Mozilla/5.0 (Windows 95) AppleWebKit/5342 (KHT...</td>\n      <td>Burnett Ltd</td>\n      <td>3158663456056588</td>\n      <td>07/22</td>\n      <td>508</td>\n      <td>Discover</td>\n      <td>chambersmichael@gmail.com</td>\n      <td>Retail manager</td>\n      <td>65.106.61.141</td>\n      <td>en</td>\n      <td>33.62</td>\n    </tr>\n    <tr>\n      <th>23</th>\n      <td>25292 Shepherd Trail Apt. 798\\nRussellmouth, S...</td>\n      <td>31 pS</td>\n      <td>PM</td>\n      <td>Mozilla/5.0 (compatible; MSIE 5.0; Windows 98;...</td>\n      <td>Cruz Inc</td>\n      <td>502010078983</td>\n      <td>02/23</td>\n      <td>60</td>\n      <td>VISA 13 digit</td>\n      <td>ltaylor@gardner-meadows.com</td>\n      <td>Field seismologist</td>\n      <td>25.193.145.116</td>\n      <td>ru</td>\n      <td>97.97</td>\n    </tr>\n    <tr>\n      <th>24</th>\n      <td>Unit 3046 Box 3197\\nDPO AE 61496-4172</td>\n      <td>62 Ac</td>\n      <td>AM</td>\n      <td>Mozilla/5.0 (compatible; MSIE 6.0; Windows CE;...</td>\n      <td>Morris PLC</td>\n      <td>4749728852401144</td>\n      <td>07/18</td>\n      <td>11</td>\n      <td>JCB 15 digit</td>\n      <td>james07@yahoo.com</td>\n      <td>Musician</td>\n      <td>21.113.231.220</td>\n      <td>es</td>\n      <td>85.31</td>\n    </tr>\n    <tr>\n      <th>25</th>\n      <td>80797 Ryan Trail Apt. 752\\nAaronhaven, MI 0622...</td>\n      <td>66 SO</td>\n      <td>PM</td>\n      <td>Mozilla/5.0 (Macintosh; U; PPC Mac OS X 10_7_1...</td>\n      <td>Saunders-Mendez</td>\n      <td>869938033091779</td>\n      <td>05/19</td>\n      <td>901</td>\n      <td>Voyager</td>\n      <td>madison41@mooney.com</td>\n      <td>Training and development officer</td>\n      <td>67.26.186.226</td>\n      <td>de</td>\n      <td>6.25</td>\n    </tr>\n    <tr>\n      <th>26</th>\n      <td>5334 Sheppard Fort\\nNorth Kirsten, ND 71170</td>\n      <td>40 ND</td>\n      <td>AM</td>\n      <td>Mozilla/5.0 (Macintosh; Intel Mac OS X 10_6_3)...</td>\n      <td>Stephens, Johnson and Combs</td>\n      <td>60488441233</td>\n      <td>03/19</td>\n      <td>70</td>\n      <td>VISA 13 digit</td>\n      <td>mlogan@gmail.com</td>\n      <td>Barrister's clerk</td>\n      <td>61.197.134.185</td>\n      <td>en</td>\n      <td>17.75</td>\n    </tr>\n    <tr>\n      <th>27</th>\n      <td>5015 Smith Harbors\\nSouth Ashley, OK 81283</td>\n      <td>34 JQ</td>\n      <td>PM</td>\n      <td>Opera/9.75.(Windows NT 6.0; en-US) Presto/2.9....</td>\n      <td>Levine, Shaw and Jenkins</td>\n      <td>869948145612941</td>\n      <td>12/16</td>\n      <td>310</td>\n      <td>Diners Club / Carte Blanche</td>\n      <td>michael35@hotmail.com</td>\n      <td>Careers adviser</td>\n      <td>177.220.131.93</td>\n      <td>es</td>\n      <td>39.40</td>\n    </tr>\n    <tr>\n      <th>28</th>\n      <td>50533 Cooper Cliffs\\nNorth Jonathanberg, MD 20482</td>\n      <td>17 kP</td>\n      <td>PM</td>\n      <td>Mozilla/5.0 (Windows; U; Windows NT 6.1) Apple...</td>\n      <td>Reed Inc</td>\n      <td>180026477662982</td>\n      <td>11/24</td>\n      <td>16</td>\n      <td>JCB 15 digit</td>\n      <td>khandeborah@yahoo.com</td>\n      <td>Scientist, research (life sciences)</td>\n      <td>142.131.235.225</td>\n      <td>es</td>\n      <td>70.75</td>\n    </tr>\n    <tr>\n      <th>29</th>\n      <td>30755 Joshua Plaza Apt. 567\\nWest Susanton, FM...</td>\n      <td>93 OP</td>\n      <td>PM</td>\n      <td>Mozilla/5.0 (Macintosh; U; PPC Mac OS X 10_6_7...</td>\n      <td>Goodwin Ltd</td>\n      <td>4170734785397597</td>\n      <td>07/22</td>\n      <td>319</td>\n      <td>Maestro</td>\n      <td>stonekaren@yahoo.com</td>\n      <td>Recycling officer</td>\n      <td>218.189.145.248</td>\n      <td>it</td>\n      <td>82.16</td>\n    </tr>\n    <tr>\n      <th>...</th>\n      <td>...</td>\n      <td>...</td>\n      <td>...</td>\n      <td>...</td>\n      <td>...</td>\n      <td>...</td>\n      <td>...</td>\n      <td>...</td>\n      <td>...</td>\n      <td>...</td>\n      <td>...</td>\n      <td>...</td>\n      <td>...</td>\n      <td>...</td>\n    </tr>\n    <tr>\n      <th>9970</th>\n      <td>0060 Keith Stream\\nWestport, CO 47097</td>\n      <td>11 nt</td>\n      <td>PM</td>\n      <td>Mozilla/5.0 (Macintosh; U; Intel Mac OS X 10_8...</td>\n      <td>Carpenter, Good and Hart</td>\n      <td>6011485664704662</td>\n      <td>07/19</td>\n      <td>543</td>\n      <td>Discover</td>\n      <td>rangelbrian@hotmail.com</td>\n      <td>Electrical engineer</td>\n      <td>242.8.85.205</td>\n      <td>en</td>\n      <td>17.76</td>\n    </tr>\n    <tr>\n      <th>9971</th>\n      <td>5806 Martinez Point\\nLake Abigailstad, MD 6183...</td>\n      <td>07 wl</td>\n      <td>AM</td>\n      <td>Mozilla/5.0 (X11; Linux i686) AppleWebKit/5360...</td>\n      <td>Brewer-Howard</td>\n      <td>5359660631103048</td>\n      <td>01/21</td>\n      <td>586</td>\n      <td>Voyager</td>\n      <td>leslierichards@warner.org</td>\n      <td>Therapist, art</td>\n      <td>81.2.189.127</td>\n      <td>de</td>\n      <td>65.06</td>\n    </tr>\n    <tr>\n      <th>9972</th>\n      <td>89504 Flynn Overpass Suite 822\\nNew Elijah, WV...</td>\n      <td>23 eL</td>\n      <td>AM</td>\n      <td>Mozilla/5.0 (Windows NT 5.1; en-US; rv:1.9.2.2...</td>\n      <td>Davis, Wise and Diaz</td>\n      <td>370589883240776</td>\n      <td>04/22</td>\n      <td>748</td>\n      <td>VISA 13 digit</td>\n      <td>kellycole@hotmail.com</td>\n      <td>Sales professional, IT</td>\n      <td>102.53.225.61</td>\n      <td>zh</td>\n      <td>18.10</td>\n    </tr>\n    <tr>\n      <th>9973</th>\n      <td>92126 Daniel Streets\\nNorth Patricia, IA 10477</td>\n      <td>04 QN</td>\n      <td>PM</td>\n      <td>Mozilla/5.0 (Windows NT 5.2) AppleWebKit/5362 ...</td>\n      <td>Morrow Inc</td>\n      <td>501850922854</td>\n      <td>02/19</td>\n      <td>2708</td>\n      <td>American Express</td>\n      <td>rlewis@yahoo.com</td>\n      <td>Editor, magazine features</td>\n      <td>201.88.164.123</td>\n      <td>en</td>\n      <td>83.30</td>\n    </tr>\n    <tr>\n      <th>9974</th>\n      <td>500 Powell Rapid Apt. 114\\nClarkfort, FL 70488</td>\n      <td>48 is</td>\n      <td>AM</td>\n      <td>Mozilla/5.0 (Windows 95) AppleWebKit/5312 (KHT...</td>\n      <td>Griffin-Lopez</td>\n      <td>630407297302</td>\n      <td>04/26</td>\n      <td>627</td>\n      <td>VISA 16 digit</td>\n      <td>paula72@yahoo.com</td>\n      <td>Sports therapist</td>\n      <td>166.220.170.176</td>\n      <td>el</td>\n      <td>66.45</td>\n    </tr>\n    <tr>\n      <th>9975</th>\n      <td>5208 Hanson Trail Suite 527\\nSouth Jonathanshi...</td>\n      <td>67 OX</td>\n      <td>PM</td>\n      <td>Mozilla/5.0 (Macintosh; U; PPC Mac OS X 10_7_8...</td>\n      <td>Bowen-Nelson</td>\n      <td>5361597780221625</td>\n      <td>01/19</td>\n      <td>225</td>\n      <td>JCB 16 digit</td>\n      <td>taylordiaz@roman.net</td>\n      <td>Education officer, museum</td>\n      <td>114.197.6.210</td>\n      <td>zh</td>\n      <td>3.77</td>\n    </tr>\n    <tr>\n      <th>9976</th>\n      <td>5419 Cruz Island Apt. 033\\nLake Todd, AK 24863...</td>\n      <td>93 FM</td>\n      <td>PM</td>\n      <td>Opera/9.38.(Windows NT 5.01; it-IT) Presto/2.9...</td>\n      <td>Henderson-Kelley</td>\n      <td>4458996242274056</td>\n      <td>08/21</td>\n      <td>291</td>\n      <td>VISA 16 digit</td>\n      <td>pbrown@gmail.com</td>\n      <td>Furniture designer</td>\n      <td>109.108.177.2</td>\n      <td>es</td>\n      <td>37.73</td>\n    </tr>\n    <tr>\n      <th>9977</th>\n      <td>02182 Keith Expressway\\nEast Shannon, CT 20578...</td>\n      <td>34 RL</td>\n      <td>AM</td>\n      <td>Mozilla/5.0 (compatible; MSIE 9.0; Windows NT ...</td>\n      <td>Deleon, Jacobson and Benton</td>\n      <td>4186094003664688</td>\n      <td>06/21</td>\n      <td>397</td>\n      <td>JCB 16 digit</td>\n      <td>daltoncarter@yahoo.com</td>\n      <td>Biomedical engineer</td>\n      <td>146.238.118.2</td>\n      <td>fr</td>\n      <td>94.93</td>\n    </tr>\n    <tr>\n      <th>9978</th>\n      <td>991 Watts Court\\nSouth Danielstad, IA 39032-8865</td>\n      <td>66 eb</td>\n      <td>AM</td>\n      <td>Mozilla/5.0 (Macintosh; PPC Mac OS X 10_7_3; r...</td>\n      <td>Perez Group</td>\n      <td>3088185172584201</td>\n      <td>11/21</td>\n      <td>589</td>\n      <td>Discover</td>\n      <td>ywhite@hotmail.com</td>\n      <td>Designer, exhibition/display</td>\n      <td>232.219.30.162</td>\n      <td>de</td>\n      <td>14.49</td>\n    </tr>\n    <tr>\n      <th>9979</th>\n      <td>00490 Joseph Haven Apt. 149\\nWest Keithfurt, S...</td>\n      <td>69 XK</td>\n      <td>PM</td>\n      <td>Mozilla/5.0 (Windows NT 6.1) AppleWebKit/5311 ...</td>\n      <td>Randall-Ramirez</td>\n      <td>346734838013255</td>\n      <td>10/23</td>\n      <td>224</td>\n      <td>JCB 16 digit</td>\n      <td>qjohnson@yahoo.com</td>\n      <td>Lawyer</td>\n      <td>17.76.83.105</td>\n      <td>en</td>\n      <td>14.55</td>\n    </tr>\n    <tr>\n      <th>9980</th>\n      <td>6061 Dave Lights\\nPhillipsview, UT 40500</td>\n      <td>25 Mv</td>\n      <td>AM</td>\n      <td>Opera/8.58.(Windows NT 5.0; it-IT) Presto/2.9....</td>\n      <td>Cortez-Frye</td>\n      <td>6011944199756993</td>\n      <td>12/24</td>\n      <td>755</td>\n      <td>JCB 15 digit</td>\n      <td>mark74@kirby-stewart.org</td>\n      <td>Textile designer</td>\n      <td>110.103.77.195</td>\n      <td>fr</td>\n      <td>16.05</td>\n    </tr>\n    <tr>\n      <th>9981</th>\n      <td>087 Larson Roads Apt. 587\\nRicestad, WI 98077-...</td>\n      <td>95 Kw</td>\n      <td>AM</td>\n      <td>Opera/9.63.(Windows NT 5.01; en-US) Presto/2.9...</td>\n      <td>Ortiz, Schultz and Adams</td>\n      <td>4690863684605</td>\n      <td>01/19</td>\n      <td>695</td>\n      <td>Mastercard</td>\n      <td>laurenbennett@richards.com</td>\n      <td>Environmental education officer</td>\n      <td>106.21.237.73</td>\n      <td>pt</td>\n      <td>63.61</td>\n    </tr>\n    <tr>\n      <th>9982</th>\n      <td>18044 Mcintosh Row Apt. 122\\nLake Jennifer, NC...</td>\n      <td>77 uq</td>\n      <td>PM</td>\n      <td>Mozilla/5.0 (Macintosh; U; PPC Mac OS X 10_6_0...</td>\n      <td>Chen LLC</td>\n      <td>210040992311995</td>\n      <td>09/18</td>\n      <td>79</td>\n      <td>JCB 16 digit</td>\n      <td>heather24@gmail.com</td>\n      <td>Restaurant manager</td>\n      <td>93.254.124.2</td>\n      <td>it</td>\n      <td>56.25</td>\n    </tr>\n    <tr>\n      <th>9983</th>\n      <td>PSC 5678, Box 4503\\nAPO AP 94998-5546</td>\n      <td>79 cd</td>\n      <td>AM</td>\n      <td>Mozilla/5.0 (compatible; MSIE 8.0; Windows NT ...</td>\n      <td>Hall-Cantu</td>\n      <td>343856674589081</td>\n      <td>04/23</td>\n      <td>206</td>\n      <td>JCB 16 digit</td>\n      <td>jacksonmanuel@rodriguez-welch.com</td>\n      <td>Scientist, research (life sciences)</td>\n      <td>245.22.66.225</td>\n      <td>de</td>\n      <td>47.70</td>\n    </tr>\n    <tr>\n      <th>9984</th>\n      <td>7560 Boyle Keys\\nAntoniomouth, DC 00522-0367</td>\n      <td>72 Qb</td>\n      <td>AM</td>\n      <td>Mozilla/5.0 (Windows; U; Windows 98; Win 9x 4....</td>\n      <td>Johnson-Brandt</td>\n      <td>3088208142188125</td>\n      <td>03/21</td>\n      <td>572</td>\n      <td>Maestro</td>\n      <td>clee@vasquez-luna.com</td>\n      <td>Editor, commissioning</td>\n      <td>140.157.37.218</td>\n      <td>el</td>\n      <td>33.57</td>\n    </tr>\n    <tr>\n      <th>9985</th>\n      <td>7456 Stevens Rest\\nEricside, FL 16389</td>\n      <td>27 Yv</td>\n      <td>PM</td>\n      <td>Mozilla/5.0 (Macintosh; U; Intel Mac OS X 10_7...</td>\n      <td>Murphy-Cook</td>\n      <td>6011264939622870</td>\n      <td>08/21</td>\n      <td>847</td>\n      <td>VISA 16 digit</td>\n      <td>cranejames@white.com</td>\n      <td>Designer, interior/spatial</td>\n      <td>188.73.131.92</td>\n      <td>de</td>\n      <td>46.33</td>\n    </tr>\n    <tr>\n      <th>9986</th>\n      <td>2719 Troy Drive Suite 062\\nLisachester, PW 414...</td>\n      <td>80 Wl</td>\n      <td>PM</td>\n      <td>Mozilla/5.0 (Windows NT 5.2; sl-SI; rv:1.9.1.2...</td>\n      <td>Campbell-Hurley</td>\n      <td>4220882411745414</td>\n      <td>08/18</td>\n      <td>460</td>\n      <td>JCB 16 digit</td>\n      <td>belindaleon@schwartz.com</td>\n      <td>Cabin crew</td>\n      <td>110.103.102.55</td>\n      <td>it</td>\n      <td>22.02</td>\n    </tr>\n    <tr>\n      <th>9987</th>\n      <td>2754 Klein Mission\\nJohnsonview, PA 64925-9624</td>\n      <td>65 Fg</td>\n      <td>PM</td>\n      <td>Opera/9.26.(Windows CE; sl-SI) Presto/2.9.188 ...</td>\n      <td>Curtis LLC</td>\n      <td>180027305702263</td>\n      <td>12/24</td>\n      <td>865</td>\n      <td>Mastercard</td>\n      <td>denisehamilton@novak.biz</td>\n      <td>Primary school teacher</td>\n      <td>164.39.190.217</td>\n      <td>es</td>\n      <td>60.83</td>\n    </tr>\n    <tr>\n      <th>9988</th>\n      <td>0154 Green Forest\\nNew Timothy, IL 33670-4620</td>\n      <td>11 MC</td>\n      <td>AM</td>\n      <td>Mozilla/5.0 (compatible; MSIE 7.0; Windows 98;...</td>\n      <td>Williams-Walker</td>\n      <td>4207292109379681</td>\n      <td>10/16</td>\n      <td>571</td>\n      <td>Diners Club / Carte Blanche</td>\n      <td>hudsonmichael@pace.com</td>\n      <td>Charity fundraiser</td>\n      <td>136.169.160.82</td>\n      <td>de</td>\n      <td>89.76</td>\n    </tr>\n    <tr>\n      <th>9989</th>\n      <td>5674 Cruz Trace\\nNew Shelby, KY 51047-5469</td>\n      <td>12 Kf</td>\n      <td>AM</td>\n      <td>Mozilla/5.0 (compatible; MSIE 9.0; Windows NT ...</td>\n      <td>Vargas, Nichols and Martinez</td>\n      <td>5278049688438382</td>\n      <td>12/23</td>\n      <td>996</td>\n      <td>VISA 16 digit</td>\n      <td>walterswilliam@hotmail.com</td>\n      <td>Community development worker</td>\n      <td>39.162.164.169</td>\n      <td>pt</td>\n      <td>17.18</td>\n    </tr>\n    <tr>\n      <th>9990</th>\n      <td>75731 Molly Springs\\nWest Danielle, VT 96934-5102</td>\n      <td>93 ty</td>\n      <td>PM</td>\n      <td>Mozilla/5.0 (Macintosh; Intel Mac OS X 10_7_4;...</td>\n      <td>Pace, Vazquez and Richards</td>\n      <td>869968197049750</td>\n      <td>04/24</td>\n      <td>877</td>\n      <td>JCB 15 digit</td>\n      <td>andersonmichael@sherman.biz</td>\n      <td>Early years teacher</td>\n      <td>54.170.3.185</td>\n      <td>ru</td>\n      <td>18.35</td>\n    </tr>\n    <tr>\n      <th>9991</th>\n      <td>PSC 8165, Box 8498\\nAPO AP 60327-0346</td>\n      <td>50 dA</td>\n      <td>AM</td>\n      <td>Mozilla/5.0 (compatible; MSIE 8.0; Windows NT ...</td>\n      <td>Snyder Inc</td>\n      <td>4221582137197481</td>\n      <td>02/24</td>\n      <td>969</td>\n      <td>Voyager</td>\n      <td>kking@wise-liu.com</td>\n      <td>IT sales professional</td>\n      <td>254.25.31.156</td>\n      <td>el</td>\n      <td>25.93</td>\n    </tr>\n    <tr>\n      <th>9992</th>\n      <td>885 Allen Mountains Apt. 230\\nWallhaven, LA 16995</td>\n      <td>40 vH</td>\n      <td>PM</td>\n      <td>Mozilla/5.0 (Macintosh; PPC Mac OS X 10_6_5) A...</td>\n      <td>Wells Ltd</td>\n      <td>4664825258997302</td>\n      <td>10/20</td>\n      <td>431</td>\n      <td>Discover</td>\n      <td>bberry@wright.net</td>\n      <td>Set designer</td>\n      <td>174.173.51.32</td>\n      <td>de</td>\n      <td>67.96</td>\n    </tr>\n    <tr>\n      <th>9993</th>\n      <td>7555 Larson Locks Suite 229\\nEllisburgh, MA 34...</td>\n      <td>72 jg</td>\n      <td>PM</td>\n      <td>Mozilla/5.0 (Macintosh; U; Intel Mac OS X 10_8...</td>\n      <td>Colon and Sons</td>\n      <td>30025560104631</td>\n      <td>10/25</td>\n      <td>629</td>\n      <td>Maestro</td>\n      <td>chelseawilliams@lopez.biz</td>\n      <td>Designer, exhibition/display</td>\n      <td>177.46.82.128</td>\n      <td>el</td>\n      <td>65.61</td>\n    </tr>\n    <tr>\n      <th>9994</th>\n      <td>6276 Rojas Hollow\\nLake Louis, WY 56410-7837</td>\n      <td>93 Ex</td>\n      <td>PM</td>\n      <td>Opera/9.68.(X11; Linux x86_64; sl-SI) Presto/2...</td>\n      <td>Ritter-Smith</td>\n      <td>3112186784121077</td>\n      <td>01/25</td>\n      <td>1823</td>\n      <td>Maestro</td>\n      <td>iroberts@gmail.com</td>\n      <td>Education officer, museum</td>\n      <td>242.44.112.18</td>\n      <td>zh</td>\n      <td>31.85</td>\n    </tr>\n    <tr>\n      <th>9995</th>\n      <td>966 Castaneda Locks\\nWest Juliafurt, CO 96415</td>\n      <td>92 XI</td>\n      <td>PM</td>\n      <td>Mozilla/5.0 (Windows NT 5.1) AppleWebKit/5352 ...</td>\n      <td>Randall-Sloan</td>\n      <td>342945015358701</td>\n      <td>03/22</td>\n      <td>838</td>\n      <td>JCB 15 digit</td>\n      <td>iscott@wade-garner.com</td>\n      <td>Printmaker</td>\n      <td>29.73.197.114</td>\n      <td>it</td>\n      <td>82.21</td>\n    </tr>\n    <tr>\n      <th>9996</th>\n      <td>832 Curtis Dam Suite 785\\nNorth Edwardburgh, T...</td>\n      <td>41 JY</td>\n      <td>AM</td>\n      <td>Mozilla/5.0 (compatible; MSIE 9.0; Windows NT ...</td>\n      <td>Hale, Collins and Wilson</td>\n      <td>210033169205009</td>\n      <td>07/25</td>\n      <td>207</td>\n      <td>JCB 16 digit</td>\n      <td>mary85@hotmail.com</td>\n      <td>Energy engineer</td>\n      <td>121.133.168.51</td>\n      <td>pt</td>\n      <td>25.63</td>\n    </tr>\n    <tr>\n      <th>9997</th>\n      <td>Unit 4434 Box 6343\\nDPO AE 28026-0283</td>\n      <td>74 Zh</td>\n      <td>AM</td>\n      <td>Mozilla/5.0 (Macintosh; U; Intel Mac OS X 10_7...</td>\n      <td>Anderson Ltd</td>\n      <td>6011539787356311</td>\n      <td>05/21</td>\n      <td>1</td>\n      <td>VISA 16 digit</td>\n      <td>tyler16@gmail.com</td>\n      <td>Veterinary surgeon</td>\n      <td>156.210.0.254</td>\n      <td>el</td>\n      <td>83.98</td>\n    </tr>\n    <tr>\n      <th>9998</th>\n      <td>0096 English Rest\\nRoystad, IA 12457</td>\n      <td>74 cL</td>\n      <td>PM</td>\n      <td>Mozilla/5.0 (Macintosh; Intel Mac OS X 10_8_8;...</td>\n      <td>Cook Inc</td>\n      <td>180003348082930</td>\n      <td>11/17</td>\n      <td>987</td>\n      <td>American Express</td>\n      <td>elizabethmoore@reid.net</td>\n      <td>Local government officer</td>\n      <td>55.78.26.143</td>\n      <td>es</td>\n      <td>38.84</td>\n    </tr>\n    <tr>\n      <th>9999</th>\n      <td>40674 Barrett Stravenue\\nGrimesville, WI 79682</td>\n      <td>64 Hr</td>\n      <td>AM</td>\n      <td>Mozilla/5.0 (X11; Linux i686; rv:1.9.5.20) Gec...</td>\n      <td>Greene Inc</td>\n      <td>4139972901927273</td>\n      <td>02/19</td>\n      <td>302</td>\n      <td>JCB 15 digit</td>\n      <td>rachelford@vaughn.com</td>\n      <td>Embryologist, clinical</td>\n      <td>176.119.198.199</td>\n      <td>el</td>\n      <td>67.59</td>\n    </tr>\n  </tbody>\n</table>\n<p>10000 rows \u00d7 14 columns</p>\n</div>",
                        "text/plain": "                                                Address    Lot AM or PM  \\\n0     16629 Pace Camp Apt. 448\\nAlexisborough, NE 77...  46 in       PM   \n1     9374 Jasmine Spurs Suite 508\\nSouth John, TN 8...  28 rn       PM   \n2                      Unit 0065 Box 5052\\nDPO AP 27450  94 vE       PM   \n3                 7780 Julia Fords\\nNew Stacy, WA 45798  36 vm       PM   \n4     23012 Munoz Drive Suite 337\\nNew Cynthia, TX 5...  20 IE       AM   \n5     7502 Powell Mission Apt. 768\\nTravisland, VA 3...  21 XT       PM   \n6        93971 Conway Causeway\\nAndersonburgh, AZ 75107  96 Xt       AM   \n7     260 Rachel Plains Suite 366\\nCastroberg, WV 24...  96 pG       PM   \n8               2129 Dylan Burg\\nNew Michelle, ME 28650  45 JN       PM   \n9       3795 Dawson Extensions\\nLake Tinafort, ID 88739  15 Ug       AM   \n10        650 Elizabeth Park\\nLake Maria, LA 13526-2530  65 Yn       PM   \n11               349 Laurie Parks\\nThomasview, ID 08970  30 kK       PM   \n12      733 Heather Rest Apt. 670\\nBoltonport, UT 78662  69 DO       AM   \n13    118 Melton Via Suite 681\\nAlexanderbury, FL 32104  36 bu       PM   \n14    8774 Jason Keys Suite 427\\nEast Scottborough, ...  70 zH       AM   \n15       31730 Chelsea Crest\\nBlakemouth, CT 90395-0620  41 Cj       PM   \n16    5283 Thomas Trafficway Suite 343\\nEast Brittne...  31 ho       AM   \n17    950 Jacqueline Village Apt. 592\\nPort Kimberly...  23 Rh       PM   \n18    461 Christopher Square\\nWest Michaelchester, C...  17 SB       PM   \n19                  125 Hall Summit\\nBoothton, IL 41721  99 CU       PM   \n20        7383 George Village\\nLake Jamesview, CO 79828  23 dk       PM   \n21    282 Miller Valleys Suite 404\\nWilkinsonbury, M...  24 RZ       AM   \n22     625 Laura Summit Suite 112\\nShortmouth, AK 97156  45 oa       PM   \n23    25292 Shepherd Trail Apt. 798\\nRussellmouth, S...  31 pS       PM   \n24                Unit 3046 Box 3197\\nDPO AE 61496-4172  62 Ac       AM   \n25    80797 Ryan Trail Apt. 752\\nAaronhaven, MI 0622...  66 SO       PM   \n26          5334 Sheppard Fort\\nNorth Kirsten, ND 71170  40 ND       AM   \n27           5015 Smith Harbors\\nSouth Ashley, OK 81283  34 JQ       PM   \n28    50533 Cooper Cliffs\\nNorth Jonathanberg, MD 20482  17 kP       PM   \n29    30755 Joshua Plaza Apt. 567\\nWest Susanton, FM...  93 OP       PM   \n...                                                 ...    ...      ...   \n9970              0060 Keith Stream\\nWestport, CO 47097  11 nt       PM   \n9971  5806 Martinez Point\\nLake Abigailstad, MD 6183...  07 wl       AM   \n9972  89504 Flynn Overpass Suite 822\\nNew Elijah, WV...  23 eL       AM   \n9973     92126 Daniel Streets\\nNorth Patricia, IA 10477  04 QN       PM   \n9974     500 Powell Rapid Apt. 114\\nClarkfort, FL 70488  48 is       AM   \n9975  5208 Hanson Trail Suite 527\\nSouth Jonathanshi...  67 OX       PM   \n9976  5419 Cruz Island Apt. 033\\nLake Todd, AK 24863...  93 FM       PM   \n9977  02182 Keith Expressway\\nEast Shannon, CT 20578...  34 RL       AM   \n9978   991 Watts Court\\nSouth Danielstad, IA 39032-8865  66 eb       AM   \n9979  00490 Joseph Haven Apt. 149\\nWest Keithfurt, S...  69 XK       PM   \n9980           6061 Dave Lights\\nPhillipsview, UT 40500  25 Mv       AM   \n9981  087 Larson Roads Apt. 587\\nRicestad, WI 98077-...  95 Kw       AM   \n9982  18044 Mcintosh Row Apt. 122\\nLake Jennifer, NC...  77 uq       PM   \n9983              PSC 5678, Box 4503\\nAPO AP 94998-5546  79 cd       AM   \n9984       7560 Boyle Keys\\nAntoniomouth, DC 00522-0367  72 Qb       AM   \n9985              7456 Stevens Rest\\nEricside, FL 16389  27 Yv       PM   \n9986  2719 Troy Drive Suite 062\\nLisachester, PW 414...  80 Wl       PM   \n9987     2754 Klein Mission\\nJohnsonview, PA 64925-9624  65 Fg       PM   \n9988      0154 Green Forest\\nNew Timothy, IL 33670-4620  11 MC       AM   \n9989         5674 Cruz Trace\\nNew Shelby, KY 51047-5469  12 Kf       AM   \n9990  75731 Molly Springs\\nWest Danielle, VT 96934-5102  93 ty       PM   \n9991              PSC 8165, Box 8498\\nAPO AP 60327-0346  50 dA       AM   \n9992  885 Allen Mountains Apt. 230\\nWallhaven, LA 16995  40 vH       PM   \n9993  7555 Larson Locks Suite 229\\nEllisburgh, MA 34...  72 jg       PM   \n9994       6276 Rojas Hollow\\nLake Louis, WY 56410-7837  93 Ex       PM   \n9995      966 Castaneda Locks\\nWest Juliafurt, CO 96415  92 XI       PM   \n9996  832 Curtis Dam Suite 785\\nNorth Edwardburgh, T...  41 JY       AM   \n9997              Unit 4434 Box 6343\\nDPO AE 28026-0283  74 Zh       AM   \n9998               0096 English Rest\\nRoystad, IA 12457  74 cL       PM   \n9999     40674 Barrett Stravenue\\nGrimesville, WI 79682  64 Hr       AM   \n\n                                           Browser Info  \\\n0     Opera/9.56.(X11; Linux x86_64; sl-SI) Presto/2...   \n1     Opera/8.93.(Windows 98; Win 9x 4.90; en-US) Pr...   \n2     Mozilla/5.0 (compatible; MSIE 9.0; Windows NT ...   \n3     Mozilla/5.0 (Macintosh; Intel Mac OS X 10_8_0 ...   \n4     Opera/9.58.(X11; Linux x86_64; it-IT) Presto/2...   \n5     Mozilla/5.0 (Macintosh; U; PPC Mac OS X 10_8_5...   \n6     Mozilla/5.0 (compatible; MSIE 7.0; Windows NT ...   \n7     Mozilla/5.0 (X11; Linux i686) AppleWebKit/5350...   \n8     Mozilla/5.0 (Macintosh; U; Intel Mac OS X 10_7...   \n9     Mozilla/5.0 (X11; Linux i686; rv:1.9.7.20) Gec...   \n10    Mozilla/5.0 (iPod; U; CPU iPhone OS 4_1 like M...   \n11    Mozilla/5.0 (X11; Linux i686; rv:1.9.6.20) Gec...   \n12    Mozilla/5.0 (Macintosh; Intel Mac OS X 10_5_3 ...   \n13    Mozilla/5.0 (Macintosh; U; Intel Mac OS X 10_8...   \n14    Mozilla/5.0 (Windows 98; it-IT; rv:1.9.2.20) G...   \n15    Opera/8.95.(Windows NT 5.0; en-US) Presto/2.9....   \n16    Opera/9.73.(Windows NT 6.2; sl-SI) Presto/2.9....   \n17    Mozilla/5.0 (compatible; MSIE 9.0; Windows NT ...   \n18    Mozilla/5.0 (X11; Linux i686; rv:1.9.6.20) Gec...   \n19    Mozilla/5.0 (compatible; MSIE 7.0; Windows NT ...   \n20    Mozilla/5.0 (Windows; U; Windows NT 4.0) Apple...   \n21    Mozilla/5.0 (compatible; MSIE 6.0; Windows NT ...   \n22    Mozilla/5.0 (Windows 95) AppleWebKit/5342 (KHT...   \n23    Mozilla/5.0 (compatible; MSIE 5.0; Windows 98;...   \n24    Mozilla/5.0 (compatible; MSIE 6.0; Windows CE;...   \n25    Mozilla/5.0 (Macintosh; U; PPC Mac OS X 10_7_1...   \n26    Mozilla/5.0 (Macintosh; Intel Mac OS X 10_6_3)...   \n27    Opera/9.75.(Windows NT 6.0; en-US) Presto/2.9....   \n28    Mozilla/5.0 (Windows; U; Windows NT 6.1) Apple...   \n29    Mozilla/5.0 (Macintosh; U; PPC Mac OS X 10_6_7...   \n...                                                 ...   \n9970  Mozilla/5.0 (Macintosh; U; Intel Mac OS X 10_8...   \n9971  Mozilla/5.0 (X11; Linux i686) AppleWebKit/5360...   \n9972  Mozilla/5.0 (Windows NT 5.1; en-US; rv:1.9.2.2...   \n9973  Mozilla/5.0 (Windows NT 5.2) AppleWebKit/5362 ...   \n9974  Mozilla/5.0 (Windows 95) AppleWebKit/5312 (KHT...   \n9975  Mozilla/5.0 (Macintosh; U; PPC Mac OS X 10_7_8...   \n9976  Opera/9.38.(Windows NT 5.01; it-IT) Presto/2.9...   \n9977  Mozilla/5.0 (compatible; MSIE 9.0; Windows NT ...   \n9978  Mozilla/5.0 (Macintosh; PPC Mac OS X 10_7_3; r...   \n9979  Mozilla/5.0 (Windows NT 6.1) AppleWebKit/5311 ...   \n9980  Opera/8.58.(Windows NT 5.0; it-IT) Presto/2.9....   \n9981  Opera/9.63.(Windows NT 5.01; en-US) Presto/2.9...   \n9982  Mozilla/5.0 (Macintosh; U; PPC Mac OS X 10_6_0...   \n9983  Mozilla/5.0 (compatible; MSIE 8.0; Windows NT ...   \n9984  Mozilla/5.0 (Windows; U; Windows 98; Win 9x 4....   \n9985  Mozilla/5.0 (Macintosh; U; Intel Mac OS X 10_7...   \n9986  Mozilla/5.0 (Windows NT 5.2; sl-SI; rv:1.9.1.2...   \n9987  Opera/9.26.(Windows CE; sl-SI) Presto/2.9.188 ...   \n9988  Mozilla/5.0 (compatible; MSIE 7.0; Windows 98;...   \n9989  Mozilla/5.0 (compatible; MSIE 9.0; Windows NT ...   \n9990  Mozilla/5.0 (Macintosh; Intel Mac OS X 10_7_4;...   \n9991  Mozilla/5.0 (compatible; MSIE 8.0; Windows NT ...   \n9992  Mozilla/5.0 (Macintosh; PPC Mac OS X 10_6_5) A...   \n9993  Mozilla/5.0 (Macintosh; U; Intel Mac OS X 10_8...   \n9994  Opera/9.68.(X11; Linux x86_64; sl-SI) Presto/2...   \n9995  Mozilla/5.0 (Windows NT 5.1) AppleWebKit/5352 ...   \n9996  Mozilla/5.0 (compatible; MSIE 9.0; Windows NT ...   \n9997  Mozilla/5.0 (Macintosh; U; Intel Mac OS X 10_7...   \n9998  Mozilla/5.0 (Macintosh; Intel Mac OS X 10_8_8;...   \n9999  Mozilla/5.0 (X11; Linux i686; rv:1.9.5.20) Gec...   \n\n                               Company       Credit Card CC Exp Date  \\\n0                      Martinez-Herman  6011929061123406       02/20   \n1      Fletcher, Richards and Whitaker  3337758169645356       11/18   \n2           Simpson, Williams and Pham      675957666125       08/19   \n3      Williams, Marshall and Buchanan  6011578504430710       02/24   \n4            Brown, Watson and Andrews  6011456623207998       10/25   \n5                       Silva-Anderson    30246185196287       07/25   \n6                      Gibson and Sons  6011398782655569       07/24   \n7                     Marshall-Collins      561252141909       06/25   \n8                    Galloway and Sons   180041795790001       04/24   \n9         Rivera, Buchanan and Ramirez     4396283918371       01/17   \n10    Strickland, Michael and Gonzales   180036417827355       02/17   \n11                          Kim-Oliver   869975209012056       06/26   \n12                        Moore-Martin  5115990487067905       05/26   \n13                          Keller PLC  4603635169938574       01/25   \n14            Leach, Howe and Ferguson   869967499275071       09/22   \n15                       Garcia-Steele   180069437020404       04/25   \n16     Stanton, Villanueva and Swanson      676121145525       06/22   \n17       Fernandez, Melton and Gilbert  3337515540944084       01/26   \n18              Beard, Abbott and Pena  6011350184276270       12/22   \n19                     Turner-Mckinney      676343504830       02/20   \n20          Santana, Montes and Pierce  6011833038852776       03/22   \n21                        Guzman-Reese  5491255326230898       03/25   \n22                         Burnett Ltd  3158663456056588       07/22   \n23                            Cruz Inc      502010078983       02/23   \n24                          Morris PLC  4749728852401144       07/18   \n25                     Saunders-Mendez   869938033091779       05/19   \n26         Stephens, Johnson and Combs       60488441233       03/19   \n27            Levine, Shaw and Jenkins   869948145612941       12/16   \n28                            Reed Inc   180026477662982       11/24   \n29                         Goodwin Ltd  4170734785397597       07/22   \n...                                ...               ...         ...   \n9970          Carpenter, Good and Hart  6011485664704662       07/19   \n9971                     Brewer-Howard  5359660631103048       01/21   \n9972              Davis, Wise and Diaz   370589883240776       04/22   \n9973                        Morrow Inc      501850922854       02/19   \n9974                     Griffin-Lopez      630407297302       04/26   \n9975                      Bowen-Nelson  5361597780221625       01/19   \n9976                  Henderson-Kelley  4458996242274056       08/21   \n9977       Deleon, Jacobson and Benton  4186094003664688       06/21   \n9978                       Perez Group  3088185172584201       11/21   \n9979                   Randall-Ramirez   346734838013255       10/23   \n9980                       Cortez-Frye  6011944199756993       12/24   \n9981          Ortiz, Schultz and Adams     4690863684605       01/19   \n9982                          Chen LLC   210040992311995       09/18   \n9983                        Hall-Cantu   343856674589081       04/23   \n9984                    Johnson-Brandt  3088208142188125       03/21   \n9985                       Murphy-Cook  6011264939622870       08/21   \n9986                   Campbell-Hurley  4220882411745414       08/18   \n9987                        Curtis LLC   180027305702263       12/24   \n9988                   Williams-Walker  4207292109379681       10/16   \n9989      Vargas, Nichols and Martinez  5278049688438382       12/23   \n9990        Pace, Vazquez and Richards   869968197049750       04/24   \n9991                        Snyder Inc  4221582137197481       02/24   \n9992                         Wells Ltd  4664825258997302       10/20   \n9993                    Colon and Sons    30025560104631       10/25   \n9994                      Ritter-Smith  3112186784121077       01/25   \n9995                     Randall-Sloan   342945015358701       03/22   \n9996          Hale, Collins and Wilson   210033169205009       07/25   \n9997                      Anderson Ltd  6011539787356311       05/21   \n9998                          Cook Inc   180003348082930       11/17   \n9999                        Greene Inc  4139972901927273       02/19   \n\n      CC Security Code                  CC Provider  \\\n0                  900                 JCB 16 digit   \n1                  561                   Mastercard   \n2                  699                 JCB 16 digit   \n3                  384                     Discover   \n4                  678  Diners Club / Carte Blanche   \n5                 7169                     Discover   \n6                  714                VISA 16 digit   \n7                  256                VISA 13 digit   \n8                  899                 JCB 16 digit   \n9                  931             American Express   \n10                 754                      Voyager   \n11                9717                 JCB 15 digit   \n12                 119                VISA 16 digit   \n13                 557                VISA 16 digit   \n14                 427                VISA 16 digit   \n15                 404  Diners Club / Carte Blanche   \n16                 285  Diners Club / Carte Blanche   \n17                 771             American Express   \n18                 767                   Mastercard   \n19                 440                VISA 16 digit   \n20                 740                      Maestro   \n21                 506                 JCB 16 digit   \n22                 508                     Discover   \n23                  60                VISA 13 digit   \n24                  11                 JCB 15 digit   \n25                 901                      Voyager   \n26                  70                VISA 13 digit   \n27                 310  Diners Club / Carte Blanche   \n28                  16                 JCB 15 digit   \n29                 319                      Maestro   \n...                ...                          ...   \n9970               543                     Discover   \n9971               586                      Voyager   \n9972               748                VISA 13 digit   \n9973              2708             American Express   \n9974               627                VISA 16 digit   \n9975               225                 JCB 16 digit   \n9976               291                VISA 16 digit   \n9977               397                 JCB 16 digit   \n9978               589                     Discover   \n9979               224                 JCB 16 digit   \n9980               755                 JCB 15 digit   \n9981               695                   Mastercard   \n9982                79                 JCB 16 digit   \n9983               206                 JCB 16 digit   \n9984               572                      Maestro   \n9985               847                VISA 16 digit   \n9986               460                 JCB 16 digit   \n9987               865                   Mastercard   \n9988               571  Diners Club / Carte Blanche   \n9989               996                VISA 16 digit   \n9990               877                 JCB 15 digit   \n9991               969                      Voyager   \n9992               431                     Discover   \n9993               629                      Maestro   \n9994              1823                      Maestro   \n9995               838                 JCB 15 digit   \n9996               207                 JCB 16 digit   \n9997                 1                VISA 16 digit   \n9998               987             American Express   \n9999               302                 JCB 15 digit   \n\n                                  Email  \\\n0                     pdunlap@yahoo.com   \n1                    anthony41@reed.com   \n2        amymiller@morales-harrison.com   \n3           brent16@olson-robinson.info   \n4           christopherwright@gmail.com   \n5                     ynguyen@gmail.com   \n6                    olivia04@yahoo.com   \n7                  phillip48@parks.info   \n8                  kdavis@rasmussen.com   \n9              qcoleman@hunt-huerta.com   \n10                 ustewart@hotmail.com   \n11             johnnymiller@coleman.com   \n12                    tholt@hotmail.com   \n13                  caitlin57@yahoo.com   \n14                     aburns@yahoo.com   \n15                   amanda39@yahoo.com   \n16          griffincatherine@wilson.com   \n17               stacymitchell@hall.com   \n18                   hannah63@yahoo.com   \n19                 ruiznicole@gmail.com   \n20               zstephenson@smith.info   \n21                   rsmith@hotmail.com   \n22            chambersmichael@gmail.com   \n23          ltaylor@gardner-meadows.com   \n24                    james07@yahoo.com   \n25                 madison41@mooney.com   \n26                     mlogan@gmail.com   \n27                michael35@hotmail.com   \n28                khandeborah@yahoo.com   \n29                 stonekaren@yahoo.com   \n...                                 ...   \n9970            rangelbrian@hotmail.com   \n9971          leslierichards@warner.org   \n9972              kellycole@hotmail.com   \n9973                   rlewis@yahoo.com   \n9974                  paula72@yahoo.com   \n9975               taylordiaz@roman.net   \n9976                   pbrown@gmail.com   \n9977             daltoncarter@yahoo.com   \n9978                 ywhite@hotmail.com   \n9979                 qjohnson@yahoo.com   \n9980           mark74@kirby-stewart.org   \n9981         laurenbennett@richards.com   \n9982                heather24@gmail.com   \n9983  jacksonmanuel@rodriguez-welch.com   \n9984              clee@vasquez-luna.com   \n9985               cranejames@white.com   \n9986           belindaleon@schwartz.com   \n9987           denisehamilton@novak.biz   \n9988             hudsonmichael@pace.com   \n9989         walterswilliam@hotmail.com   \n9990        andersonmichael@sherman.biz   \n9991                 kking@wise-liu.com   \n9992                  bberry@wright.net   \n9993          chelseawilliams@lopez.biz   \n9994                 iroberts@gmail.com   \n9995             iscott@wade-garner.com   \n9996                 mary85@hotmail.com   \n9997                  tyler16@gmail.com   \n9998            elizabethmoore@reid.net   \n9999              rachelford@vaughn.com   \n\n                                         Job       IP Address Language  \\\n0     Scientist, product/process development  149.146.147.205       el   \n1                          Drilling engineer     15.160.41.51       fr   \n2                   Customer service manager   132.207.160.22       de   \n3                          Drilling engineer     30.250.74.19       es   \n4                                Fine artist     24.140.33.94       es   \n5                          Fish farm manager    55.96.152.147       ru   \n6                                     Dancer   127.252.144.18       de   \n7                            Event organiser   224.247.97.150       pt   \n8                          Financial manager  146.234.201.229       ru   \n9                         Forensic scientist    236.198.199.8       zh   \n10             Development worker, community       26.59.93.1       el   \n11                   Diagnostic radiographer   128.222.40.234       en   \n12                        Surveyor, quantity   236.71.234.240       en   \n13      Accountant, chartered public finance     84.212.92.11       it   \n14                             Acupuncturist      50.25.148.1       de   \n15                            Retail manager    53.176.235.33       el   \n16                            Therapist, art     8.145.170.52       de   \n17                       Designer, jewellery    223.25.125.61       el   \n18                              Photographer   73.250.176.201       el   \n19                Designer, interior/spatial   25.105.209.214       fr   \n20                  Public relations officer    250.71.54.180       de   \n21                   Presenter, broadcasting    125.58.66.253       it   \n22                            Retail manager    65.106.61.141       en   \n23                        Field seismologist   25.193.145.116       ru   \n24                                  Musician   21.113.231.220       es   \n25          Training and development officer    67.26.186.226       de   \n26                         Barrister's clerk   61.197.134.185       en   \n27                           Careers adviser   177.220.131.93       es   \n28       Scientist, research (life sciences)  142.131.235.225       es   \n29                         Recycling officer  218.189.145.248       it   \n...                                      ...              ...      ...   \n9970                     Electrical engineer     242.8.85.205       en   \n9971                          Therapist, art     81.2.189.127       de   \n9972                  Sales professional, IT    102.53.225.61       zh   \n9973               Editor, magazine features   201.88.164.123       en   \n9974                        Sports therapist  166.220.170.176       el   \n9975               Education officer, museum    114.197.6.210       zh   \n9976                      Furniture designer    109.108.177.2       es   \n9977                     Biomedical engineer    146.238.118.2       fr   \n9978            Designer, exhibition/display   232.219.30.162       de   \n9979                                  Lawyer     17.76.83.105       en   \n9980                        Textile designer   110.103.77.195       fr   \n9981         Environmental education officer    106.21.237.73       pt   \n9982                      Restaurant manager     93.254.124.2       it   \n9983     Scientist, research (life sciences)    245.22.66.225       de   \n9984                   Editor, commissioning   140.157.37.218       el   \n9985              Designer, interior/spatial    188.73.131.92       de   \n9986                              Cabin crew   110.103.102.55       it   \n9987                  Primary school teacher   164.39.190.217       es   \n9988                      Charity fundraiser   136.169.160.82       de   \n9989            Community development worker   39.162.164.169       pt   \n9990                     Early years teacher     54.170.3.185       ru   \n9991                   IT sales professional    254.25.31.156       el   \n9992                            Set designer    174.173.51.32       de   \n9993            Designer, exhibition/display    177.46.82.128       el   \n9994               Education officer, museum    242.44.112.18       zh   \n9995                              Printmaker    29.73.197.114       it   \n9996                         Energy engineer   121.133.168.51       pt   \n9997                      Veterinary surgeon    156.210.0.254       el   \n9998                Local government officer     55.78.26.143       es   \n9999                  Embryologist, clinical  176.119.198.199       el   \n\n      Purchase Price  \n0              98.14  \n1              70.73  \n2               0.95  \n3              78.04  \n4              77.82  \n5              25.15  \n6              88.56  \n7              44.25  \n8              59.54  \n9              95.63  \n10             96.89  \n11             19.26  \n12             39.65  \n13              8.93  \n14             24.18  \n15             71.78  \n16             84.44  \n17             58.68  \n18             70.15  \n19             58.39  \n20             30.33  \n21             90.93  \n22             33.62  \n23             97.97  \n24             85.31  \n25              6.25  \n26             17.75  \n27             39.40  \n28             70.75  \n29             82.16  \n...              ...  \n9970           17.76  \n9971           65.06  \n9972           18.10  \n9973           83.30  \n9974           66.45  \n9975            3.77  \n9976           37.73  \n9977           94.93  \n9978           14.49  \n9979           14.55  \n9980           16.05  \n9981           63.61  \n9982           56.25  \n9983           47.70  \n9984           33.57  \n9985           46.33  \n9986           22.02  \n9987           60.83  \n9988           89.76  \n9989           17.18  \n9990           18.35  \n9991           25.93  \n9992           67.96  \n9993           65.61  \n9994           31.85  \n9995           82.21  \n9996           25.63  \n9997           83.98  \n9998           38.84  \n9999           67.59  \n\n[10000 rows x 14 columns]"
                    },
                    "execution_count": 6
                }
            ],
            "metadata": {}
        },
        {
            "source": "df.head()",
            "cell_type": "code",
            "execution_count": 7,
            "outputs": [
                {
                    "output_type": "execute_result",
                    "metadata": {},
                    "data": {
                        "text/html": "<div>\n<style scoped>\n    .dataframe tbody tr th:only-of-type {\n        vertical-align: middle;\n    }\n\n    .dataframe tbody tr th {\n        vertical-align: top;\n    }\n\n    .dataframe thead th {\n        text-align: right;\n    }\n</style>\n<table border=\"1\" class=\"dataframe\">\n  <thead>\n    <tr style=\"text-align: right;\">\n      <th></th>\n      <th>Address</th>\n      <th>Lot</th>\n      <th>AM or PM</th>\n      <th>Browser Info</th>\n      <th>Company</th>\n      <th>Credit Card</th>\n      <th>CC Exp Date</th>\n      <th>CC Security Code</th>\n      <th>CC Provider</th>\n      <th>Email</th>\n      <th>Job</th>\n      <th>IP Address</th>\n      <th>Language</th>\n      <th>Purchase Price</th>\n    </tr>\n  </thead>\n  <tbody>\n    <tr>\n      <th>0</th>\n      <td>16629 Pace Camp Apt. 448\\nAlexisborough, NE 77...</td>\n      <td>46 in</td>\n      <td>PM</td>\n      <td>Opera/9.56.(X11; Linux x86_64; sl-SI) Presto/2...</td>\n      <td>Martinez-Herman</td>\n      <td>6011929061123406</td>\n      <td>02/20</td>\n      <td>900</td>\n      <td>JCB 16 digit</td>\n      <td>pdunlap@yahoo.com</td>\n      <td>Scientist, product/process development</td>\n      <td>149.146.147.205</td>\n      <td>el</td>\n      <td>98.14</td>\n    </tr>\n    <tr>\n      <th>1</th>\n      <td>9374 Jasmine Spurs Suite 508\\nSouth John, TN 8...</td>\n      <td>28 rn</td>\n      <td>PM</td>\n      <td>Opera/8.93.(Windows 98; Win 9x 4.90; en-US) Pr...</td>\n      <td>Fletcher, Richards and Whitaker</td>\n      <td>3337758169645356</td>\n      <td>11/18</td>\n      <td>561</td>\n      <td>Mastercard</td>\n      <td>anthony41@reed.com</td>\n      <td>Drilling engineer</td>\n      <td>15.160.41.51</td>\n      <td>fr</td>\n      <td>70.73</td>\n    </tr>\n    <tr>\n      <th>2</th>\n      <td>Unit 0065 Box 5052\\nDPO AP 27450</td>\n      <td>94 vE</td>\n      <td>PM</td>\n      <td>Mozilla/5.0 (compatible; MSIE 9.0; Windows NT ...</td>\n      <td>Simpson, Williams and Pham</td>\n      <td>675957666125</td>\n      <td>08/19</td>\n      <td>699</td>\n      <td>JCB 16 digit</td>\n      <td>amymiller@morales-harrison.com</td>\n      <td>Customer service manager</td>\n      <td>132.207.160.22</td>\n      <td>de</td>\n      <td>0.95</td>\n    </tr>\n    <tr>\n      <th>3</th>\n      <td>7780 Julia Fords\\nNew Stacy, WA 45798</td>\n      <td>36 vm</td>\n      <td>PM</td>\n      <td>Mozilla/5.0 (Macintosh; Intel Mac OS X 10_8_0 ...</td>\n      <td>Williams, Marshall and Buchanan</td>\n      <td>6011578504430710</td>\n      <td>02/24</td>\n      <td>384</td>\n      <td>Discover</td>\n      <td>brent16@olson-robinson.info</td>\n      <td>Drilling engineer</td>\n      <td>30.250.74.19</td>\n      <td>es</td>\n      <td>78.04</td>\n    </tr>\n    <tr>\n      <th>4</th>\n      <td>23012 Munoz Drive Suite 337\\nNew Cynthia, TX 5...</td>\n      <td>20 IE</td>\n      <td>AM</td>\n      <td>Opera/9.58.(X11; Linux x86_64; it-IT) Presto/2...</td>\n      <td>Brown, Watson and Andrews</td>\n      <td>6011456623207998</td>\n      <td>10/25</td>\n      <td>678</td>\n      <td>Diners Club / Carte Blanche</td>\n      <td>christopherwright@gmail.com</td>\n      <td>Fine artist</td>\n      <td>24.140.33.94</td>\n      <td>es</td>\n      <td>77.82</td>\n    </tr>\n  </tbody>\n</table>\n</div>",
                        "text/plain": "                                             Address    Lot AM or PM  \\\n0  16629 Pace Camp Apt. 448\\nAlexisborough, NE 77...  46 in       PM   \n1  9374 Jasmine Spurs Suite 508\\nSouth John, TN 8...  28 rn       PM   \n2                   Unit 0065 Box 5052\\nDPO AP 27450  94 vE       PM   \n3              7780 Julia Fords\\nNew Stacy, WA 45798  36 vm       PM   \n4  23012 Munoz Drive Suite 337\\nNew Cynthia, TX 5...  20 IE       AM   \n\n                                        Browser Info  \\\n0  Opera/9.56.(X11; Linux x86_64; sl-SI) Presto/2...   \n1  Opera/8.93.(Windows 98; Win 9x 4.90; en-US) Pr...   \n2  Mozilla/5.0 (compatible; MSIE 9.0; Windows NT ...   \n3  Mozilla/5.0 (Macintosh; Intel Mac OS X 10_8_0 ...   \n4  Opera/9.58.(X11; Linux x86_64; it-IT) Presto/2...   \n\n                           Company       Credit Card CC Exp Date  \\\n0                  Martinez-Herman  6011929061123406       02/20   \n1  Fletcher, Richards and Whitaker  3337758169645356       11/18   \n2       Simpson, Williams and Pham      675957666125       08/19   \n3  Williams, Marshall and Buchanan  6011578504430710       02/24   \n4        Brown, Watson and Andrews  6011456623207998       10/25   \n\n   CC Security Code                  CC Provider  \\\n0               900                 JCB 16 digit   \n1               561                   Mastercard   \n2               699                 JCB 16 digit   \n3               384                     Discover   \n4               678  Diners Club / Carte Blanche   \n\n                            Email                                     Job  \\\n0               pdunlap@yahoo.com  Scientist, product/process development   \n1              anthony41@reed.com                       Drilling engineer   \n2  amymiller@morales-harrison.com                Customer service manager   \n3     brent16@olson-robinson.info                       Drilling engineer   \n4     christopherwright@gmail.com                             Fine artist   \n\n        IP Address Language  Purchase Price  \n0  149.146.147.205       el           98.14  \n1     15.160.41.51       fr           70.73  \n2   132.207.160.22       de            0.95  \n3     30.250.74.19       es           78.04  \n4     24.140.33.94       es           77.82  "
                    },
                    "execution_count": 7
                }
            ],
            "metadata": {}
        },
        {
            "source": "**Check the head of the DataFrame.**",
            "cell_type": "markdown",
            "metadata": {}
        },
        {
            "source": "",
            "cell_type": "code",
            "execution_count": 87,
            "outputs": [
                {
                    "execution_count": 87,
                    "metadata": {},
                    "data": {
                        "text/html": "<div>\n<table border=\"1\" class=\"dataframe\">\n  <thead>\n    <tr style=\"text-align: right;\">\n      <th></th>\n      <th>Address</th>\n      <th>Lot</th>\n      <th>AM or PM</th>\n      <th>Browser Info</th>\n      <th>Company</th>\n      <th>Credit Card</th>\n      <th>CC Exp Date</th>\n      <th>CC Security Code</th>\n      <th>CC Provider</th>\n      <th>Email</th>\n      <th>Job</th>\n      <th>IP Address</th>\n      <th>Language</th>\n      <th>Purchase Price</th>\n    </tr>\n  </thead>\n  <tbody>\n    <tr>\n      <th>0</th>\n      <td>16629 Pace Camp Apt. 448\\nAlexisborough, NE 77...</td>\n      <td>46 in</td>\n      <td>PM</td>\n      <td>Opera/9.56.(X11; Linux x86_64; sl-SI) Presto/2...</td>\n      <td>Martinez-Herman</td>\n      <td>6011929061123406</td>\n      <td>02/20</td>\n      <td>900</td>\n      <td>JCB 16 digit</td>\n      <td>pdunlap@yahoo.com</td>\n      <td>Scientist, product/process development</td>\n      <td>149.146.147.205</td>\n      <td>el</td>\n      <td>98.14</td>\n    </tr>\n    <tr>\n      <th>1</th>\n      <td>9374 Jasmine Spurs Suite 508\\nSouth John, TN 8...</td>\n      <td>28 rn</td>\n      <td>PM</td>\n      <td>Opera/8.93.(Windows 98; Win 9x 4.90; en-US) Pr...</td>\n      <td>Fletcher, Richards and Whitaker</td>\n      <td>3337758169645356</td>\n      <td>11/18</td>\n      <td>561</td>\n      <td>Mastercard</td>\n      <td>anthony41@reed.com</td>\n      <td>Drilling engineer</td>\n      <td>15.160.41.51</td>\n      <td>fr</td>\n      <td>70.73</td>\n    </tr>\n    <tr>\n      <th>2</th>\n      <td>Unit 0065 Box 5052\\nDPO AP 27450</td>\n      <td>94 vE</td>\n      <td>PM</td>\n      <td>Mozilla/5.0 (compatible; MSIE 9.0; Windows NT ...</td>\n      <td>Simpson, Williams and Pham</td>\n      <td>675957666125</td>\n      <td>08/19</td>\n      <td>699</td>\n      <td>JCB 16 digit</td>\n      <td>amymiller@morales-harrison.com</td>\n      <td>Customer service manager</td>\n      <td>132.207.160.22</td>\n      <td>de</td>\n      <td>0.95</td>\n    </tr>\n    <tr>\n      <th>3</th>\n      <td>7780 Julia Fords\\nNew Stacy, WA 45798</td>\n      <td>36 vm</td>\n      <td>PM</td>\n      <td>Mozilla/5.0 (Macintosh; Intel Mac OS X 10_8_0 ...</td>\n      <td>Williams, Marshall and Buchanan</td>\n      <td>6011578504430710</td>\n      <td>02/24</td>\n      <td>384</td>\n      <td>Discover</td>\n      <td>brent16@olson-robinson.info</td>\n      <td>Drilling engineer</td>\n      <td>30.250.74.19</td>\n      <td>es</td>\n      <td>78.04</td>\n    </tr>\n    <tr>\n      <th>4</th>\n      <td>23012 Munoz Drive Suite 337\\nNew Cynthia, TX 5...</td>\n      <td>20 IE</td>\n      <td>AM</td>\n      <td>Opera/9.58.(X11; Linux x86_64; it-IT) Presto/2...</td>\n      <td>Brown, Watson and Andrews</td>\n      <td>6011456623207998</td>\n      <td>10/25</td>\n      <td>678</td>\n      <td>Diners Club / Carte Blanche</td>\n      <td>christopherwright@gmail.com</td>\n      <td>Fine artist</td>\n      <td>24.140.33.94</td>\n      <td>es</td>\n      <td>77.82</td>\n    </tr>\n  </tbody>\n</table>\n</div>",
                        "text/plain": "                                             Address    Lot AM or PM  \\\n0  16629 Pace Camp Apt. 448\\nAlexisborough, NE 77...  46 in       PM   \n1  9374 Jasmine Spurs Suite 508\\nSouth John, TN 8...  28 rn       PM   \n2                   Unit 0065 Box 5052\\nDPO AP 27450  94 vE       PM   \n3              7780 Julia Fords\\nNew Stacy, WA 45798  36 vm       PM   \n4  23012 Munoz Drive Suite 337\\nNew Cynthia, TX 5...  20 IE       AM   \n\n                                        Browser Info  \\\n0  Opera/9.56.(X11; Linux x86_64; sl-SI) Presto/2...   \n1  Opera/8.93.(Windows 98; Win 9x 4.90; en-US) Pr...   \n2  Mozilla/5.0 (compatible; MSIE 9.0; Windows NT ...   \n3  Mozilla/5.0 (Macintosh; Intel Mac OS X 10_8_0 ...   \n4  Opera/9.58.(X11; Linux x86_64; it-IT) Presto/2...   \n\n                           Company       Credit Card CC Exp Date  \\\n0                  Martinez-Herman  6011929061123406       02/20   \n1  Fletcher, Richards and Whitaker  3337758169645356       11/18   \n2       Simpson, Williams and Pham      675957666125       08/19   \n3  Williams, Marshall and Buchanan  6011578504430710       02/24   \n4        Brown, Watson and Andrews  6011456623207998       10/25   \n\n   CC Security Code                  CC Provider  \\\n0               900                 JCB 16 digit   \n1               561                   Mastercard   \n2               699                 JCB 16 digit   \n3               384                     Discover   \n4               678  Diners Club / Carte Blanche   \n\n                            Email                                     Job  \\\n0               pdunlap@yahoo.com  Scientist, product/process development   \n1              anthony41@reed.com                       Drilling engineer   \n2  amymiller@morales-harrison.com                Customer service manager   \n3     brent16@olson-robinson.info                       Drilling engineer   \n4     christopherwright@gmail.com                             Fine artist   \n\n        IP Address Language  Purchase Price  \n0  149.146.147.205       el           98.14  \n1     15.160.41.51       fr           70.73  \n2   132.207.160.22       de            0.95  \n3     30.250.74.19       es           78.04  \n4     24.140.33.94       es           77.82  "
                    },
                    "output_type": "execute_result"
                }
            ],
            "metadata": {}
        },
        {
            "source": "** How many rows and columns are there? **",
            "cell_type": "markdown",
            "metadata": {}
        },
        {
            "source": "df.shape",
            "cell_type": "code",
            "execution_count": 8,
            "outputs": [
                {
                    "output_type": "execute_result",
                    "metadata": {},
                    "data": {
                        "text/plain": "(10000, 14)"
                    },
                    "execution_count": 8
                }
            ],
            "metadata": {}
        },
        {
            "source": "df.info()",
            "cell_type": "code",
            "execution_count": 9,
            "outputs": [
                {
                    "output_type": "stream",
                    "name": "stdout",
                    "text": "<class 'pandas.core.frame.DataFrame'>\nRangeIndex: 10000 entries, 0 to 9999\nData columns (total 14 columns):\nAddress             10000 non-null object\nLot                 10000 non-null object\nAM or PM            10000 non-null object\nBrowser Info        10000 non-null object\nCompany             10000 non-null object\nCredit Card         10000 non-null int64\nCC Exp Date         10000 non-null object\nCC Security Code    10000 non-null int64\nCC Provider         10000 non-null object\nEmail               10000 non-null object\nJob                 10000 non-null object\nIP Address          10000 non-null object\nLanguage            10000 non-null object\nPurchase Price      10000 non-null float64\ndtypes: float64(1), int64(2), object(11)\nmemory usage: 1.1+ MB\n"
                }
            ],
            "metadata": {}
        },
        {
            "source": "",
            "cell_type": "code",
            "execution_count": 88,
            "outputs": [
                {
                    "output_type": "stream",
                    "name": "stdout",
                    "text": "<class 'pandas.core.frame.DataFrame'>\nRangeIndex: 10000 entries, 0 to 9999\nData columns (total 14 columns):\nAddress             10000 non-null object\nLot                 10000 non-null object\nAM or PM            10000 non-null object\nBrowser Info        10000 non-null object\nCompany             10000 non-null object\nCredit Card         10000 non-null int64\nCC Exp Date         10000 non-null object\nCC Security Code    10000 non-null int64\nCC Provider         10000 non-null object\nEmail               10000 non-null object\nJob                 10000 non-null object\nIP Address          10000 non-null object\nLanguage            10000 non-null object\nPurchase Price      10000 non-null float64\ndtypes: float64(1), int64(2), object(11)\nmemory usage: 1.1+ MB\n"
                }
            ],
            "metadata": {}
        },
        {
            "source": "** What is the average Purchase Price? **",
            "cell_type": "markdown",
            "metadata": {}
        },
        {
            "source": "df['Purchase Price'].mean()",
            "cell_type": "code",
            "execution_count": 10,
            "outputs": [
                {
                    "output_type": "execute_result",
                    "metadata": {},
                    "data": {
                        "text/plain": "50.34730200000025"
                    },
                    "execution_count": 10
                }
            ],
            "metadata": {}
        },
        {
            "source": "",
            "cell_type": "code",
            "execution_count": 90,
            "outputs": [
                {
                    "execution_count": 90,
                    "metadata": {},
                    "data": {
                        "text/plain": "50.34730200000025"
                    },
                    "output_type": "execute_result"
                }
            ],
            "metadata": {}
        },
        {
            "source": "** What were the highest and lowest purchase prices? **",
            "cell_type": "markdown",
            "metadata": {}
        },
        {
            "source": "df['Purchase Price'].max()",
            "cell_type": "code",
            "execution_count": 11,
            "outputs": [
                {
                    "output_type": "execute_result",
                    "metadata": {},
                    "data": {
                        "text/plain": "99.989999999999995"
                    },
                    "execution_count": 11
                }
            ],
            "metadata": {}
        },
        {
            "source": "",
            "cell_type": "code",
            "execution_count": 92,
            "outputs": [
                {
                    "execution_count": 92,
                    "metadata": {},
                    "data": {
                        "text/plain": "99.989999999999995"
                    },
                    "output_type": "execute_result"
                }
            ],
            "metadata": {}
        },
        {
            "source": "df['Purchase Price'].min()",
            "cell_type": "code",
            "execution_count": 12,
            "outputs": [
                {
                    "output_type": "execute_result",
                    "metadata": {},
                    "data": {
                        "text/plain": "0.0"
                    },
                    "execution_count": 12
                }
            ],
            "metadata": {}
        },
        {
            "source": "",
            "cell_type": "code",
            "execution_count": 93,
            "outputs": [
                {
                    "execution_count": 93,
                    "metadata": {},
                    "data": {
                        "text/plain": "0.0"
                    },
                    "output_type": "execute_result"
                }
            ],
            "metadata": {}
        },
        {
            "source": "** How many people have English 'en' as their Language of choice on the website? **",
            "cell_type": "markdown",
            "metadata": {}
        },
        {
            "source": "df[df['Language'] == 'en'].count()",
            "cell_type": "code",
            "execution_count": 21,
            "outputs": [
                {
                    "output_type": "execute_result",
                    "metadata": {},
                    "data": {
                        "text/plain": "Address             1098\nLot                 1098\nAM or PM            1098\nBrowser Info        1098\nCompany             1098\nCredit Card         1098\nCC Exp Date         1098\nCC Security Code    1098\nCC Provider         1098\nEmail               1098\nJob                 1098\nIP Address          1098\nLanguage            1098\nPurchase Price      1098\ndtype: int64"
                    },
                    "execution_count": 21
                }
            ],
            "metadata": {}
        },
        {
            "source": "",
            "cell_type": "code",
            "execution_count": 94,
            "outputs": [
                {
                    "execution_count": 94,
                    "metadata": {},
                    "data": {
                        "text/plain": "Address             1098\nLot                 1098\nAM or PM            1098\nBrowser Info        1098\nCompany             1098\nCredit Card         1098\nCC Exp Date         1098\nCC Security Code    1098\nCC Provider         1098\nEmail               1098\nJob                 1098\nIP Address          1098\nLanguage            1098\nPurchase Price      1098\ndtype: int64"
                    },
                    "output_type": "execute_result"
                }
            ],
            "metadata": {}
        },
        {
            "source": "** How many people have the job title of \"Lawyer\" ? **\n",
            "cell_type": "markdown",
            "metadata": {}
        },
        {
            "source": "df[df['Job'] == 'Lawyer'].info()",
            "cell_type": "code",
            "execution_count": 22,
            "outputs": [
                {
                    "output_type": "stream",
                    "name": "stdout",
                    "text": "<class 'pandas.core.frame.DataFrame'>\nInt64Index: 30 entries, 470 to 9979\nData columns (total 14 columns):\nAddress             30 non-null object\nLot                 30 non-null object\nAM or PM            30 non-null object\nBrowser Info        30 non-null object\nCompany             30 non-null object\nCredit Card         30 non-null int64\nCC Exp Date         30 non-null object\nCC Security Code    30 non-null int64\nCC Provider         30 non-null object\nEmail               30 non-null object\nJob                 30 non-null object\nIP Address          30 non-null object\nLanguage            30 non-null object\nPurchase Price      30 non-null float64\ndtypes: float64(1), int64(2), object(11)\nmemory usage: 3.5+ KB\n"
                }
            ],
            "metadata": {}
        },
        {
            "source": "df[df['Job'] == 'Lawyer'].count()",
            "cell_type": "code",
            "execution_count": 133,
            "outputs": [
                {
                    "output_type": "execute_result",
                    "metadata": {},
                    "data": {
                        "text/plain": "Address             30\nLot                 30\nAM or PM            30\nBrowser Info        30\nCompany             30\nCredit Card         30\nCC Exp Date         30\nCC Security Code    30\nCC Provider         30\nEmail               30\nJob                 30\nIP Address          30\nLanguage            30\nPurchase Price      30\ndtype: int64"
                    },
                    "execution_count": 133
                }
            ],
            "metadata": {}
        },
        {
            "source": "",
            "cell_type": "code",
            "execution_count": 95,
            "outputs": [
                {
                    "output_type": "stream",
                    "name": "stdout",
                    "text": "<class 'pandas.core.frame.DataFrame'>\nInt64Index: 30 entries, 470 to 9979\nData columns (total 14 columns):\nAddress             30 non-null object\nLot                 30 non-null object\nAM or PM            30 non-null object\nBrowser Info        30 non-null object\nCompany             30 non-null object\nCredit Card         30 non-null int64\nCC Exp Date         30 non-null object\nCC Security Code    30 non-null int64\nCC Provider         30 non-null object\nEmail               30 non-null object\nJob                 30 non-null object\nIP Address          30 non-null object\nLanguage            30 non-null object\nPurchase Price      30 non-null float64\ndtypes: float64(1), int64(2), object(11)\nmemory usage: 3.5+ KB\n"
                }
            ],
            "metadata": {}
        },
        {
            "source": "** How many people made the purchase during the AM and how many people made the purchase during PM ? **\n\n**(Hint: Check out [value_counts()](http://pandas.pydata.org/pandas-docs/stable/generated/pandas.Series.value_counts.html) ) **",
            "cell_type": "markdown",
            "metadata": {}
        },
        {
            "source": "# Use value_counts() to get the number of unique values\n# The specific number of AM, and specific number of PM\n\ndf['AM or PM'].value_counts()",
            "cell_type": "code",
            "execution_count": 134,
            "outputs": [
                {
                    "output_type": "execute_result",
                    "metadata": {},
                    "data": {
                        "text/plain": "PM    5068\nAM    4932\nName: AM or PM, dtype: int64"
                    },
                    "execution_count": 134
                }
            ],
            "metadata": {}
        },
        {
            "source": "",
            "cell_type": "code",
            "execution_count": 96,
            "outputs": [
                {
                    "execution_count": 96,
                    "metadata": {},
                    "data": {
                        "text/plain": "PM    5068\nAM    4932\nName: AM or PM, dtype: int64"
                    },
                    "output_type": "execute_result"
                }
            ],
            "metadata": {}
        },
        {
            "source": "** What are the 5 most common Job Titles? **",
            "cell_type": "markdown",
            "metadata": {}
        },
        {
            "source": "df['Job'].value_counts().head()",
            "cell_type": "code",
            "execution_count": 45,
            "outputs": [
                {
                    "output_type": "execute_result",
                    "metadata": {},
                    "data": {
                        "text/plain": "Interior and spatial designer        31\nLawyer                               30\nSocial researcher                    28\nDesigner, jewellery                  27\nResearch officer, political party    27\nName: Job, dtype: int64"
                    },
                    "execution_count": 45
                }
            ],
            "metadata": {}
        },
        {
            "source": "",
            "cell_type": "code",
            "execution_count": 97,
            "outputs": [
                {
                    "execution_count": 97,
                    "metadata": {},
                    "data": {
                        "text/plain": "Interior and spatial designer    31\nLawyer                           30\nSocial researcher                28\nPurchasing manager               27\nDesigner, jewellery              27\nName: Job, dtype: int64"
                    },
                    "output_type": "execute_result"
                }
            ],
            "metadata": {}
        },
        {
            "source": "** Someone made a purchase that came from Lot: \"90 WT\" , what was the Purchase Price for this transaction? **",
            "cell_type": "markdown",
            "metadata": {}
        },
        {
            "source": "df[df['Lot'] == '90 WT']['Purchase Price']",
            "cell_type": "code",
            "execution_count": 55,
            "outputs": [
                {
                    "output_type": "execute_result",
                    "metadata": {},
                    "data": {
                        "text/plain": "513    75.1\nName: Purchase Price, dtype: float64"
                    },
                    "execution_count": 55
                }
            ],
            "metadata": {}
        },
        {
            "source": "** What is the email of the person with the following Credit Card Number: 4926535242672853 **",
            "cell_type": "markdown",
            "metadata": {}
        },
        {
            "source": "df[df['Credit Card'] == 4926535242672853]['Email']",
            "cell_type": "code",
            "execution_count": 59,
            "outputs": [
                {
                    "output_type": "execute_result",
                    "metadata": {},
                    "data": {
                        "text/plain": "1234    bondellen@williams-garza.com\nName: Email, dtype: object"
                    },
                    "execution_count": 59
                }
            ],
            "metadata": {}
        },
        {
            "source": "",
            "cell_type": "code",
            "execution_count": 100,
            "outputs": [
                {
                    "execution_count": 100,
                    "metadata": {},
                    "data": {
                        "text/plain": "1234    bondellen@williams-garza.com\nName: Email, dtype: object"
                    },
                    "output_type": "execute_result"
                }
            ],
            "metadata": {}
        },
        {
            "source": "** How many people have American Express as their Credit Card Provider *and* made a purchase above $95 ?**",
            "cell_type": "markdown",
            "metadata": {}
        },
        {
            "source": "df[(df['CC Provider'] == 'American Express') & (df['Purchase Price'] > 95)].count()",
            "cell_type": "code",
            "execution_count": 66,
            "outputs": [
                {
                    "output_type": "execute_result",
                    "metadata": {},
                    "data": {
                        "text/plain": "Address             39\nLot                 39\nAM or PM            39\nBrowser Info        39\nCompany             39\nCredit Card         39\nCC Exp Date         39\nCC Security Code    39\nCC Provider         39\nEmail               39\nJob                 39\nIP Address          39\nLanguage            39\nPurchase Price      39\ndtype: int64"
                    },
                    "execution_count": 66
                }
            ],
            "metadata": {}
        },
        {
            "source": "",
            "cell_type": "code",
            "execution_count": 101,
            "outputs": [
                {
                    "execution_count": 101,
                    "metadata": {},
                    "data": {
                        "text/plain": "Address             39\nLot                 39\nAM or PM            39\nBrowser Info        39\nCompany             39\nCredit Card         39\nCC Exp Date         39\nCC Security Code    39\nCC Provider         39\nEmail               39\nJob                 39\nIP Address          39\nLanguage            39\nPurchase Price      39\ndtype: int64"
                    },
                    "output_type": "execute_result"
                }
            ],
            "metadata": {}
        },
        {
            "source": "** Hard: How many people have a credit card that expires in 2025? **",
            "cell_type": "markdown",
            "metadata": {}
        },
        {
            "source": "df['CC Exp Date']",
            "cell_type": "code",
            "execution_count": 70,
            "outputs": [
                {
                    "output_type": "execute_result",
                    "metadata": {},
                    "data": {
                        "text/plain": "0       02/20\n1       11/18\n2       08/19\n3       02/24\n4       10/25\n5       07/25\n6       07/24\n7       06/25\n8       04/24\n9       01/17\n10      02/17\n11      06/26\n12      05/26\n13      01/25\n14      09/22\n15      04/25\n16      06/22\n17      01/26\n18      12/22\n19      02/20\n20      03/22\n21      03/25\n22      07/22\n23      02/23\n24      07/18\n25      05/19\n26      03/19\n27      12/16\n28      11/24\n29      07/22\n        ...  \n9970    07/19\n9971    01/21\n9972    04/22\n9973    02/19\n9974    04/26\n9975    01/19\n9976    08/21\n9977    06/21\n9978    11/21\n9979    10/23\n9980    12/24\n9981    01/19\n9982    09/18\n9983    04/23\n9984    03/21\n9985    08/21\n9986    08/18\n9987    12/24\n9988    10/16\n9989    12/23\n9990    04/24\n9991    02/24\n9992    10/20\n9993    10/25\n9994    01/25\n9995    03/22\n9996    07/25\n9997    05/21\n9998    11/17\n9999    02/19\nName: CC Exp Date, Length: 10000, dtype: object"
                    },
                    "execution_count": 70
                }
            ],
            "metadata": {}
        },
        {
            "source": "#def get_exp(expire):\n    #if '25' in expire:\n        #return True\n    #else:\n        #return False",
            "cell_type": "code",
            "execution_count": 98,
            "outputs": [],
            "metadata": {}
        },
        {
            "source": "#get_exp('01/25')",
            "cell_type": "code",
            "execution_count": 81,
            "outputs": [
                {
                    "output_type": "execute_result",
                    "metadata": {},
                    "data": {
                        "text/plain": "True"
                    },
                    "execution_count": 81
                }
            ],
            "metadata": {}
        },
        {
            "source": "#get_exp('11/17')",
            "cell_type": "code",
            "execution_count": 82,
            "outputs": [
                {
                    "output_type": "execute_result",
                    "metadata": {},
                    "data": {
                        "text/plain": "False"
                    },
                    "execution_count": 82
                }
            ],
            "metadata": {}
        },
        {
            "source": "df['CC Exp Date'].apply(lambda x:get_exp(x)).value_counts()",
            "cell_type": "code",
            "execution_count": 137,
            "outputs": [
                {
                    "output_type": "execute_result",
                    "metadata": {},
                    "data": {
                        "text/plain": "False    8967\nTrue     1033\nName: CC Exp Date, dtype: int64"
                    },
                    "execution_count": 137
                }
            ],
            "metadata": {}
        },
        {
            "source": "# -or-\n# skip the first 3 indexes and keep everything else \n# apply lambda to it (i.e., foo)\n# Set it  == '25', so anything matching '25' is True\n# Then count() the entire df\n\ndf[df['CC Exp Date'].apply(lambda foo: foo[3:] == '25')].count()",
            "cell_type": "code",
            "execution_count": 138,
            "outputs": [
                {
                    "output_type": "execute_result",
                    "metadata": {},
                    "data": {
                        "text/plain": "Address             1033\nLot                 1033\nAM or PM            1033\nBrowser Info        1033\nCompany             1033\nCredit Card         1033\nCC Exp Date         1033\nCC Security Code    1033\nCC Provider         1033\nEmail               1033\nJob                 1033\nIP Address          1033\nLanguage            1033\nPurchase Price      1033\ndtype: int64"
                    },
                    "execution_count": 138
                }
            ],
            "metadata": {}
        },
        {
            "source": "",
            "cell_type": "code",
            "execution_count": 102,
            "outputs": [
                {
                    "execution_count": 102,
                    "metadata": {},
                    "data": {
                        "text/plain": "1033"
                    },
                    "output_type": "execute_result"
                }
            ],
            "metadata": {}
        },
        {
            "source": "** Hard: What are the top 5 most popular email providers/hosts (e.g. gmail.com, yahoo.com, etc...) **",
            "cell_type": "markdown",
            "metadata": {}
        },
        {
            "source": "df['Email']",
            "cell_type": "code",
            "execution_count": 116,
            "outputs": [
                {
                    "output_type": "execute_result",
                    "metadata": {},
                    "data": {
                        "text/plain": "0                       pdunlap@yahoo.com\n1                      anthony41@reed.com\n2          amymiller@morales-harrison.com\n3             brent16@olson-robinson.info\n4             christopherwright@gmail.com\n5                       ynguyen@gmail.com\n6                      olivia04@yahoo.com\n7                    phillip48@parks.info\n8                    kdavis@rasmussen.com\n9                qcoleman@hunt-huerta.com\n10                   ustewart@hotmail.com\n11               johnnymiller@coleman.com\n12                      tholt@hotmail.com\n13                    caitlin57@yahoo.com\n14                       aburns@yahoo.com\n15                     amanda39@yahoo.com\n16            griffincatherine@wilson.com\n17                 stacymitchell@hall.com\n18                     hannah63@yahoo.com\n19                   ruiznicole@gmail.com\n20                 zstephenson@smith.info\n21                     rsmith@hotmail.com\n22              chambersmichael@gmail.com\n23            ltaylor@gardner-meadows.com\n24                      james07@yahoo.com\n25                   madison41@mooney.com\n26                       mlogan@gmail.com\n27                  michael35@hotmail.com\n28                  khandeborah@yahoo.com\n29                   stonekaren@yahoo.com\n                      ...                \n9970              rangelbrian@hotmail.com\n9971            leslierichards@warner.org\n9972                kellycole@hotmail.com\n9973                     rlewis@yahoo.com\n9974                    paula72@yahoo.com\n9975                 taylordiaz@roman.net\n9976                     pbrown@gmail.com\n9977               daltoncarter@yahoo.com\n9978                   ywhite@hotmail.com\n9979                   qjohnson@yahoo.com\n9980             mark74@kirby-stewart.org\n9981           laurenbennett@richards.com\n9982                  heather24@gmail.com\n9983    jacksonmanuel@rodriguez-welch.com\n9984                clee@vasquez-luna.com\n9985                 cranejames@white.com\n9986             belindaleon@schwartz.com\n9987             denisehamilton@novak.biz\n9988               hudsonmichael@pace.com\n9989           walterswilliam@hotmail.com\n9990          andersonmichael@sherman.biz\n9991                   kking@wise-liu.com\n9992                    bberry@wright.net\n9993            chelseawilliams@lopez.biz\n9994                   iroberts@gmail.com\n9995               iscott@wade-garner.com\n9996                   mary85@hotmail.com\n9997                    tyler16@gmail.com\n9998              elizabethmoore@reid.net\n9999                rachelford@vaughn.com\nName: Email, Length: 10000, dtype: object"
                    },
                    "execution_count": 116
                }
            ],
            "metadata": {}
        },
        {
            "source": "# Get the email addresses in 'Email' df\n# Apply lambda to get the domain and split on '@'\n# Get data from index 1 ([1])\n# Add the value_counts() to count the number of email domains\n# Add head() to get the top 5.\n\n\n\ndf['Email'].apply(lambda get_dom: get_dom.split('@')[1]).value_counts().head()",
            "cell_type": "code",
            "execution_count": 131,
            "outputs": [
                {
                    "output_type": "execute_result",
                    "metadata": {},
                    "data": {
                        "text/plain": "hotmail.com     1638\nyahoo.com       1616\ngmail.com       1605\nsmith.com         42\nwilliams.com      37\nName: Email, dtype: int64"
                    },
                    "execution_count": 131
                }
            ],
            "metadata": {}
        },
        {
            "source": "",
            "cell_type": "code",
            "execution_count": 56,
            "outputs": [
                {
                    "execution_count": 56,
                    "metadata": {},
                    "data": {
                        "text/plain": "hotmail.com     1638\nyahoo.com       1616\ngmail.com       1605\nsmith.com         42\nwilliams.com      37\nName: Email, dtype: int64"
                    },
                    "output_type": "execute_result"
                }
            ],
            "metadata": {}
        },
        {
            "source": "# Great Job!",
            "cell_type": "markdown",
            "metadata": {}
        }
    ],
    "nbformat": 4,
    "metadata": {
        "kernelspec": {
            "display_name": "Python 3.5",
            "name": "python3",
            "language": "python"
        },
        "language_info": {
            "mimetype": "text/x-python",
            "nbconvert_exporter": "python",
            "version": "3.5.5",
            "name": "python",
            "file_extension": ".py",
            "pygments_lexer": "ipython3",
            "codemirror_mode": {
                "version": 3,
                "name": "ipython"
            }
        }
    }
}