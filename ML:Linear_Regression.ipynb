{
    "nbformat_minor": 1,
    "cells": [
        {
            "source": "<h1>Machine Learning - Linear Regression</h1>",
            "cell_type": "markdown",
            "metadata": {
                "collapsed": true
            }
        },
        {
            "source": "!conda install scikit-learn",
            "cell_type": "code",
            "execution_count": 1,
            "outputs": [
                {
                    "output_type": "stream",
                    "name": "stdout",
                    "text": "Solving environment: done\n\n## Package Plan ##\n\n  environment location: /opt/conda/envs/Python36\n\n  added / updated specs: \n    - scikit-learn\n\n\nThe following packages will be downloaded:\n\n    package                    |            build\n    ---------------------------|-----------------\n    pip-19.1.1                 |           py37_0         1.8 MB\n    mkl-2019.4                 |              243       204.1 MB\n    sqlite-3.28.0              |       h7b6447c_0         1.9 MB\n    scikit-learn-0.21.2        |   py37hd81dba3_0         6.7 MB\n    joblib-0.13.2              |           py37_0         363 KB\n    python-3.7.3               |       h0371630_0        36.7 MB\n    certifi-2019.6.16          |           py37_0         154 KB\n    numpy-base-1.16.4          |   py37hde5b4d6_0         4.4 MB\n    libgcc-ng-9.1.0            |       hdf63c60_0         8.1 MB\n    mkl_fft-1.0.12             |   py37ha843d7b_0         172 KB\n    mkl-service-2.0.2          |   py37h7b6447c_0          70 KB\n    wheel-0.33.4               |           py37_0          39 KB\n    numpy-1.16.4               |   py37h7e9f1db_0          49 KB\n    mkl_random-1.0.2           |   py37hd81dba3_0         405 KB\n    scipy-1.2.1                |   py37h7c811a0_0        17.7 MB\n    _libgcc_mutex-0.1          |             main           3 KB\n    setuptools-41.0.1          |           py37_0         648 KB\n    ------------------------------------------------------------\n                                           Total:       283.2 MB\n\nThe following NEW packages will be INSTALLED:\n\n    _libgcc_mutex:        0.1-main             \n    joblib:               0.13.2-py37_0        \n\nThe following packages will be UPDATED:\n\n    boto3:                1.9.82-py_0           --> 1.9.82-py_0          \n    botocore:             1.12.82-py_0          --> 1.12.82-py_0         \n    certifi:              2019.3.9-py36_0       --> 2019.6.16-py37_0     \n    cloudpickle:          0.7.0-py_0            --> 0.7.0-py_0           \n    dask:                 1.1.1-py_0            --> 1.1.1-py_0           \n    dask-core:            1.1.1-py_0            --> 1.1.1-py_0           \n    libgcc-ng:            8.2.0-hdf63c60_1      --> 9.1.0-hdf63c60_0     \n    mkl:                  2019.1-144            --> 2019.4-243           \n    mkl-service:          1.1.2-py36he904b0f_5  --> 2.0.2-py37h7b6447c_0 \n    mkl_fft:              1.0.10-py36ha843d7b_0 --> 1.0.12-py37ha843d7b_0\n    mkl_random:           1.0.2-py36hd81dba3_0  --> 1.0.2-py37hd81dba3_0 \n    numpy:                1.15.4-py36h7e9f1db_0 --> 1.16.4-py37h7e9f1db_0\n    numpy-base:           1.15.4-py36hde5b4d6_0 --> 1.16.4-py37hde5b4d6_0\n    pbr:                  5.1.3-py_0            --> 5.1.3-py_0           \n    pip:                  19.1.1-py36_0         --> 19.1.1-py37_0        \n    prompt_toolkit:       2.0.8-py_0            --> 2.0.8-py_0           \n    pyshp:                2.1.0-py_0            --> 2.1.0-py_0           \n    python:               3.6.8-h0371630_0      --> 3.7.3-h0371630_0     \n    qtawesome:            0.5.6-py_0            --> 0.5.6-py_0           \n    qtpy:                 1.6.0-py_0            --> 1.6.0-py_0           \n    rope:                 0.11.0-py_0           --> 0.11.0-py_0          \n    scikit-learn:         0.20.3-py36hd81dba3_0 --> 0.21.2-py37hd81dba3_0\n    scipy:                1.2.0-py36h7c811a0_0  --> 1.2.1-py37h7c811a0_0 \n    setuptools:           40.8.0-py36_0         --> 41.0.1-py37_0        \n    six:                  1.12.0-py36_0         --> 1.12.0-py37_0        \n    sqlite:               3.26.0-h7b6447c_0     --> 3.28.0-h7b6447c_0    \n    tensorflow-estimator: 1.13.0-py_0           --> 1.13.0-py_0          \n    wheel:                0.32.3-py36_0         --> 0.33.4-py37_0        \n\n\nDownloading and Extracting Packages\npip-19.1.1           | 1.8 MB    | ##################################### | 100% \nmkl-2019.4           | 204.1 MB  | ##################################### | 100% \nsqlite-3.28.0        | 1.9 MB    | ##################################### | 100% \nscikit-learn-0.21.2  | 6.7 MB    | ##################################### | 100% \njoblib-0.13.2        | 363 KB    | ##################################### | 100% \npython-3.7.3         | 36.7 MB   | ##################################### | 100% \ncertifi-2019.6.16    | 154 KB    | ##################################### | 100% \nnumpy-base-1.16.4    | 4.4 MB    | ##################################### | 100% \nlibgcc-ng-9.1.0      | 8.1 MB    | ##################################### | 100% \nmkl_fft-1.0.12       | 172 KB    | ##################################### | 100% \nmkl-service-2.0.2    | 70 KB     | ##################################### | 100% \nwheel-0.33.4         | 39 KB     | ##################################### | 100% \nnumpy-1.16.4         | 49 KB     | ##################################### | 100% \nmkl_random-1.0.2     | 405 KB    | ##################################### | 100% \nscipy-1.2.1          | 17.7 MB   | ##################################### | 100% \n_libgcc_mutex-0.1    | 3 KB      | ##################################### | 100% \nsetuptools-41.0.1    | 648 KB    | ##################################### | 100% \nPreparing transaction: done\nVerifying transaction: done\nExecuting transaction: done\n"
                }
            ],
            "metadata": {}
        },
        {
            "source": "<h2>Import Linear Regression and assign it a variable called model</h2>",
            "cell_type": "markdown",
            "metadata": {}
        },
        {
            "source": "from sklearn.linear_model import LinearRegression",
            "cell_type": "code",
            "execution_count": 1,
            "outputs": [],
            "metadata": {}
        },
        {
            "source": "model = LinearRegression(normalize=True)",
            "cell_type": "code",
            "execution_count": 2,
            "outputs": [],
            "metadata": {}
        },
        {
            "source": "print(model)",
            "cell_type": "code",
            "execution_count": 3,
            "outputs": [
                {
                    "output_type": "stream",
                    "name": "stdout",
                    "text": "LinearRegression(copy_X=True, fit_intercept=True, n_jobs=None, normalize=True)\n"
                }
            ],
            "metadata": {}
        },
        {
            "source": "import numpy as np",
            "cell_type": "code",
            "execution_count": 4,
            "outputs": [],
            "metadata": {}
        },
        {
            "source": "<h2>Call in the train_test_split module from sklearn</h2>\n<h3>(sklearn.model_selection)<h3>",
            "cell_type": "markdown",
            "metadata": {}
        },
        {
            "source": "from sklearn.model_selection import train_test_split",
            "cell_type": "code",
            "execution_count": 10,
            "outputs": [],
            "metadata": {}
        },
        {
            "source": "<h3>Create some random data</h3>",
            "cell_type": "markdown",
            "metadata": {}
        },
        {
            "source": "X are the features, and y is the label for the feature rows",
            "cell_type": "markdown",
            "metadata": {}
        },
        {
            "source": "X,y = np.arange(10).reshape((5,2)),range(5)",
            "cell_type": "code",
            "execution_count": 6,
            "outputs": [],
            "metadata": {}
        },
        {
            "source": "X",
            "cell_type": "code",
            "execution_count": 7,
            "outputs": [
                {
                    "output_type": "execute_result",
                    "metadata": {},
                    "data": {
                        "text/plain": "array([[0, 1],\n       [2, 3],\n       [4, 5],\n       [6, 7],\n       [8, 9]])"
                    },
                    "execution_count": 7
                }
            ],
            "metadata": {}
        },
        {
            "source": "list(y)",
            "cell_type": "code",
            "execution_count": 8,
            "outputs": [
                {
                    "output_type": "execute_result",
                    "metadata": {},
                    "data": {
                        "text/plain": "[0, 1, 2, 3, 4]"
                    },
                    "execution_count": 8
                }
            ],
            "metadata": {}
        },
        {
            "source": "<h2>train_test_split</h2>",
            "cell_type": "markdown",
            "metadata": {}
        },
        {
            "source": "<li>Set up the train_test_split process for X (features) and y(label)\n<li>test_size is 30%    ",
            "cell_type": "markdown",
            "metadata": {}
        },
        {
            "source": "X_train,X_test,y_train,y_test = train_test_split(X,y,test_size=0.3)",
            "cell_type": "code",
            "execution_count": 11,
            "outputs": [],
            "metadata": {}
        },
        {
            "source": "X_train",
            "cell_type": "code",
            "execution_count": 12,
            "outputs": [
                {
                    "output_type": "execute_result",
                    "metadata": {},
                    "data": {
                        "text/plain": "array([[4, 5],\n       [0, 1],\n       [2, 3]])"
                    },
                    "execution_count": 12
                }
            ],
            "metadata": {}
        },
        {
            "source": "y_train",
            "cell_type": "code",
            "execution_count": 13,
            "outputs": [
                {
                    "output_type": "execute_result",
                    "metadata": {},
                    "data": {
                        "text/plain": "[2, 0, 1]"
                    },
                    "execution_count": 13
                }
            ],
            "metadata": {}
        },
        {
            "source": "X_test",
            "cell_type": "code",
            "execution_count": 14,
            "outputs": [
                {
                    "output_type": "execute_result",
                    "metadata": {},
                    "data": {
                        "text/plain": "array([[6, 7],\n       [8, 9]])"
                    },
                    "execution_count": 14
                }
            ],
            "metadata": {}
        },
        {
            "source": "y_test",
            "cell_type": "code",
            "execution_count": 15,
            "outputs": [
                {
                    "output_type": "execute_result",
                    "metadata": {},
                    "data": {
                        "text/plain": "[3, 4]"
                    },
                    "execution_count": 15
                }
            ],
            "metadata": {}
        },
        {
            "source": "<h2>Fit</h2>\n<h4>(the training data)</h4>",
            "cell_type": "markdown",
            "metadata": {}
        },
        {
            "source": "<li>With the train_test_split data, now train/Fit the model\n<li> Use model.fit() on X_train and y_train (all training data)\n<li><b>Supervised Learning</b> accepts two arguments: data/feature X, labels y (example: model.fit(X,y))  \n<li><b>Unsupervised Learning</b> accepts one argument: data/feature X (example: model.fit(X))    ",
            "cell_type": "markdown",
            "metadata": {}
        },
        {
            "source": "model.fit(X_train,y_train)",
            "cell_type": "code",
            "execution_count": 16,
            "outputs": [
                {
                    "output_type": "execute_result",
                    "metadata": {},
                    "data": {
                        "text/plain": "LinearRegression(copy_X=True, fit_intercept=True, n_jobs=None, normalize=True)"
                    },
                    "execution_count": 16
                }
            ],
            "metadata": {}
        },
        {
            "source": "<li> Now the model has been fit and trained on the training data\n<li>The model is ready to predict labels or values on the test set!",
            "cell_type": "markdown",
            "metadata": {}
        },
        {
            "source": "<h2>Predict</h2>\n<h4>(The test data)</h4>",
            "cell_type": "markdown",
            "metadata": {}
        },
        {
            "source": "<li>Get the predicted values using the predict method on the X_test features\n<li>model.predict()\n<li>For <b>Supervised Learning</b> predict the label of a new set of data. This method accpets one argument.\n<li>(Example: model.predict(X_new)) \n<li>model.predict() is used for clustering algorithms in <b>Unsupervised</b> learning    ",
            "cell_type": "markdown",
            "metadata": {}
        },
        {
            "source": "predictions = model.predict(X_new)",
            "cell_type": "code",
            "execution_count": 18,
            "outputs": [],
            "metadata": {}
        },
        {
            "source": "<h3>Predict_proba</h3>",
            "cell_type": "markdown",
            "metadata": {}
        },
        {
            "source": "<li>model.predict_proba()\n<li>Used for classification problems\n<li>Returns the probability that a new observation is in each categorical label. \n<li>The label with the highest probability is returned via model.predict()    ",
            "cell_type": "markdown",
            "metadata": {}
        },
        {
            "source": " <h3>Score</h3>",
            "cell_type": "markdown",
            "metadata": {}
        },
        {
            "source": "<li> For <b>Supervised</b> classification and regression problems\n<li>Scores are between 0 and 1; the better the fit being closer to 1  \n<li> model.score()    ",
            "cell_type": "markdown",
            "metadata": {}
        },
        {
            "source": "<h2>Transform</h2>",
            "cell_type": "markdown",
            "metadata": {}
        },
        {
            "source": "<li>Used in <b>Unsupervised</b> learning\n<li>Transform new data into the new basis\n<li>This takes only one arguement, and returns the new reprsentation of the data based on the <b>unsupervised</b> model\n<li>model.transform(X_new)",
            "cell_type": "markdown",
            "metadata": {}
        },
        {
            "source": "<h2>fit_transform</h2>",
            "cell_type": "markdown",
            "metadata": {}
        },
        {
            "source": "<li>Used for <b>unsupervised</b> learning\n<li>This more efficiently performs fit and a transform on the same input data\n<li>model.fit_transform()    ",
            "cell_type": "markdown",
            "metadata": {}
        },
        {
            "source": "",
            "cell_type": "code",
            "execution_count": null,
            "outputs": [],
            "metadata": {}
        },
        {
            "source": "<li>From here, now evaluate the model using a ML algorithm \n<li>(i.e., Regression,Classification, Clustering, etc.)",
            "cell_type": "markdown",
            "metadata": {}
        },
        {
            "source": "",
            "cell_type": "code",
            "execution_count": null,
            "outputs": [],
            "metadata": {}
        }
    ],
    "nbformat": 4,
    "metadata": {
        "kernelspec": {
            "display_name": "Python 3.6",
            "name": "python3",
            "language": "python"
        },
        "language_info": {
            "mimetype": "text/x-python",
            "nbconvert_exporter": "python",
            "version": "3.6.8",
            "name": "python",
            "pygments_lexer": "ipython3",
            "file_extension": ".py",
            "codemirror_mode": {
                "version": 3,
                "name": "ipython"
            }
        }
    }
}