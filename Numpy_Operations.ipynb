{
    "nbformat_minor": 1,
    "cells": [
        {
            "source": "<h1> NumPy Operations</h1>\n<h2> - Array with Array</h2>\n<h2> - Array with Scalars</h2>\n<h2> - Universal Array Functions<h2>",
            "cell_type": "markdown",
            "metadata": {
                "collapsed": true
            }
        },
        {
            "source": "import numpy as np",
            "cell_type": "code",
            "execution_count": 1,
            "outputs": [],
            "metadata": {}
        },
        {
            "source": "arr = np.arange(0,11)",
            "cell_type": "code",
            "execution_count": 3,
            "outputs": [],
            "metadata": {}
        },
        {
            "source": "arr",
            "cell_type": "code",
            "execution_count": 4,
            "outputs": [
                {
                    "output_type": "execute_result",
                    "metadata": {},
                    "data": {
                        "text/plain": "array([ 0,  1,  2,  3,  4,  5,  6,  7,  8,  9, 10])"
                    },
                    "execution_count": 4
                }
            ],
            "metadata": {}
        },
        {
            "source": "<h3> Basic Array Operations</h3>",
            "cell_type": "markdown",
            "metadata": {}
        },
        {
            "source": "arr + arr      # Adding two arrays together",
            "cell_type": "code",
            "execution_count": 5,
            "outputs": [
                {
                    "output_type": "execute_result",
                    "metadata": {},
                    "data": {
                        "text/plain": "array([ 0,  2,  4,  6,  8, 10, 12, 14, 16, 18, 20])"
                    },
                    "execution_count": 5
                }
            ],
            "metadata": {}
        },
        {
            "source": "arr - arr     # Subtracting two arrays",
            "cell_type": "code",
            "execution_count": 6,
            "outputs": [
                {
                    "output_type": "execute_result",
                    "metadata": {},
                    "data": {
                        "text/plain": "array([0, 0, 0, 0, 0, 0, 0, 0, 0, 0, 0])"
                    },
                    "execution_count": 6
                }
            ],
            "metadata": {}
        },
        {
            "source": "arr * arr     # Multiplying two arrays",
            "cell_type": "code",
            "execution_count": 7,
            "outputs": [
                {
                    "output_type": "execute_result",
                    "metadata": {},
                    "data": {
                        "text/plain": "array([  0,   1,   4,   9,  16,  25,  36,  49,  64,  81, 100])"
                    },
                    "execution_count": 7
                }
            ],
            "metadata": {}
        },
        {
            "source": "arr ** arr    # Exponent with two arrays",
            "cell_type": "code",
            "execution_count": 18,
            "outputs": [
                {
                    "output_type": "execute_result",
                    "metadata": {},
                    "data": {
                        "text/plain": "array([          1,           1,           4,          27,         256,\n              3125,       46656,      823543,    16777216,   387420489,\n       10000000000])"
                    },
                    "execution_count": 18
                }
            ],
            "metadata": {}
        },
        {
            "source": "<h3> Basic Array with Scalar Operations</h3>",
            "cell_type": "markdown",
            "metadata": {}
        },
        {
            "source": "arr + 100     # Using a scalar (100) to add to an array",
            "cell_type": "code",
            "execution_count": 9,
            "outputs": [
                {
                    "output_type": "execute_result",
                    "metadata": {},
                    "data": {
                        "text/plain": "array([100, 101, 102, 103, 104, 105, 106, 107, 108, 109, 110])"
                    },
                    "execution_count": 9
                }
            ],
            "metadata": {}
        },
        {
            "source": "arr * 100    # Using a scalar (100) to multiply to an array",
            "cell_type": "code",
            "execution_count": 10,
            "outputs": [
                {
                    "output_type": "execute_result",
                    "metadata": {},
                    "data": {
                        "text/plain": "array([   0,  100,  200,  300,  400,  500,  600,  700,  800,  900, 1000])"
                    },
                    "execution_count": 10
                }
            ],
            "metadata": {}
        },
        {
            "source": "arr - 100    # Using a scalar (100) to subtract to an array",
            "cell_type": "code",
            "execution_count": 11,
            "outputs": [
                {
                    "output_type": "execute_result",
                    "metadata": {},
                    "data": {
                        "text/plain": "array([-100,  -99,  -98,  -97,  -96,  -95,  -94,  -93,  -92,  -91,  -90])"
                    },
                    "execution_count": 11
                }
            ],
            "metadata": {}
        },
        {
            "source": "arr ** 2     # Using a scalar as an exponental value (2), to square the array",
            "cell_type": "code",
            "execution_count": 17,
            "outputs": [
                {
                    "output_type": "execute_result",
                    "metadata": {},
                    "data": {
                        "text/plain": "array([  0,   1,   4,   9,  16,  25,  36,  49,  64,  81, 100])"
                    },
                    "execution_count": 17
                }
            ],
            "metadata": {}
        },
        {
            "source": "arr / arr    # Gives 'RuntimeWarning:' because 0/0 returns Nan, won't get an error but a warning",
            "cell_type": "code",
            "execution_count": 14,
            "outputs": [
                {
                    "output_type": "stream",
                    "name": "stderr",
                    "text": "/opt/conda/envs/DSX-Python35/lib/python3.5/site-packages/ipykernel/__main__.py:1: RuntimeWarning: invalid value encountered in true_divide\n  if __name__ == '__main__':\n"
                },
                {
                    "output_type": "execute_result",
                    "metadata": {},
                    "data": {
                        "text/plain": "array([ nan,   1.,   1.,   1.,   1.,   1.,   1.,   1.,   1.,   1.,   1.])"
                    },
                    "execution_count": 14
                }
            ],
            "metadata": {}
        },
        {
            "source": "1 / arr  # Gives 'RuntimeWarning:' because 1/0 gives infinty (inf)",
            "cell_type": "code",
            "execution_count": 15,
            "outputs": [
                {
                    "output_type": "stream",
                    "name": "stderr",
                    "text": "/opt/conda/envs/DSX-Python35/lib/python3.5/site-packages/ipykernel/__main__.py:1: RuntimeWarning: divide by zero encountered in true_divide\n  if __name__ == '__main__':\n"
                },
                {
                    "output_type": "execute_result",
                    "metadata": {},
                    "data": {
                        "text/plain": "array([        inf,  1.        ,  0.5       ,  0.33333333,  0.25      ,\n        0.2       ,  0.16666667,  0.14285714,  0.125     ,  0.11111111,\n        0.1       ])"
                    },
                    "execution_count": 15
                }
            ],
            "metadata": {}
        },
        {
            "source": "<h3> Universal Array Functions</h3>",
            "cell_type": "markdown",
            "metadata": {}
        },
        {
            "source": "np.add(arr,arr)         # ADD()\n                        # Adding two arrays",
            "cell_type": "code",
            "execution_count": 32,
            "outputs": [
                {
                    "output_type": "execute_result",
                    "metadata": {},
                    "data": {
                        "text/plain": "array([ 0,  2,  4,  6,  8, 10, 12, 14, 16, 18, 20])"
                    },
                    "execution_count": 32
                }
            ],
            "metadata": {}
        },
        {
            "source": "np.subtract(arr,arr)    # SUBTRACT ()\n                        # Subtracting two arrays",
            "cell_type": "code",
            "execution_count": 35,
            "outputs": [
                {
                    "output_type": "execute_result",
                    "metadata": {},
                    "data": {
                        "text/plain": "array([0, 0, 0, 0, 0, 0, 0, 0, 0, 0, 0])"
                    },
                    "execution_count": 35
                }
            ],
            "metadata": {}
        },
        {
            "source": "np.multiply(arr,arr)    # MULTIPLY()\n                        # Multiplying two arrays",
            "cell_type": "code",
            "execution_count": 36,
            "outputs": [
                {
                    "output_type": "execute_result",
                    "metadata": {},
                    "data": {
                        "text/plain": "array([  0,   1,   4,   9,  16,  25,  36,  49,  64,  81, 100])"
                    },
                    "execution_count": 36
                }
            ],
            "metadata": {}
        },
        {
            "source": "np.divide(arr,arr)      # DIVIDE()\n                        # Dividing two arrays",
            "cell_type": "code",
            "execution_count": 37,
            "outputs": [
                {
                    "output_type": "stream",
                    "name": "stderr",
                    "text": "/opt/conda/envs/DSX-Python35/lib/python3.5/site-packages/ipykernel/__main__.py:1: RuntimeWarning: invalid value encountered in true_divide\n  if __name__ == '__main__':\n"
                },
                {
                    "output_type": "execute_result",
                    "metadata": {},
                    "data": {
                        "text/plain": "array([ nan,   1.,   1.,   1.,   1.,   1.,   1.,   1.,   1.,   1.,   1.])"
                    },
                    "execution_count": 37
                }
            ],
            "metadata": {}
        },
        {
            "source": "np.sqrt(arr)        # SQRT()\n                    # To get the sqaure root of every element in arr",
            "cell_type": "code",
            "execution_count": 19,
            "outputs": [
                {
                    "output_type": "execute_result",
                    "metadata": {},
                    "data": {
                        "text/plain": "array([ 0.        ,  1.        ,  1.41421356,  1.73205081,  2.        ,\n        2.23606798,  2.44948974,  2.64575131,  2.82842712,  3.        ,\n        3.16227766])"
                    },
                    "execution_count": 19
                }
            ],
            "metadata": {}
        },
        {
            "source": "np.exp(arr)         # EXP()\n                    # To get the exponential of every element in arr",
            "cell_type": "code",
            "execution_count": 20,
            "outputs": [
                {
                    "output_type": "execute_result",
                    "metadata": {},
                    "data": {
                        "text/plain": "array([  1.00000000e+00,   2.71828183e+00,   7.38905610e+00,\n         2.00855369e+01,   5.45981500e+01,   1.48413159e+02,\n         4.03428793e+02,   1.09663316e+03,   2.98095799e+03,\n         8.10308393e+03,   2.20264658e+04])"
                    },
                    "execution_count": 20
                }
            ],
            "metadata": {}
        },
        {
            "source": "np.max(arr)         # MAX()\n                    # To get the maximum value in arr",
            "cell_type": "code",
            "execution_count": 22,
            "outputs": [
                {
                    "output_type": "execute_result",
                    "metadata": {},
                    "data": {
                        "text/plain": "10"
                    },
                    "execution_count": 22
                }
            ],
            "metadata": {}
        },
        {
            "source": "np.min(arr)         # MIN()\n                    # To get the mininmal value in arr",
            "cell_type": "code",
            "execution_count": 23,
            "outputs": [
                {
                    "output_type": "execute_result",
                    "metadata": {},
                    "data": {
                        "text/plain": "0"
                    },
                    "execution_count": 23
                }
            ],
            "metadata": {}
        },
        {
            "source": "np.sin(arr)         # SIN()\n                    # To get the sin of every element in arr",
            "cell_type": "code",
            "execution_count": 24,
            "outputs": [
                {
                    "output_type": "execute_result",
                    "metadata": {},
                    "data": {
                        "text/plain": "array([ 0.        ,  0.84147098,  0.90929743,  0.14112001, -0.7568025 ,\n       -0.95892427, -0.2794155 ,  0.6569866 ,  0.98935825,  0.41211849,\n       -0.54402111])"
                    },
                    "execution_count": 24
                }
            ],
            "metadata": {}
        },
        {
            "source": "np.cos(arr)         # COS()\n                    # To get the cosign of every element in arr",
            "cell_type": "code",
            "execution_count": 25,
            "outputs": [
                {
                    "output_type": "execute_result",
                    "metadata": {},
                    "data": {
                        "text/plain": "array([ 1.        ,  0.54030231, -0.41614684, -0.9899925 , -0.65364362,\n        0.28366219,  0.96017029,  0.75390225, -0.14550003, -0.91113026,\n       -0.83907153])"
                    },
                    "execution_count": 25
                }
            ],
            "metadata": {}
        },
        {
            "source": "np.log(arr)         # LOG()\n                    # To get the Logarithmic of every element in arr",
            "cell_type": "code",
            "execution_count": 27,
            "outputs": [
                {
                    "output_type": "stream",
                    "name": "stderr",
                    "text": "/opt/conda/envs/DSX-Python35/lib/python3.5/site-packages/ipykernel/__main__.py:1: RuntimeWarning: divide by zero encountered in log\n  if __name__ == '__main__':\n"
                },
                {
                    "output_type": "execute_result",
                    "metadata": {},
                    "data": {
                        "text/plain": "array([       -inf,  0.        ,  0.69314718,  1.09861229,  1.38629436,\n        1.60943791,  1.79175947,  1.94591015,  2.07944154,  2.19722458,\n        2.30258509])"
                    },
                    "execution_count": 27
                }
            ],
            "metadata": {}
        },
        {
            "source": "<h3> Link to more information on Universal Functions for Numpy</h3>",
            "cell_type": "markdown",
            "metadata": {}
        },
        {
            "source": "https://docs.scipy.org/doc/numpy/reference/ufuncs.html",
            "cell_type": "markdown",
            "metadata": {}
        },
        {
            "source": "",
            "cell_type": "code",
            "execution_count": null,
            "outputs": [],
            "metadata": {}
        }
    ],
    "nbformat": 4,
    "metadata": {
        "kernelspec": {
            "display_name": "Python 3.5",
            "name": "python3",
            "language": "python"
        },
        "language_info": {
            "mimetype": "text/x-python",
            "nbconvert_exporter": "python",
            "version": "3.5.5",
            "name": "python",
            "file_extension": ".py",
            "pygments_lexer": "ipython3",
            "codemirror_mode": {
                "version": 3,
                "name": "ipython"
            }
        }
    }
}