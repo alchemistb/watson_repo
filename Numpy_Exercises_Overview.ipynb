{
    "nbformat_minor": 1,
    "cells": [
        {
            "source": "___\n\n<a href='http://www.pieriandata.com'> <img src='../Pierian_Data_Logo.png' /></a>\n___",
            "cell_type": "markdown",
            "metadata": {}
        },
        {
            "source": "# NumPy Exercises \n\nNow that we've learned about NumPy let's test your knowledge. We'll start off with a few simple tasks, and then you'll be asked some more complicated questions.",
            "cell_type": "markdown",
            "metadata": {}
        },
        {
            "source": "#### Import NumPy as np",
            "cell_type": "markdown",
            "metadata": {}
        },
        {
            "source": "import numpy as np",
            "cell_type": "code",
            "execution_count": 1,
            "outputs": [],
            "metadata": {}
        },
        {
            "source": "#### Create an array of 10 zeros ",
            "cell_type": "markdown",
            "metadata": {}
        },
        {
            "source": "np.zeros(10)",
            "cell_type": "code",
            "execution_count": 3,
            "outputs": [
                {
                    "output_type": "execute_result",
                    "metadata": {},
                    "data": {
                        "text/plain": "array([ 0.,  0.,  0.,  0.,  0.,  0.,  0.,  0.,  0.,  0.])"
                    },
                    "execution_count": 3
                }
            ],
            "metadata": {}
        },
        {
            "source": "#### Create an array of 10 ones",
            "cell_type": "markdown",
            "metadata": {}
        },
        {
            "source": "np.ones(10)",
            "cell_type": "code",
            "execution_count": 4,
            "outputs": [
                {
                    "output_type": "execute_result",
                    "metadata": {},
                    "data": {
                        "text/plain": "array([ 1.,  1.,  1.,  1.,  1.,  1.,  1.,  1.,  1.,  1.])"
                    },
                    "execution_count": 4
                }
            ],
            "metadata": {}
        },
        {
            "source": "#### Create an array of 10 fives",
            "cell_type": "markdown",
            "metadata": {}
        },
        {
            "source": "arr = np.arange(10)",
            "cell_type": "code",
            "execution_count": 30,
            "outputs": [],
            "metadata": {}
        },
        {
            "source": "arr",
            "cell_type": "code",
            "execution_count": 31,
            "outputs": [
                {
                    "output_type": "execute_result",
                    "metadata": {},
                    "data": {
                        "text/plain": "array([0, 1, 2, 3, 4, 5, 6, 7, 8, 9])"
                    },
                    "execution_count": 31
                }
            ],
            "metadata": {}
        },
        {
            "source": "arr[:] = 5",
            "cell_type": "code",
            "execution_count": 33,
            "outputs": [],
            "metadata": {}
        },
        {
            "source": "arr",
            "cell_type": "code",
            "execution_count": 34,
            "outputs": [
                {
                    "output_type": "execute_result",
                    "metadata": {},
                    "data": {
                        "text/plain": "array([5, 5, 5, 5, 5, 5, 5, 5, 5, 5])"
                    },
                    "execution_count": 34
                }
            ],
            "metadata": {}
        },
        {
            "source": "np.ones(10) * 5",
            "cell_type": "code",
            "execution_count": 108,
            "outputs": [
                {
                    "output_type": "execute_result",
                    "metadata": {},
                    "data": {
                        "text/plain": "array([ 5.,  5.,  5.,  5.,  5.,  5.,  5.,  5.,  5.,  5.])"
                    },
                    "execution_count": 108
                }
            ],
            "metadata": {}
        },
        {
            "source": "np.zeros(10) + 5",
            "cell_type": "code",
            "execution_count": 109,
            "outputs": [
                {
                    "output_type": "execute_result",
                    "metadata": {},
                    "data": {
                        "text/plain": "array([ 5.,  5.,  5.,  5.,  5.,  5.,  5.,  5.,  5.,  5.])"
                    },
                    "execution_count": 109
                }
            ],
            "metadata": {}
        },
        {
            "source": "#### Create an array of the integers from 10 to 50",
            "cell_type": "markdown",
            "metadata": {}
        },
        {
            "source": "np.arange(10,51)",
            "cell_type": "code",
            "execution_count": 12,
            "outputs": [
                {
                    "output_type": "execute_result",
                    "metadata": {},
                    "data": {
                        "text/plain": "array([10, 11, 12, 13, 14, 15, 16, 17, 18, 19, 20, 21, 22, 23, 24, 25, 26,\n       27, 28, 29, 30, 31, 32, 33, 34, 35, 36, 37, 38, 39, 40, 41, 42, 43,\n       44, 45, 46, 47, 48, 49, 50])"
                    },
                    "execution_count": 12
                }
            ],
            "metadata": {}
        },
        {
            "source": "#### Create an array of all the even integers from 10 to 50",
            "cell_type": "markdown",
            "metadata": {}
        },
        {
            "source": "np.arange(10,51,2)",
            "cell_type": "code",
            "execution_count": 13,
            "outputs": [
                {
                    "output_type": "execute_result",
                    "metadata": {},
                    "data": {
                        "text/plain": "array([10, 12, 14, 16, 18, 20, 22, 24, 26, 28, 30, 32, 34, 36, 38, 40, 42,\n       44, 46, 48, 50])"
                    },
                    "execution_count": 13
                }
            ],
            "metadata": {}
        },
        {
            "source": "#### Create a 3x3 matrix with values ranging from 0 to 8",
            "cell_type": "markdown",
            "metadata": {}
        },
        {
            "source": "arr_3x3 = np.array([[0,1,2],[3,4,5],[6,7,8]])",
            "cell_type": "code",
            "execution_count": 37,
            "outputs": [],
            "metadata": {}
        },
        {
            "source": "arr_3x3",
            "cell_type": "code",
            "execution_count": 38,
            "outputs": [
                {
                    "output_type": "execute_result",
                    "metadata": {},
                    "data": {
                        "text/plain": "array([[0, 1, 2],\n       [3, 4, 5],\n       [6, 7, 8]])"
                    },
                    "execution_count": 38
                }
            ],
            "metadata": {}
        },
        {
            "source": "np.arange(9).reshape(3,3)       # Arange()\n                                # Then reshape as 3x3",
            "cell_type": "code",
            "execution_count": 110,
            "outputs": [
                {
                    "output_type": "execute_result",
                    "metadata": {},
                    "data": {
                        "text/plain": "array([[0, 1, 2],\n       [3, 4, 5],\n       [6, 7, 8]])"
                    },
                    "execution_count": 110
                }
            ],
            "metadata": {}
        },
        {
            "source": "#### Create a 3x3 identity matrix",
            "cell_type": "markdown",
            "metadata": {}
        },
        {
            "source": "np.eye(3)",
            "cell_type": "code",
            "execution_count": 40,
            "outputs": [
                {
                    "output_type": "execute_result",
                    "metadata": {},
                    "data": {
                        "text/plain": "array([[ 1.,  0.,  0.],\n       [ 0.,  1.,  0.],\n       [ 0.,  0.,  1.]])"
                    },
                    "execution_count": 40
                }
            ],
            "metadata": {}
        },
        {
            "source": "#### Use NumPy to generate a random number between 0 and 1",
            "cell_type": "markdown",
            "metadata": {}
        },
        {
            "source": "np.random.rand(1)",
            "cell_type": "code",
            "execution_count": 111,
            "outputs": [
                {
                    "output_type": "execute_result",
                    "metadata": {},
                    "data": {
                        "text/plain": "array([ 0.8260709])"
                    },
                    "execution_count": 111
                }
            ],
            "metadata": {}
        },
        {
            "source": "#### Use NumPy to generate an array of 25 random numbers sampled from a standard normal distribution",
            "cell_type": "markdown",
            "metadata": {}
        },
        {
            "source": "np.random.randn(25)",
            "cell_type": "code",
            "execution_count": 112,
            "outputs": [
                {
                    "output_type": "execute_result",
                    "metadata": {},
                    "data": {
                        "text/plain": "array([ 0.32765472,  0.48532096, -1.09665346, -0.94923392,  0.85459298,\n        1.53057085,  0.40497712,  0.3396046 , -0.48419589, -0.89816249,\n       -1.61236029,  0.40825031,  1.06693432, -0.72591205,  0.43915235,\n       -0.86575772, -1.08760772,  0.11823724, -1.6935418 ,  0.48798768,\n       -0.59466616,  0.95084639, -0.22205962, -1.08112583, -1.60090753])"
                    },
                    "execution_count": 112
                }
            ],
            "metadata": {}
        },
        {
            "source": "#### Create the following matrix:",
            "cell_type": "markdown",
            "metadata": {}
        },
        {
            "source": "np.linspace(0.01,1,100).reshape(10,10)  # linspace \n                                        # Start at 0.01, go to 1,\n                                        # Then reshape as 10x10 array",
            "cell_type": "code",
            "execution_count": 117,
            "outputs": [
                {
                    "output_type": "execute_result",
                    "metadata": {},
                    "data": {
                        "text/plain": "array([[ 0.01,  0.02,  0.03,  0.04,  0.05,  0.06,  0.07,  0.08,  0.09,  0.1 ],\n       [ 0.11,  0.12,  0.13,  0.14,  0.15,  0.16,  0.17,  0.18,  0.19,  0.2 ],\n       [ 0.21,  0.22,  0.23,  0.24,  0.25,  0.26,  0.27,  0.28,  0.29,  0.3 ],\n       [ 0.31,  0.32,  0.33,  0.34,  0.35,  0.36,  0.37,  0.38,  0.39,  0.4 ],\n       [ 0.41,  0.42,  0.43,  0.44,  0.45,  0.46,  0.47,  0.48,  0.49,  0.5 ],\n       [ 0.51,  0.52,  0.53,  0.54,  0.55,  0.56,  0.57,  0.58,  0.59,  0.6 ],\n       [ 0.61,  0.62,  0.63,  0.64,  0.65,  0.66,  0.67,  0.68,  0.69,  0.7 ],\n       [ 0.71,  0.72,  0.73,  0.74,  0.75,  0.76,  0.77,  0.78,  0.79,  0.8 ],\n       [ 0.81,  0.82,  0.83,  0.84,  0.85,  0.86,  0.87,  0.88,  0.89,  0.9 ],\n       [ 0.91,  0.92,  0.93,  0.94,  0.95,  0.96,  0.97,  0.98,  0.99,  1.  ]])"
                    },
                    "execution_count": 117
                }
            ],
            "metadata": {}
        },
        {
            "source": "#### Create an array of 20 linearly spaced points between 0 and 1:",
            "cell_type": "markdown",
            "metadata": {}
        },
        {
            "source": "np.linspace(0,1,20)",
            "cell_type": "code",
            "execution_count": 55,
            "outputs": [
                {
                    "output_type": "execute_result",
                    "metadata": {},
                    "data": {
                        "text/plain": "array([ 0.        ,  0.05263158,  0.10526316,  0.15789474,  0.21052632,\n        0.26315789,  0.31578947,  0.36842105,  0.42105263,  0.47368421,\n        0.52631579,  0.57894737,  0.63157895,  0.68421053,  0.73684211,\n        0.78947368,  0.84210526,  0.89473684,  0.94736842,  1.        ])"
                    },
                    "execution_count": 55
                }
            ],
            "metadata": {}
        },
        {
            "source": "## Numpy Indexing and Selection\n\nNow you will be given a few matrices, and be asked to replicate the resulting matrix outputs:",
            "cell_type": "markdown",
            "metadata": {}
        },
        {
            "source": "mat = np.arange(1,26).reshape(5,5)\nmat",
            "cell_type": "code",
            "execution_count": 118,
            "outputs": [
                {
                    "output_type": "execute_result",
                    "metadata": {},
                    "data": {
                        "text/plain": "array([[ 1,  2,  3,  4,  5],\n       [ 6,  7,  8,  9, 10],\n       [11, 12, 13, 14, 15],\n       [16, 17, 18, 19, 20],\n       [21, 22, 23, 24, 25]])"
                    },
                    "execution_count": 118
                }
            ],
            "metadata": {}
        },
        {
            "source": "# WRITE CODE HERE THAT REPRODUCES THE OUTPUT OF THE CELL BELOW\n# BE CAREFUL NOT TO RUN THE CELL BELOW, OTHERWISE YOU WON'T\n# BE ABLE TO SEE THE OUTPUT ANY MORE",
            "cell_type": "code",
            "execution_count": 39,
            "outputs": [],
            "metadata": {
                "collapsed": true
            }
        },
        {
            "source": "mat[2:,1:]",
            "cell_type": "code",
            "execution_count": 124,
            "outputs": [
                {
                    "output_type": "execute_result",
                    "metadata": {},
                    "data": {
                        "text/plain": "array([[12, 13, 14, 15],\n       [17, 18, 19, 20],\n       [22, 23, 24, 25]])"
                    },
                    "execution_count": 124
                }
            ],
            "metadata": {}
        },
        {
            "source": "# WRITE CODE HERE THAT REPRODUCES THE OUTPUT OF THE CELL BELOW\n# BE CAREFUL NOT TO RUN THE CELL BELOW, OTHERWISE YOU WON'T\n# BE ABLE TO SEE THE OUTPUT ANY MORE",
            "cell_type": "code",
            "execution_count": 29,
            "outputs": [],
            "metadata": {
                "collapsed": true
            }
        },
        {
            "source": "mat[3,4]",
            "cell_type": "code",
            "execution_count": 129,
            "outputs": [
                {
                    "output_type": "execute_result",
                    "metadata": {},
                    "data": {
                        "text/plain": "20"
                    },
                    "execution_count": 129
                }
            ],
            "metadata": {}
        },
        {
            "source": "# WRITE CODE HERE THAT REPRODUCES THE OUTPUT OF THE CELL BELOW\n# BE CAREFUL NOT TO RUN THE CELL BELOW, OTHERWISE YOU WON'T\n# BE ABLE TO SEE THE OUTPUT ANY MORE",
            "cell_type": "code",
            "execution_count": 30,
            "outputs": [],
            "metadata": {
                "collapsed": true
            }
        },
        {
            "source": "mat",
            "cell_type": "code",
            "execution_count": 65,
            "outputs": [
                {
                    "output_type": "execute_result",
                    "metadata": {},
                    "data": {
                        "text/plain": "array([[ 1,  2,  3,  4,  5],\n       [ 6,  7,  8,  9, 10],\n       [11, 12, 13, 14, 15],\n       [16, 17, 18, 19, 20],\n       [21, 22, 23, 24, 25]])"
                    },
                    "execution_count": 65
                }
            ],
            "metadata": {}
        },
        {
            "source": "mat[:3,1:2]",
            "cell_type": "code",
            "execution_count": 67,
            "outputs": [
                {
                    "output_type": "execute_result",
                    "metadata": {},
                    "data": {
                        "text/plain": "array([[ 2],\n       [ 7],\n       [12]])"
                    },
                    "execution_count": 67
                }
            ],
            "metadata": {}
        },
        {
            "source": "# WRITE CODE HERE THAT REPRODUCES THE OUTPUT OF THE CELL BELOW\n# BE CAREFUL NOT TO RUN THE CELL BELOW, OTHERWISE YOU WON'T\n# BE ABLE TO SEE THE OUTPUT ANY MORE",
            "cell_type": "code",
            "execution_count": 31,
            "outputs": [],
            "metadata": {
                "collapsed": true
            }
        },
        {
            "source": "mat[4:]",
            "cell_type": "code",
            "execution_count": 69,
            "outputs": [
                {
                    "output_type": "execute_result",
                    "metadata": {},
                    "data": {
                        "text/plain": "array([[21, 22, 23, 24, 25]])"
                    },
                    "execution_count": 69
                }
            ],
            "metadata": {}
        },
        {
            "source": "# WRITE CODE HERE THAT REPRODUCES THE OUTPUT OF THE CELL BELOW\n# BE CAREFUL NOT TO RUN THE CELL BELOW, OTHERWISE YOU WON'T\n# BE ABLE TO SEE THE OUTPUT ANY MORE",
            "cell_type": "code",
            "execution_count": 32,
            "outputs": [],
            "metadata": {
                "collapsed": true
            }
        },
        {
            "source": "mat[3:]",
            "cell_type": "code",
            "execution_count": 130,
            "outputs": [
                {
                    "output_type": "execute_result",
                    "metadata": {},
                    "data": {
                        "text/plain": "array([[16, 17, 18, 19, 20],\n       [21, 22, 23, 24, 25]])"
                    },
                    "execution_count": 130
                }
            ],
            "metadata": {}
        },
        {
            "source": "### Now do the following",
            "cell_type": "markdown",
            "metadata": {}
        },
        {
            "source": "#### Get the sum of all the values in mat",
            "cell_type": "markdown",
            "metadata": {}
        },
        {
            "source": "mat       # output is 325",
            "cell_type": "code",
            "execution_count": 72,
            "outputs": [
                {
                    "output_type": "execute_result",
                    "metadata": {},
                    "data": {
                        "text/plain": "array([[ 1,  2,  3,  4,  5],\n       [ 6,  7,  8,  9, 10],\n       [11, 12, 13, 14, 15],\n       [16, 17, 18, 19, 20],\n       [21, 22, 23, 24, 25]])"
                    },
                    "execution_count": 72
                }
            ],
            "metadata": {}
        },
        {
            "source": "np.sum(mat)",
            "cell_type": "code",
            "execution_count": 131,
            "outputs": [
                {
                    "output_type": "execute_result",
                    "metadata": {},
                    "data": {
                        "text/plain": "325"
                    },
                    "execution_count": 131
                }
            ],
            "metadata": {}
        },
        {
            "source": "#### Get the standard deviation of the values in mat",
            "cell_type": "markdown",
            "metadata": {}
        },
        {
            "source": " np.std(mat)       ",
            "cell_type": "code",
            "execution_count": 132,
            "outputs": [
                {
                    "output_type": "execute_result",
                    "metadata": {},
                    "data": {
                        "text/plain": "7.2111025509279782"
                    },
                    "execution_count": 132
                }
            ],
            "metadata": {}
        },
        {
            "source": "#### Get the sum of all the columns in mat",
            "cell_type": "markdown",
            "metadata": {}
        },
        {
            "source": "mat",
            "cell_type": "code",
            "execution_count": 86,
            "outputs": [
                {
                    "output_type": "execute_result",
                    "metadata": {},
                    "data": {
                        "text/plain": "array([[ 1,  2,  3,  4,  5],\n       [ 6,  7,  8,  9, 10],\n       [11, 12, 13, 14, 15],\n       [16, 17, 18, 19, 20],\n       [21, 22, 23, 24, 25]])"
                    },
                    "execution_count": 86
                }
            ],
            "metadata": {}
        },
        {
            "source": "mat_col = mat",
            "cell_type": "code",
            "execution_count": 102,
            "outputs": [],
            "metadata": {}
        },
        {
            "source": "mat_col[0,0:5]",
            "cell_type": "code",
            "execution_count": 134,
            "outputs": [
                {
                    "output_type": "execute_result",
                    "metadata": {},
                    "data": {
                        "text/plain": "array([1, 2, 3, 4, 5])"
                    },
                    "execution_count": 134
                }
            ],
            "metadata": {}
        },
        {
            "source": "mat.sum(axis=0)     # Axis = 0 (column)\n                    # Axis = 1 (row 'headings')",
            "cell_type": "code",
            "execution_count": 137,
            "outputs": [
                {
                    "output_type": "execute_result",
                    "metadata": {},
                    "data": {
                        "text/plain": "array([55, 60, 65, 70, 75])"
                    },
                    "execution_count": 137
                }
            ],
            "metadata": {}
        },
        {
            "source": "# Great Job!",
            "cell_type": "markdown",
            "metadata": {
                "collapsed": true
            }
        }
    ],
    "nbformat": 4,
    "metadata": {
        "kernelspec": {
            "display_name": "Python 3.5",
            "name": "python3",
            "language": "python"
        },
        "language_info": {
            "mimetype": "text/x-python",
            "nbconvert_exporter": "python",
            "version": "3.5.5",
            "name": "python",
            "pygments_lexer": "ipython3",
            "file_extension": ".py",
            "codemirror_mode": {
                "version": 3,
                "name": "ipython"
            }
        }
    }
}