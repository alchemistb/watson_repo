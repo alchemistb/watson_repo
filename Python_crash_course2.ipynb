{
    "nbformat_minor": 1,
    "cells": [
        {
            "source": "<h3>Dictionaries</h3>",
            "cell_type": "markdown",
            "metadata": {
                "collapsed": true
            }
        },
        {
            "source": "d = {'key1': 'value', 'key2':123} #dictionary has key:value pairs",
            "cell_type": "code",
            "execution_count": 1,
            "outputs": [],
            "metadata": {}
        },
        {
            "source": "d",
            "cell_type": "code",
            "execution_count": 2,
            "outputs": [
                {
                    "output_type": "execute_result",
                    "metadata": {},
                    "data": {
                        "text/plain": "{'key1': 'value', 'key2': 123}"
                    },
                    "execution_count": 2
                }
            ],
            "metadata": {}
        },
        {
            "source": "d['key1']",
            "cell_type": "code",
            "execution_count": 4,
            "outputs": [
                {
                    "output_type": "execute_result",
                    "metadata": {},
                    "data": {
                        "text/plain": "'value'"
                    },
                    "execution_count": 4
                }
            ],
            "metadata": {}
        },
        {
            "source": "d['key2']",
            "cell_type": "code",
            "execution_count": 5,
            "outputs": [
                {
                    "output_type": "execute_result",
                    "metadata": {},
                    "data": {
                        "text/plain": "123"
                    },
                    "execution_count": 5
                }
            ],
            "metadata": {}
        },
        {
            "source": "d1 = {'k1':[1,2,3]} # A list inside of a dictionary",
            "cell_type": "code",
            "execution_count": 9,
            "outputs": [],
            "metadata": {}
        },
        {
            "source": "d1",
            "cell_type": "code",
            "execution_count": 10,
            "outputs": [
                {
                    "output_type": "execute_result",
                    "metadata": {},
                    "data": {
                        "text/plain": "{'k1': [1, 2, 3]}"
                    },
                    "execution_count": 10
                }
            ],
            "metadata": {}
        },
        {
            "source": "d1['k1'] # Only calling the key",
            "cell_type": "code",
            "execution_count": 11,
            "outputs": [
                {
                    "output_type": "execute_result",
                    "metadata": {},
                    "data": {
                        "text/plain": "[1, 2, 3]"
                    },
                    "execution_count": 11
                }
            ],
            "metadata": {}
        },
        {
            "source": "d1['k1'][0] # index value",
            "cell_type": "code",
            "execution_count": 17,
            "outputs": [
                {
                    "output_type": "execute_result",
                    "metadata": {},
                    "data": {
                        "text/plain": "1"
                    },
                    "execution_count": 17
                }
            ],
            "metadata": {}
        },
        {
            "source": "d1['k1'][1] # index value",
            "cell_type": "code",
            "execution_count": 16,
            "outputs": [
                {
                    "output_type": "execute_result",
                    "metadata": {},
                    "data": {
                        "text/plain": "2"
                    },
                    "execution_count": 16
                }
            ],
            "metadata": {}
        },
        {
            "source": "d1['k1'][2] # index value",
            "cell_type": "code",
            "execution_count": 15,
            "outputs": [
                {
                    "output_type": "execute_result",
                    "metadata": {},
                    "data": {
                        "text/plain": "3"
                    },
                    "execution_count": 15
                }
            ],
            "metadata": {}
        },
        {
            "source": "d2 = {'k1':{'innerkey': [1,2,3]}} # Nested dictionary in a dictionary",
            "cell_type": "code",
            "execution_count": 18,
            "outputs": [],
            "metadata": {}
        },
        {
            "source": "d2['k1']['innerkey'][1] # Get the 1st index value from the nested dictionary, starting with the outer dictionary ",
            "cell_type": "code",
            "execution_count": 20,
            "outputs": [
                {
                    "output_type": "execute_result",
                    "metadata": {},
                    "data": {
                        "text/plain": "2"
                    },
                    "execution_count": 20
                }
            ],
            "metadata": {}
        },
        {
            "source": "<h3>Boolean</h3>",
            "cell_type": "markdown",
            "metadata": {}
        },
        {
            "source": "# Used most in comparative sets",
            "cell_type": "code",
            "execution_count": null,
            "outputs": [],
            "metadata": {}
        },
        {
            "source": "True",
            "cell_type": "code",
            "execution_count": 21,
            "outputs": [
                {
                    "output_type": "execute_result",
                    "metadata": {},
                    "data": {
                        "text/plain": "True"
                    },
                    "execution_count": 21
                }
            ],
            "metadata": {}
        },
        {
            "source": "False",
            "cell_type": "code",
            "execution_count": 22,
            "outputs": [
                {
                    "output_type": "execute_result",
                    "metadata": {},
                    "data": {
                        "text/plain": "False"
                    },
                    "execution_count": 22
                }
            ],
            "metadata": {}
        },
        {
            "source": "<h3>Tuples</h3>",
            "cell_type": "markdown",
            "metadata": {}
        },
        {
            "source": "# Tuples are immutable = Can't change the values inside of them.",
            "cell_type": "code",
            "execution_count": null,
            "outputs": [],
            "metadata": {}
        },
        {
            "source": "t = (1,2,3)",
            "cell_type": "code",
            "execution_count": 25,
            "outputs": [],
            "metadata": {}
        },
        {
            "source": "t[0]",
            "cell_type": "code",
            "execution_count": 27,
            "outputs": [
                {
                    "output_type": "execute_result",
                    "metadata": {},
                    "data": {
                        "text/plain": "1"
                    },
                    "execution_count": 27
                }
            ],
            "metadata": {}
        },
        {
            "source": "t[0] = 'FRESH' # Tuples are immutable = Can't change the values inside of them.",
            "cell_type": "code",
            "execution_count": 28,
            "outputs": [
                {
                    "output_type": "error",
                    "evalue": "'tuple' object does not support item assignment",
                    "traceback": [
                        "\u001b[0;31m---------------------------------------------------------------------------\u001b[0m",
                        "\u001b[0;31mTypeError\u001b[0m                                 Traceback (most recent call last)",
                        "\u001b[0;32m<ipython-input-28-9ea27081c9d8>\u001b[0m in \u001b[0;36m<module>\u001b[0;34m()\u001b[0m\n\u001b[0;32m----> 1\u001b[0;31m \u001b[0mt\u001b[0m\u001b[0;34m[\u001b[0m\u001b[0;36m0\u001b[0m\u001b[0;34m]\u001b[0m \u001b[0;34m=\u001b[0m \u001b[0;34m'FRESH'\u001b[0m\u001b[0;34m\u001b[0m\u001b[0m\n\u001b[0m",
                        "\u001b[0;31mTypeError\u001b[0m: 'tuple' object does not support item assignment"
                    ],
                    "ename": "TypeError"
                }
            ],
            "metadata": {}
        },
        {
            "source": "<h3>Sets</h3>",
            "cell_type": "markdown",
            "metadata": {}
        },
        {
            "source": "# A collection of **unique** elements",
            "cell_type": "code",
            "execution_count": 29,
            "outputs": [],
            "metadata": {}
        },
        {
            "source": "{1,2,3}",
            "cell_type": "code",
            "execution_count": 30,
            "outputs": [
                {
                    "output_type": "execute_result",
                    "metadata": {},
                    "data": {
                        "text/plain": "{1, 2, 3}"
                    },
                    "execution_count": 30
                }
            ],
            "metadata": {}
        },
        {
            "source": "{1,1,1,1,2,2,2,3,3,3}",
            "cell_type": "code",
            "execution_count": 31,
            "outputs": [
                {
                    "output_type": "execute_result",
                    "metadata": {},
                    "data": {
                        "text/plain": "{1, 2, 3}"
                    },
                    "execution_count": 31
                }
            ],
            "metadata": {}
        },
        {
            "source": "set([1,1,1,1,2,2,2,3,3,3])",
            "cell_type": "code",
            "execution_count": 32,
            "outputs": [
                {
                    "output_type": "execute_result",
                    "metadata": {},
                    "data": {
                        "text/plain": "{1, 2, 3}"
                    },
                    "execution_count": 32
                }
            ],
            "metadata": {}
        },
        {
            "source": "s = {1,2,3}",
            "cell_type": "code",
            "execution_count": 33,
            "outputs": [],
            "metadata": {}
        },
        {
            "source": "s.add(5) # Add 5 to the set (Sets are mutable)",
            "cell_type": "code",
            "execution_count": 36,
            "outputs": [],
            "metadata": {}
        },
        {
            "source": "s",
            "cell_type": "code",
            "execution_count": 37,
            "outputs": [
                {
                    "output_type": "execute_result",
                    "metadata": {},
                    "data": {
                        "text/plain": "{1, 2, 3, 5}"
                    },
                    "execution_count": 37
                }
            ],
            "metadata": {}
        },
        {
            "source": "<h3>Comparison Operators</h3>",
            "cell_type": "markdown",
            "metadata": {}
        },
        {
            "source": "# < > == <= >=",
            "cell_type": "code",
            "execution_count": 38,
            "outputs": [],
            "metadata": {}
        },
        {
            "source": "1 > 2",
            "cell_type": "code",
            "execution_count": 39,
            "outputs": [
                {
                    "output_type": "execute_result",
                    "metadata": {},
                    "data": {
                        "text/plain": "False"
                    },
                    "execution_count": 39
                }
            ],
            "metadata": {}
        },
        {
            "source": "1 < 2",
            "cell_type": "code",
            "execution_count": 40,
            "outputs": [
                {
                    "output_type": "execute_result",
                    "metadata": {},
                    "data": {
                        "text/plain": "True"
                    },
                    "execution_count": 40
                }
            ],
            "metadata": {}
        },
        {
            "source": "1 >= 2",
            "cell_type": "code",
            "execution_count": 41,
            "outputs": [
                {
                    "output_type": "execute_result",
                    "metadata": {},
                    "data": {
                        "text/plain": "False"
                    },
                    "execution_count": 41
                }
            ],
            "metadata": {}
        },
        {
            "source": "1 <= 2",
            "cell_type": "code",
            "execution_count": 43,
            "outputs": [
                {
                    "output_type": "execute_result",
                    "metadata": {},
                    "data": {
                        "text/plain": "True"
                    },
                    "execution_count": 43
                }
            ],
            "metadata": {}
        },
        {
            "source": "1 == 1",
            "cell_type": "code",
            "execution_count": 44,
            "outputs": [
                {
                    "output_type": "execute_result",
                    "metadata": {},
                    "data": {
                        "text/plain": "True"
                    },
                    "execution_count": 44
                }
            ],
            "metadata": {}
        },
        {
            "source": "1 == 2",
            "cell_type": "code",
            "execution_count": 45,
            "outputs": [
                {
                    "output_type": "execute_result",
                    "metadata": {},
                    "data": {
                        "text/plain": "False"
                    },
                    "execution_count": 45
                }
            ],
            "metadata": {}
        },
        {
            "source": "1 != 3",
            "cell_type": "code",
            "execution_count": 46,
            "outputs": [
                {
                    "output_type": "execute_result",
                    "metadata": {},
                    "data": {
                        "text/plain": "True"
                    },
                    "execution_count": 46
                }
            ],
            "metadata": {}
        },
        {
            "source": "'hi' == 'bye'",
            "cell_type": "code",
            "execution_count": 47,
            "outputs": [
                {
                    "output_type": "execute_result",
                    "metadata": {},
                    "data": {
                        "text/plain": "False"
                    },
                    "execution_count": 47
                }
            ],
            "metadata": {}
        },
        {
            "source": "'hi' != 'bye'",
            "cell_type": "code",
            "execution_count": 49,
            "outputs": [
                {
                    "output_type": "execute_result",
                    "metadata": {},
                    "data": {
                        "text/plain": "True"
                    },
                    "execution_count": 49
                }
            ],
            "metadata": {}
        },
        {
            "source": "<h3> AND/OR </h3>",
            "cell_type": "markdown",
            "metadata": {}
        },
        {
            "source": "(1 < 2) and (2 < 3)  # Both have to be true, to return 'True'",
            "cell_type": "code",
            "execution_count": 50,
            "outputs": [
                {
                    "output_type": "execute_result",
                    "metadata": {},
                    "data": {
                        "text/plain": "True"
                    },
                    "execution_count": 50
                }
            ],
            "metadata": {}
        },
        {
            "source": "(1 < 2) and (2 > 3)",
            "cell_type": "code",
            "execution_count": 51,
            "outputs": [
                {
                    "output_type": "execute_result",
                    "metadata": {},
                    "data": {
                        "text/plain": "False"
                    },
                    "execution_count": 51
                }
            ],
            "metadata": {}
        },
        {
            "source": "(1 < 2) or (2 > 3)  # One can be true and the other can be false",
            "cell_type": "code",
            "execution_count": 53,
            "outputs": [
                {
                    "output_type": "execute_result",
                    "metadata": {},
                    "data": {
                        "text/plain": "True"
                    },
                    "execution_count": 53
                }
            ],
            "metadata": {}
        },
        {
            "source": "<h3>IF/ELIF/ELSE: - Conditional Code Blocks</h3>",
            "cell_type": "markdown",
            "metadata": {}
        },
        {
            "source": "if 1 < 2:\n    print('yep!')",
            "cell_type": "code",
            "execution_count": 54,
            "outputs": [
                {
                    "output_type": "stream",
                    "name": "stdout",
                    "text": "yep!\n"
                }
            ],
            "metadata": {}
        },
        {
            "source": "if 1 == 2:\n    print('first')\nelse:\n    print('last')",
            "cell_type": "code",
            "execution_count": 55,
            "outputs": [
                {
                    "output_type": "stream",
                    "name": "stdout",
                    "text": "last\n"
                }
            ],
            "metadata": {}
        },
        {
            "source": "if 1 == 2:\n    print('first')\nelif 4 == 4:\n    print('second')\nelif 3 == 3:\n    print('middle')\nelse:\n    print('last')",
            "cell_type": "code",
            "execution_count": 57,
            "outputs": [
                {
                    "output_type": "stream",
                    "name": "stdout",
                    "text": "second\n"
                }
            ],
            "metadata": {}
        },
        {
            "source": "",
            "cell_type": "code",
            "execution_count": null,
            "outputs": [],
            "metadata": {}
        }
    ],
    "nbformat": 4,
    "metadata": {
        "kernelspec": {
            "display_name": "Python 3.5",
            "name": "python3",
            "language": "python"
        },
        "language_info": {
            "mimetype": "text/x-python",
            "nbconvert_exporter": "python",
            "version": "3.5.5",
            "name": "python",
            "pygments_lexer": "ipython3",
            "file_extension": ".py",
            "codemirror_mode": {
                "version": 3,
                "name": "ipython"
            }
        }
    }
}