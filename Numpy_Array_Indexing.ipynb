{
    "nbformat_minor": 1,
    "cells": [
        {
            "source": "<h1>Numpy Array Indexing and Selection</h1>",
            "cell_type": "markdown",
            "metadata": {
                "collapsed": true
            }
        },
        {
            "source": "import numpy as np",
            "cell_type": "code",
            "execution_count": 1,
            "outputs": [],
            "metadata": {}
        },
        {
            "source": "arr = np.arange(0,11)",
            "cell_type": "code",
            "execution_count": 6,
            "outputs": [],
            "metadata": {}
        },
        {
            "source": "arr",
            "cell_type": "code",
            "execution_count": 7,
            "outputs": [
                {
                    "output_type": "execute_result",
                    "metadata": {},
                    "data": {
                        "text/plain": "array([ 0,  1,  2,  3,  4,  5,  6,  7,  8,  9, 10])"
                    },
                    "execution_count": 7
                }
            ],
            "metadata": {}
        },
        {
            "source": "<h3> Index and Slicing</h3>",
            "cell_type": "markdown",
            "metadata": {}
        },
        {
            "source": "arr[8]  # Select the value at index 8",
            "cell_type": "code",
            "execution_count": 8,
            "outputs": [
                {
                    "output_type": "execute_result",
                    "metadata": {},
                    "data": {
                        "text/plain": "8"
                    },
                    "execution_count": 8
                }
            ],
            "metadata": {}
        },
        {
            "source": "arr[1:5] # Start at index  1 and end at index 4",
            "cell_type": "code",
            "execution_count": 9,
            "outputs": [
                {
                    "output_type": "execute_result",
                    "metadata": {},
                    "data": {
                        "text/plain": "array([1, 2, 3, 4])"
                    },
                    "execution_count": 9
                }
            ],
            "metadata": {}
        },
        {
            "source": "arr[0:5]",
            "cell_type": "code",
            "execution_count": 10,
            "outputs": [
                {
                    "output_type": "execute_result",
                    "metadata": {},
                    "data": {
                        "text/plain": "array([0, 1, 2, 3, 4])"
                    },
                    "execution_count": 10
                }
            ],
            "metadata": {}
        },
        {
            "source": "arr[:6]  # Get everything up to index 6, using :",
            "cell_type": "code",
            "execution_count": 11,
            "outputs": [
                {
                    "output_type": "execute_result",
                    "metadata": {},
                    "data": {
                        "text/plain": "array([0, 1, 2, 3, 4, 5])"
                    },
                    "execution_count": 11
                }
            ],
            "metadata": {}
        },
        {
            "source": "arr[5:]             # Get everything starting from index position 5 onto the end of the list",
            "cell_type": "code",
            "execution_count": 12,
            "outputs": [
                {
                    "output_type": "execute_result",
                    "metadata": {},
                    "data": {
                        "text/plain": "array([ 5,  6,  7,  8,  9, 10])"
                    },
                    "execution_count": 12
                }
            ],
            "metadata": {}
        },
        {
            "source": "<h3>Broadcasting</h3>",
            "cell_type": "markdown",
            "metadata": {}
        },
        {
            "source": "arr[0:5] = 100      # This will broadcast the first five values to be 100 in the list",
            "cell_type": "code",
            "execution_count": 13,
            "outputs": [],
            "metadata": {}
        },
        {
            "source": "arr",
            "cell_type": "code",
            "execution_count": 14,
            "outputs": [
                {
                    "output_type": "execute_result",
                    "metadata": {},
                    "data": {
                        "text/plain": "array([100, 100, 100, 100, 100,   5,   6,   7,   8,   9,  10])"
                    },
                    "execution_count": 14
                }
            ],
            "metadata": {}
        },
        {
            "source": "arr = np.arange(0,11)",
            "cell_type": "code",
            "execution_count": 15,
            "outputs": [],
            "metadata": {}
        },
        {
            "source": "arr",
            "cell_type": "code",
            "execution_count": 16,
            "outputs": [
                {
                    "output_type": "execute_result",
                    "metadata": {},
                    "data": {
                        "text/plain": "array([ 0,  1,  2,  3,  4,  5,  6,  7,  8,  9, 10])"
                    },
                    "execution_count": 16
                }
            ],
            "metadata": {}
        },
        {
            "source": "<h3>Copying</h3>",
            "cell_type": "markdown",
            "metadata": {}
        },
        {
            "source": "slice_of_arr = arr[0:6]",
            "cell_type": "code",
            "execution_count": 17,
            "outputs": [],
            "metadata": {}
        },
        {
            "source": "slice_of_arr",
            "cell_type": "code",
            "execution_count": 18,
            "outputs": [
                {
                    "output_type": "execute_result",
                    "metadata": {},
                    "data": {
                        "text/plain": "array([0, 1, 2, 3, 4, 5])"
                    },
                    "execution_count": 18
                }
            ],
            "metadata": {}
        },
        {
            "source": "arr",
            "cell_type": "code",
            "execution_count": 19,
            "outputs": [
                {
                    "output_type": "execute_result",
                    "metadata": {},
                    "data": {
                        "text/plain": "array([ 0,  1,  2,  3,  4,  5,  6,  7,  8,  9, 10])"
                    },
                    "execution_count": 19
                }
            ],
            "metadata": {}
        },
        {
            "source": "arr_copy = arr.copy()   # .COPY()\n                        # Copy data from an existing array into another array,\n                        # to preserve the original data",
            "cell_type": "code",
            "execution_count": 23,
            "outputs": [],
            "metadata": {}
        },
        {
            "source": "arr",
            "cell_type": "code",
            "execution_count": 25,
            "outputs": [
                {
                    "output_type": "execute_result",
                    "metadata": {},
                    "data": {
                        "text/plain": "array([ 0,  1,  2,  3,  4,  5,  6,  7,  8,  9, 10])"
                    },
                    "execution_count": 25
                }
            ],
            "metadata": {}
        },
        {
            "source": "arr_copy",
            "cell_type": "code",
            "execution_count": 26,
            "outputs": [
                {
                    "output_type": "execute_result",
                    "metadata": {},
                    "data": {
                        "text/plain": "array([ 0,  1,  2,  3,  4,  5,  6,  7,  8,  9, 10])"
                    },
                    "execution_count": 26
                }
            ],
            "metadata": {}
        },
        {
            "source": "arr_copy[:] = 100      # Change the values in arr_copy via broadcasting to 100",
            "cell_type": "code",
            "execution_count": 27,
            "outputs": [],
            "metadata": {}
        },
        {
            "source": "arr_copy             # The value of arr_copy contains all 100s",
            "cell_type": "code",
            "execution_count": 28,
            "outputs": [
                {
                    "output_type": "execute_result",
                    "metadata": {},
                    "data": {
                        "text/plain": "array([100, 100, 100, 100, 100, 100, 100, 100, 100, 100, 100])"
                    },
                    "execution_count": 28
                }
            ],
            "metadata": {}
        },
        {
            "source": "arr                 # The array arr has the original data ",
            "cell_type": "code",
            "execution_count": 29,
            "outputs": [
                {
                    "output_type": "execute_result",
                    "metadata": {},
                    "data": {
                        "text/plain": "array([ 0,  1,  2,  3,  4,  5,  6,  7,  8,  9, 10])"
                    },
                    "execution_count": 29
                }
            ],
            "metadata": {}
        },
        {
            "source": "<h3>Indexing a 2-D array (Matrix)</h3>",
            "cell_type": "markdown",
            "metadata": {}
        },
        {
            "source": "arr_2d = np.array([[5,10,15], [20,25,30], [35,40,45]])      # 2-D array with a nested list. (Lists inside of a list)",
            "cell_type": "code",
            "execution_count": 32,
            "outputs": [],
            "metadata": {}
        },
        {
            "source": "arr_2d",
            "cell_type": "code",
            "execution_count": 33,
            "outputs": [
                {
                    "output_type": "execute_result",
                    "metadata": {},
                    "data": {
                        "text/plain": "array([[ 5, 10, 15],\n       [20, 25, 30],\n       [35, 40, 45]])"
                    },
                    "execution_count": 33
                }
            ],
            "metadata": {}
        },
        {
            "source": "arr_2d[0][0]                    # Double bracket Format for grabbing Data\n                                # To get the value 5, first grab at index [0], which is the first row,\n                                # next, grab at index[0] again to grab the first value in the first column",
            "cell_type": "code",
            "execution_count": 39,
            "outputs": [
                {
                    "output_type": "execute_result",
                    "metadata": {},
                    "data": {
                        "text/plain": "5"
                    },
                    "execution_count": 39
                }
            ],
            "metadata": {}
        },
        {
            "source": "arr_2d[0]                       # Returns the entire first row",
            "cell_type": "code",
            "execution_count": 41,
            "outputs": [
                {
                    "output_type": "execute_result",
                    "metadata": {},
                    "data": {
                        "text/plain": "array([ 5, 10, 15])"
                    },
                    "execution_count": 41
                }
            ],
            "metadata": {}
        },
        {
            "source": "arr_2d[1][1]                   # To grab value 25",
            "cell_type": "code",
            "execution_count": 42,
            "outputs": [
                {
                    "output_type": "execute_result",
                    "metadata": {},
                    "data": {
                        "text/plain": "25"
                    },
                    "execution_count": 42
                }
            ],
            "metadata": {}
        },
        {
            "source": "arr_2d[2][1]                   # To grab value 40",
            "cell_type": "code",
            "execution_count": 43,
            "outputs": [
                {
                    "output_type": "execute_result",
                    "metadata": {},
                    "data": {
                        "text/plain": "40"
                    },
                    "execution_count": 43
                }
            ],
            "metadata": {}
        },
        {
            "source": "arr_2d[2,1]                     # Single Bracket Notation (Recommended)\n                                # Uses comma notation",
            "cell_type": "code",
            "execution_count": 49,
            "outputs": [
                {
                    "output_type": "execute_result",
                    "metadata": {},
                    "data": {
                        "text/plain": "40"
                    },
                    "execution_count": 49
                }
            ],
            "metadata": {}
        },
        {
            "source": "arr_2d[1,1]                  ",
            "cell_type": "code",
            "execution_count": 46,
            "outputs": [
                {
                    "output_type": "execute_result",
                    "metadata": {},
                    "data": {
                        "text/plain": "25"
                    },
                    "execution_count": 46
                }
            ],
            "metadata": {}
        },
        {
            "source": "arr_2d[0,0]",
            "cell_type": "code",
            "execution_count": 47,
            "outputs": [
                {
                    "output_type": "execute_result",
                    "metadata": {},
                    "data": {
                        "text/plain": "5"
                    },
                    "execution_count": 47
                }
            ],
            "metadata": {}
        },
        {
            "source": "arr_2d[1,2]",
            "cell_type": "code",
            "execution_count": 48,
            "outputs": [
                {
                    "output_type": "execute_result",
                    "metadata": {},
                    "data": {
                        "text/plain": "30"
                    },
                    "execution_count": 48
                }
            ],
            "metadata": {}
        },
        {
            "source": "<h4> Grabbing Sections of an Array</h4>",
            "cell_type": "markdown",
            "metadata": {}
        },
        {
            "source": "arr_2d",
            "cell_type": "code",
            "execution_count": 53,
            "outputs": [
                {
                    "output_type": "execute_result",
                    "metadata": {},
                    "data": {
                        "text/plain": "array([[ 5, 10, 15],\n       [20, 25, 30],\n       [35, 40, 45]])"
                    },
                    "execution_count": 53
                }
            ],
            "metadata": {}
        },
        {
            "source": "arr_2d[:2,1:]   # Grab from the top right corner 10,15 and 35,30\n                # First, grab everything up to row 2 using :2,\n                # Then grab everything from column 1 all the way to the end, using 1:",
            "cell_type": "code",
            "execution_count": 50,
            "outputs": [
                {
                    "output_type": "execute_result",
                    "metadata": {},
                    "data": {
                        "text/plain": "array([[10, 15],\n       [25, 30]])"
                    },
                    "execution_count": 50
                }
            ],
            "metadata": {}
        },
        {
            "source": "arr_2d[:2]      # Grab the first two rows only, not the 3rd row.",
            "cell_type": "code",
            "execution_count": 51,
            "outputs": [
                {
                    "output_type": "execute_result",
                    "metadata": {},
                    "data": {
                        "text/plain": "array([[ 5, 10, 15],\n       [20, 25, 30]])"
                    },
                    "execution_count": 51
                }
            ],
            "metadata": {}
        },
        {
            "source": "arr_2d[1:,1:]   # Grab 25,30 and 40,45\n                # Skip the first row, using 1:, (which returns [20, 25, 30], [35, 40, 45])\n                # then skip the first column, using 1:, (which returns 25, 40, 30,45)",
            "cell_type": "code",
            "execution_count": 56,
            "outputs": [
                {
                    "output_type": "execute_result",
                    "metadata": {},
                    "data": {
                        "text/plain": "array([[25, 30],\n       [40, 45]])"
                    },
                    "execution_count": 56
                }
            ],
            "metadata": {}
        },
        {
            "source": "arr_2d[:2,:2]   # Grab 5,10 and 20,25\n                # Skip the last row, using :2 (which returns 5,10,15 and 20,25,30)\n                # Then, skip the last column using :2 (which returns 5,10 and 20,25)",
            "cell_type": "code",
            "execution_count": 60,
            "outputs": [
                {
                    "output_type": "execute_result",
                    "metadata": {},
                    "data": {
                        "text/plain": "array([[ 5, 10],\n       [20, 25]])"
                    },
                    "execution_count": 60
                }
            ],
            "metadata": {}
        },
        {
            "source": "<h3>Conditional Selections</h3>",
            "cell_type": "markdown",
            "metadata": {}
        },
        {
            "source": "arr = np.arange(1,11)",
            "cell_type": "code",
            "execution_count": 61,
            "outputs": [],
            "metadata": {}
        },
        {
            "source": "arr",
            "cell_type": "code",
            "execution_count": 62,
            "outputs": [
                {
                    "output_type": "execute_result",
                    "metadata": {},
                    "data": {
                        "text/plain": "array([ 1,  2,  3,  4,  5,  6,  7,  8,  9, 10])"
                    },
                    "execution_count": 62
                }
            ],
            "metadata": {}
        },
        {
            "source": "bool_arr = arr > 5          # Compare the array to return a BOOLEAN result\n                            # This example compares to see if values in arr are greater than 5",
            "cell_type": "code",
            "execution_count": 66,
            "outputs": [],
            "metadata": {}
        },
        {
            "source": "bool_arr",
            "cell_type": "code",
            "execution_count": 67,
            "outputs": [
                {
                    "output_type": "execute_result",
                    "metadata": {},
                    "data": {
                        "text/plain": "array([False, False, False, False, False,  True,  True,  True,  True,  True], dtype=bool)"
                    },
                    "execution_count": 67
                }
            ],
            "metadata": {}
        },
        {
            "source": "arr[bool_arr]               # Conditionally Selecting elements from the arr array\n                            # This returns only the True values from the bool_arr variable",
            "cell_type": "code",
            "execution_count": 70,
            "outputs": [
                {
                    "output_type": "execute_result",
                    "metadata": {},
                    "data": {
                        "text/plain": "array([ 6,  7,  8,  9, 10])"
                    },
                    "execution_count": 70
                }
            ],
            "metadata": {}
        },
        {
            "source": "arr[arr > 5]                # Putting this into one step.\n                            # Returns the elements that are TRUE from the boolean comparsion, greater than 5",
            "cell_type": "code",
            "execution_count": 71,
            "outputs": [
                {
                    "output_type": "execute_result",
                    "metadata": {},
                    "data": {
                        "text/plain": "array([ 6,  7,  8,  9, 10])"
                    },
                    "execution_count": 71
                }
            ],
            "metadata": {}
        },
        {
            "source": "arr[arr < 3]                # Find all the elements of the array arr which are less than 3.",
            "cell_type": "code",
            "execution_count": 72,
            "outputs": [
                {
                    "output_type": "execute_result",
                    "metadata": {},
                    "data": {
                        "text/plain": "array([1, 2])"
                    },
                    "execution_count": 72
                }
            ],
            "metadata": {}
        },
        {
            "source": "<h3> Grabbing Array Sections Practice</h3>",
            "cell_type": "markdown",
            "metadata": {}
        },
        {
            "source": "arr_2d = np.arange(50).reshape(5,10)        # Create a range of 50 numbers\n                                            # Reshape as a 5x10 array\n                                            # Assign to variable arr_2d",
            "cell_type": "code",
            "execution_count": 2,
            "outputs": [],
            "metadata": {}
        },
        {
            "source": "arr_2d",
            "cell_type": "code",
            "execution_count": 3,
            "outputs": [
                {
                    "output_type": "execute_result",
                    "metadata": {},
                    "data": {
                        "text/plain": "array([[ 0,  1,  2,  3,  4,  5,  6,  7,  8,  9],\n       [10, 11, 12, 13, 14, 15, 16, 17, 18, 19],\n       [20, 21, 22, 23, 24, 25, 26, 27, 28, 29],\n       [30, 31, 32, 33, 34, 35, 36, 37, 38, 39],\n       [40, 41, 42, 43, 44, 45, 46, 47, 48, 49]])"
                    },
                    "execution_count": 3
                }
            ],
            "metadata": {}
        },
        {
            "source": "arr_2d[1:3,3:5]                                  # Grab 13,14 and 23,24",
            "cell_type": "code",
            "execution_count": 86,
            "outputs": [
                {
                    "output_type": "execute_result",
                    "metadata": {},
                    "data": {
                        "text/plain": "array([[13, 14],\n       [23, 24]])"
                    },
                    "execution_count": 86
                }
            ],
            "metadata": {}
        },
        {
            "source": "arr_2d[2:4,8:]                                  # Grab 28,29 and 38,39",
            "cell_type": "code",
            "execution_count": 88,
            "outputs": [
                {
                    "output_type": "execute_result",
                    "metadata": {},
                    "data": {
                        "text/plain": "array([[28, 29],\n       [38, 39]])"
                    },
                    "execution_count": 88
                }
            ],
            "metadata": {}
        },
        {
            "source": "arr_2d[1:4,7:9]                                 # Grab 17,18 and 27,28 and 37,38",
            "cell_type": "code",
            "execution_count": 91,
            "outputs": [
                {
                    "output_type": "execute_result",
                    "metadata": {},
                    "data": {
                        "text/plain": "array([[17, 18],\n       [27, 28],\n       [37, 38]])"
                    },
                    "execution_count": 91
                }
            ],
            "metadata": {}
        },
        {
            "source": "arr_2d[3:,1:4]                                 # Grab 31 - 33, and 41 - 43 ",
            "cell_type": "code",
            "execution_count": 96,
            "outputs": [
                {
                    "output_type": "execute_result",
                    "metadata": {},
                    "data": {
                        "text/plain": "array([[31, 32, 33],\n       [41, 42, 43]])"
                    },
                    "execution_count": 96
                }
            ],
            "metadata": {}
        },
        {
            "source": "",
            "cell_type": "code",
            "execution_count": null,
            "outputs": [],
            "metadata": {}
        },
        {
            "source": "",
            "cell_type": "code",
            "execution_count": null,
            "outputs": [],
            "metadata": {}
        }
    ],
    "nbformat": 4,
    "metadata": {
        "kernelspec": {
            "display_name": "Python 3.5",
            "name": "python3",
            "language": "python"
        },
        "language_info": {
            "mimetype": "text/x-python",
            "nbconvert_exporter": "python",
            "version": "3.5.5",
            "name": "python",
            "file_extension": ".py",
            "pygments_lexer": "ipython3",
            "codemirror_mode": {
                "version": 3,
                "name": "ipython"
            }
        }
    }
}