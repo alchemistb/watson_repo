{
    "nbformat_minor": 1,
    "cells": [
        {
            "source": "<h1>Pandas Data Input and Output</h1>",
            "cell_type": "markdown",
            "metadata": {
                "collapsed": true
            }
        },
        {
            "source": "<li>CSV\n<li>Excel\n<li>HTML\n<li>SQL",
            "cell_type": "markdown",
            "metadata": {}
        },
        {
            "source": "!conda install sqlalchemy",
            "cell_type": "code",
            "execution_count": 15,
            "outputs": [
                {
                    "output_type": "stream",
                    "name": "stdout",
                    "text": "Solving environment: done\n\n# All requested packages already installed.\n\n"
                }
            ],
            "metadata": {}
        },
        {
            "source": "!conda install lxml",
            "cell_type": "code",
            "execution_count": 16,
            "outputs": [
                {
                    "output_type": "stream",
                    "name": "stdout",
                    "text": "Solving environment: done\n\n# All requested packages already installed.\n\n"
                }
            ],
            "metadata": {}
        },
        {
            "source": "!conda install html5lib",
            "cell_type": "code",
            "execution_count": 17,
            "outputs": [
                {
                    "output_type": "stream",
                    "name": "stdout",
                    "text": "Solving environment: done\n\n# All requested packages already installed.\n\n"
                }
            ],
            "metadata": {}
        },
        {
            "source": "!conda install BeautifulSoup4",
            "cell_type": "code",
            "execution_count": 18,
            "outputs": [
                {
                    "output_type": "stream",
                    "name": "stdout",
                    "text": "Solving environment: done\n\n# All requested packages already installed.\n\n"
                }
            ],
            "metadata": {}
        },
        {
            "source": "pwd",
            "cell_type": "code",
            "execution_count": 19,
            "outputs": [
                {
                    "output_type": "execute_result",
                    "metadata": {},
                    "data": {
                        "text/plain": "'/home/dsxuser/work'"
                    },
                    "execution_count": 19
                }
            ],
            "metadata": {}
        },
        {
            "source": "<h3>Loading a file to be read</h3>",
            "cell_type": "markdown",
            "metadata": {}
        },
        {
            "source": "<h4>To load a file that can be read into a dataframe: First browse the file from the <u>New Data Assets</u> section of the main page. Next, from the specific notebook in question, click on the <b><u>0100</u></b> icon (upper right corner). \n    \nFrom there, find the file that was just downloaded, and select <b><u>Insert to Code</u></b>, and chose Insert StreamingBody object. \n\nUnder the (# pandas documentation) line, the next line should have the variable referenced to the file which was downloaded into storage. (It usally starts with <u>streaming_body_1</u>). \n\nExecute the cell, and the file variable should be ready to be used (i.e., pd.read_csv(streaming_body_1)) </h4>",
            "cell_type": "markdown",
            "metadata": {}
        },
        {
            "source": "\nimport types\nimport pandas as pd\nimport numpy as np\nfrom botocore.client import Config\nimport ibm_boto3\n\ndef __iter__(self): return 0\n\n# @hidden_cell\n# The following code accesses a file in your IBM Cloud Object Storage. It includes your credentials.\n# You might want to remove those credentials before you share your notebook.\nclient_c301c8e200a34ae486a32a40454568f1 = ibm_boto3.client(service_name='s3',\n    ibm_api_key_id='D3_G27FYSAYWOwELXqebZnpnv235igW_eE9duzj2TzyD',\n    ibm_auth_endpoint=\"https://iam.bluemix.net/oidc/token\",\n    config=Config(signature_version='oauth'),\n    endpoint_url='https://s3-api.us-geo.objectstorage.service.networklayer.com')\n\n# Your data file was loaded into a botocore.response.StreamingBody object.\n# Please read the documentation of ibm_boto3 and pandas to learn more about your possibilities to load the data.\n# ibm_boto3 documentation: https://ibm.github.io/ibm-cos-sdk-python/\n# pandas documentation: http://pandas.pydata.org/\nstreaming_body_1 = client_c301c8e200a34ae486a32a40454568f1.get_object(Bucket='basicdataprocessingvisualizationp-donotdelete-pr-segj2b6ymcjjwc', Key='example')['Body']\n# add missing __iter__ method, so pandas accepts body as file-like object\nif not hasattr(streaming_body_1, \"__iter__\"): streaming_body_1.__iter__ = types.MethodType( __iter__, streaming_body_1 ) \n\n",
            "cell_type": "code",
            "execution_count": 31,
            "outputs": [],
            "metadata": {}
        },
        {
            "source": "<h3>Writing to a DataFram</h3>",
            "cell_type": "markdown",
            "metadata": {}
        },
        {
            "source": "df = pd.read_csv(streaming_body_1)      # Usage pd.read_csv('some csv file')\n                                        # Assign it to a DataFrame",
            "cell_type": "code",
            "execution_count": 32,
            "outputs": [],
            "metadata": {}
        },
        {
            "source": "<h3>Writing to a CSV file</h3>",
            "cell_type": "markdown",
            "metadata": {}
        },
        {
            "source": "df",
            "cell_type": "code",
            "execution_count": 33,
            "outputs": [
                {
                    "output_type": "execute_result",
                    "metadata": {},
                    "data": {
                        "text/plain": "    a   b   c   d\n0   0   1   2   3\n1   4   5   6   7\n2   8   9  10  11\n3  12  13  14  15",
                        "text/html": "<div>\n<style scoped>\n    .dataframe tbody tr th:only-of-type {\n        vertical-align: middle;\n    }\n\n    .dataframe tbody tr th {\n        vertical-align: top;\n    }\n\n    .dataframe thead th {\n        text-align: right;\n    }\n</style>\n<table border=\"1\" class=\"dataframe\">\n  <thead>\n    <tr style=\"text-align: right;\">\n      <th></th>\n      <th>a</th>\n      <th>b</th>\n      <th>c</th>\n      <th>d</th>\n    </tr>\n  </thead>\n  <tbody>\n    <tr>\n      <th>0</th>\n      <td>0</td>\n      <td>1</td>\n      <td>2</td>\n      <td>3</td>\n    </tr>\n    <tr>\n      <th>1</th>\n      <td>4</td>\n      <td>5</td>\n      <td>6</td>\n      <td>7</td>\n    </tr>\n    <tr>\n      <th>2</th>\n      <td>8</td>\n      <td>9</td>\n      <td>10</td>\n      <td>11</td>\n    </tr>\n    <tr>\n      <th>3</th>\n      <td>12</td>\n      <td>13</td>\n      <td>14</td>\n      <td>15</td>\n    </tr>\n  </tbody>\n</table>\n</div>"
                    },
                    "execution_count": 33
                }
            ],
            "metadata": {}
        },
        {
            "source": "# Read data into a new file (called My_output)\n# *Note: Make sure index = False* so unnamed index/old index doesn't appear\n# Usage: df.to_csv('new file name', index=False)\n\n\ndf.to_csv('My_output', index = False)   ",
            "cell_type": "code",
            "execution_count": 34,
            "outputs": [],
            "metadata": {}
        },
        {
            "source": "pd.read_csv('My_output')    # Read the output of the new csv file\n                            # Usage: pd.read_csv('some new file')",
            "cell_type": "code",
            "execution_count": 35,
            "outputs": [
                {
                    "output_type": "execute_result",
                    "metadata": {},
                    "data": {
                        "text/plain": "    a   b   c   d\n0   0   1   2   3\n1   4   5   6   7\n2   8   9  10  11\n3  12  13  14  15",
                        "text/html": "<div>\n<style scoped>\n    .dataframe tbody tr th:only-of-type {\n        vertical-align: middle;\n    }\n\n    .dataframe tbody tr th {\n        vertical-align: top;\n    }\n\n    .dataframe thead th {\n        text-align: right;\n    }\n</style>\n<table border=\"1\" class=\"dataframe\">\n  <thead>\n    <tr style=\"text-align: right;\">\n      <th></th>\n      <th>a</th>\n      <th>b</th>\n      <th>c</th>\n      <th>d</th>\n    </tr>\n  </thead>\n  <tbody>\n    <tr>\n      <th>0</th>\n      <td>0</td>\n      <td>1</td>\n      <td>2</td>\n      <td>3</td>\n    </tr>\n    <tr>\n      <th>1</th>\n      <td>4</td>\n      <td>5</td>\n      <td>6</td>\n      <td>7</td>\n    </tr>\n    <tr>\n      <th>2</th>\n      <td>8</td>\n      <td>9</td>\n      <td>10</td>\n      <td>11</td>\n    </tr>\n    <tr>\n      <th>3</th>\n      <td>12</td>\n      <td>13</td>\n      <td>14</td>\n      <td>15</td>\n    </tr>\n  </tbody>\n</table>\n</div>"
                    },
                    "execution_count": 35
                }
            ],
            "metadata": {}
        },
        {
            "source": "<h3>Reading and Writing Excel Files</h3>",
            "cell_type": "markdown",
            "metadata": {}
        },
        {
            "source": "\n# Your data file was loaded into a botocore.response.StreamingBody object.\n# Please read the documentation of ibm_boto3 and pandas to learn more about your possibilities to load the data.\n# ibm_boto3 documentation: https://ibm.github.io/ibm-cos-sdk-python/\n# pandas documentation: http://pandas.pydata.org/\nstreaming_body_2 = client_c301c8e200a34ae486a32a40454568f1.get_object(Bucket='basicdataprocessingvisualizationp-donotdelete-pr-segj2b6ymcjjwc', Key='Excel_Sample.xlsx')['Body']\n# add missing __iter__ method so pandas accepts body as file-like object\nif not hasattr(streaming_body_2, \"__iter__\"): streaming_body_2.__iter__ = types.MethodType( __iter__, streaming_body_2 ) \n\n",
            "cell_type": "code",
            "execution_count": 39,
            "outputs": [],
            "metadata": {}
        },
        {
            "source": "# Reading in an Excel workbook\n# Provide the name of the excel workbook AND sheet_name\n# Usage: pd.read_excel('workbook/file name', sheet_name = 'some sheet')\n\npd.read_excel(streaming_body_2,sheet_name='Sheet1')     ",
            "cell_type": "code",
            "execution_count": 40,
            "outputs": [
                {
                    "output_type": "execute_result",
                    "metadata": {},
                    "data": {
                        "text/plain": "    a   b   c   d\n0   0   1   2   3\n1   4   5   6   7\n2   8   9  10  11\n3  12  13  14  15",
                        "text/html": "<div>\n<style scoped>\n    .dataframe tbody tr th:only-of-type {\n        vertical-align: middle;\n    }\n\n    .dataframe tbody tr th {\n        vertical-align: top;\n    }\n\n    .dataframe thead th {\n        text-align: right;\n    }\n</style>\n<table border=\"1\" class=\"dataframe\">\n  <thead>\n    <tr style=\"text-align: right;\">\n      <th></th>\n      <th>a</th>\n      <th>b</th>\n      <th>c</th>\n      <th>d</th>\n    </tr>\n  </thead>\n  <tbody>\n    <tr>\n      <th>0</th>\n      <td>0</td>\n      <td>1</td>\n      <td>2</td>\n      <td>3</td>\n    </tr>\n    <tr>\n      <th>1</th>\n      <td>4</td>\n      <td>5</td>\n      <td>6</td>\n      <td>7</td>\n    </tr>\n    <tr>\n      <th>2</th>\n      <td>8</td>\n      <td>9</td>\n      <td>10</td>\n      <td>11</td>\n    </tr>\n    <tr>\n      <th>3</th>\n      <td>12</td>\n      <td>13</td>\n      <td>14</td>\n      <td>15</td>\n    </tr>\n  </tbody>\n</table>\n</div>"
                    },
                    "execution_count": 40
                }
            ],
            "metadata": {}
        },
        {
            "source": "# To write to a new excel file\n# Usage: df.to_excel('some excel file.xlsx', sheet_name = 'some new sheet')\n\ndf.to_excel('Excel_Sample2.xlsx', sheet_name ='NewSheet')",
            "cell_type": "code",
            "execution_count": 41,
            "outputs": [],
            "metadata": {}
        },
        {
            "source": "# Read in the newly created excel file,\n# from NewSheet\n\npd.read_excel('Excel_Sample2.xlsx', sheet_name='NewSheet')",
            "cell_type": "code",
            "execution_count": 42,
            "outputs": [
                {
                    "output_type": "execute_result",
                    "metadata": {},
                    "data": {
                        "text/plain": "    a   b   c   d\n0   0   1   2   3\n1   4   5   6   7\n2   8   9  10  11\n3  12  13  14  15",
                        "text/html": "<div>\n<style scoped>\n    .dataframe tbody tr th:only-of-type {\n        vertical-align: middle;\n    }\n\n    .dataframe tbody tr th {\n        vertical-align: top;\n    }\n\n    .dataframe thead th {\n        text-align: right;\n    }\n</style>\n<table border=\"1\" class=\"dataframe\">\n  <thead>\n    <tr style=\"text-align: right;\">\n      <th></th>\n      <th>a</th>\n      <th>b</th>\n      <th>c</th>\n      <th>d</th>\n    </tr>\n  </thead>\n  <tbody>\n    <tr>\n      <th>0</th>\n      <td>0</td>\n      <td>1</td>\n      <td>2</td>\n      <td>3</td>\n    </tr>\n    <tr>\n      <th>1</th>\n      <td>4</td>\n      <td>5</td>\n      <td>6</td>\n      <td>7</td>\n    </tr>\n    <tr>\n      <th>2</th>\n      <td>8</td>\n      <td>9</td>\n      <td>10</td>\n      <td>11</td>\n    </tr>\n    <tr>\n      <th>3</th>\n      <td>12</td>\n      <td>13</td>\n      <td>14</td>\n      <td>15</td>\n    </tr>\n  </tbody>\n</table>\n</div>"
                    },
                    "execution_count": 42
                }
            ],
            "metadata": {}
        },
        {
            "source": "<h3>Working with HTML Files</h3>",
            "cell_type": "markdown",
            "metadata": {}
        },
        {
            "source": "# To read in a .HTML file (web scrape)\n# Usage: pd.read_html('https://some_web_site.html')\n\ndata = pd.read_html('https://www.fdic.gov/bank/individual/failed/banklist.html')",
            "cell_type": "code",
            "execution_count": 47,
            "outputs": [],
            "metadata": {}
        },
        {
            "source": "type(data)",
            "cell_type": "code",
            "execution_count": 48,
            "outputs": [
                {
                    "output_type": "execute_result",
                    "metadata": {},
                    "data": {
                        "text/plain": "list"
                    },
                    "execution_count": 48
                }
            ],
            "metadata": {}
        },
        {
            "source": "data[0].shape     # 556 rows, and 7 columns",
            "cell_type": "code",
            "execution_count": 59,
            "outputs": [
                {
                    "output_type": "execute_result",
                    "metadata": {},
                    "data": {
                        "text/plain": "(556, 7)"
                    },
                    "execution_count": 59
                }
            ],
            "metadata": {}
        },
        {
            "source": "data[0].head()",
            "cell_type": "code",
            "execution_count": 53,
            "outputs": [
                {
                    "output_type": "execute_result",
                    "metadata": {},
                    "data": {
                        "text/plain": "                                           Bank Name        City  ST   CERT  \\\n0                               The Enloe State Bank      Cooper  TX  10716   \n1                Washington Federal Bank for Savings     Chicago  IL  30570   \n2    The Farmers and Merchants State Bank of Argonia     Argonia  KS  17719   \n3                                Fayette County Bank  Saint Elmo  IL   1802   \n4  Guaranty Bank, (d/b/a BestBank in Georgia & Mi...   Milwaukee  WI  30003   \n\n                 Acquiring Institution       Closing Date       Updated Date  \n0                   Legend Bank, N. A.       May 31, 2019       June 5, 2019  \n1                   Royal Savings Bank  December 15, 2017   February 1, 2019  \n2                          Conway Bank   October 13, 2017  February 21, 2018  \n3            United Fidelity Bank, fsb       May 26, 2017   January 29, 2019  \n4  First-Citizens Bank & Trust Company        May 5, 2017     March 22, 2018  ",
                        "text/html": "<div>\n<style scoped>\n    .dataframe tbody tr th:only-of-type {\n        vertical-align: middle;\n    }\n\n    .dataframe tbody tr th {\n        vertical-align: top;\n    }\n\n    .dataframe thead th {\n        text-align: right;\n    }\n</style>\n<table border=\"1\" class=\"dataframe\">\n  <thead>\n    <tr style=\"text-align: right;\">\n      <th></th>\n      <th>Bank Name</th>\n      <th>City</th>\n      <th>ST</th>\n      <th>CERT</th>\n      <th>Acquiring Institution</th>\n      <th>Closing Date</th>\n      <th>Updated Date</th>\n    </tr>\n  </thead>\n  <tbody>\n    <tr>\n      <th>0</th>\n      <td>The Enloe State Bank</td>\n      <td>Cooper</td>\n      <td>TX</td>\n      <td>10716</td>\n      <td>Legend Bank, N. A.</td>\n      <td>May 31, 2019</td>\n      <td>June 5, 2019</td>\n    </tr>\n    <tr>\n      <th>1</th>\n      <td>Washington Federal Bank for Savings</td>\n      <td>Chicago</td>\n      <td>IL</td>\n      <td>30570</td>\n      <td>Royal Savings Bank</td>\n      <td>December 15, 2017</td>\n      <td>February 1, 2019</td>\n    </tr>\n    <tr>\n      <th>2</th>\n      <td>The Farmers and Merchants State Bank of Argonia</td>\n      <td>Argonia</td>\n      <td>KS</td>\n      <td>17719</td>\n      <td>Conway Bank</td>\n      <td>October 13, 2017</td>\n      <td>February 21, 2018</td>\n    </tr>\n    <tr>\n      <th>3</th>\n      <td>Fayette County Bank</td>\n      <td>Saint Elmo</td>\n      <td>IL</td>\n      <td>1802</td>\n      <td>United Fidelity Bank, fsb</td>\n      <td>May 26, 2017</td>\n      <td>January 29, 2019</td>\n    </tr>\n    <tr>\n      <th>4</th>\n      <td>Guaranty Bank, (d/b/a BestBank in Georgia &amp; Mi...</td>\n      <td>Milwaukee</td>\n      <td>WI</td>\n      <td>30003</td>\n      <td>First-Citizens Bank &amp; Trust Company</td>\n      <td>May 5, 2017</td>\n      <td>March 22, 2018</td>\n    </tr>\n  </tbody>\n</table>\n</div>"
                    },
                    "execution_count": 53
                }
            ],
            "metadata": {}
        },
        {
            "source": "<h3>Working with SQL</h3>",
            "cell_type": "markdown",
            "metadata": {}
        },
        {
            "source": "# Build a simple SQL engine in memory\n\nfrom sqlalchemy import create_engine",
            "cell_type": "code",
            "execution_count": 61,
            "outputs": [],
            "metadata": {}
        },
        {
            "source": "engine = create_engine('sqlite:///:memory:')",
            "cell_type": "code",
            "execution_count": 62,
            "outputs": [],
            "metadata": {}
        },
        {
            "source": "df ",
            "cell_type": "code",
            "execution_count": 63,
            "outputs": [
                {
                    "output_type": "execute_result",
                    "metadata": {},
                    "data": {
                        "text/plain": "    a   b   c   d\n0   0   1   2   3\n1   4   5   6   7\n2   8   9  10  11\n3  12  13  14  15",
                        "text/html": "<div>\n<style scoped>\n    .dataframe tbody tr th:only-of-type {\n        vertical-align: middle;\n    }\n\n    .dataframe tbody tr th {\n        vertical-align: top;\n    }\n\n    .dataframe thead th {\n        text-align: right;\n    }\n</style>\n<table border=\"1\" class=\"dataframe\">\n  <thead>\n    <tr style=\"text-align: right;\">\n      <th></th>\n      <th>a</th>\n      <th>b</th>\n      <th>c</th>\n      <th>d</th>\n    </tr>\n  </thead>\n  <tbody>\n    <tr>\n      <th>0</th>\n      <td>0</td>\n      <td>1</td>\n      <td>2</td>\n      <td>3</td>\n    </tr>\n    <tr>\n      <th>1</th>\n      <td>4</td>\n      <td>5</td>\n      <td>6</td>\n      <td>7</td>\n    </tr>\n    <tr>\n      <th>2</th>\n      <td>8</td>\n      <td>9</td>\n      <td>10</td>\n      <td>11</td>\n    </tr>\n    <tr>\n      <th>3</th>\n      <td>12</td>\n      <td>13</td>\n      <td>14</td>\n      <td>15</td>\n    </tr>\n  </tbody>\n</table>\n</div>"
                    },
                    "execution_count": 63
                }
            ],
            "metadata": {}
        },
        {
            "source": "# To write DataFrame into a db/sql table\n# Usage: df.to_sql('Name of DB table', 'connection to  sql engine')\n\ndf.to_sql('my_table',engine)",
            "cell_type": "code",
            "execution_count": 64,
            "outputs": [],
            "metadata": {}
        },
        {
            "source": "sqldf = pd.read_sql('my_table',con=engine)  # Read the new SQL table\n                                            # Usage: pd.read_sql('some new sql table', con = 'some connection to sql engine')",
            "cell_type": "code",
            "execution_count": 65,
            "outputs": [],
            "metadata": {}
        },
        {
            "source": "sqldf",
            "cell_type": "code",
            "execution_count": 66,
            "outputs": [
                {
                    "output_type": "execute_result",
                    "metadata": {},
                    "data": {
                        "text/plain": "   index   a   b   c   d\n0      0   0   1   2   3\n1      1   4   5   6   7\n2      2   8   9  10  11\n3      3  12  13  14  15",
                        "text/html": "<div>\n<style scoped>\n    .dataframe tbody tr th:only-of-type {\n        vertical-align: middle;\n    }\n\n    .dataframe tbody tr th {\n        vertical-align: top;\n    }\n\n    .dataframe thead th {\n        text-align: right;\n    }\n</style>\n<table border=\"1\" class=\"dataframe\">\n  <thead>\n    <tr style=\"text-align: right;\">\n      <th></th>\n      <th>index</th>\n      <th>a</th>\n      <th>b</th>\n      <th>c</th>\n      <th>d</th>\n    </tr>\n  </thead>\n  <tbody>\n    <tr>\n      <th>0</th>\n      <td>0</td>\n      <td>0</td>\n      <td>1</td>\n      <td>2</td>\n      <td>3</td>\n    </tr>\n    <tr>\n      <th>1</th>\n      <td>1</td>\n      <td>4</td>\n      <td>5</td>\n      <td>6</td>\n      <td>7</td>\n    </tr>\n    <tr>\n      <th>2</th>\n      <td>2</td>\n      <td>8</td>\n      <td>9</td>\n      <td>10</td>\n      <td>11</td>\n    </tr>\n    <tr>\n      <th>3</th>\n      <td>3</td>\n      <td>12</td>\n      <td>13</td>\n      <td>14</td>\n      <td>15</td>\n    </tr>\n  </tbody>\n</table>\n</div>"
                    },
                    "execution_count": 66
                }
            ],
            "metadata": {}
        }
    ],
    "nbformat": 4,
    "metadata": {
        "kernelspec": {
            "display_name": "Python 3.5",
            "name": "python3",
            "language": "python"
        },
        "language_info": {
            "mimetype": "text/x-python",
            "nbconvert_exporter": "python",
            "version": "3.5.5",
            "name": "python",
            "pygments_lexer": "ipython3",
            "file_extension": ".py",
            "codemirror_mode": {
                "version": 3,
                "name": "ipython"
            }
        }
    }
}