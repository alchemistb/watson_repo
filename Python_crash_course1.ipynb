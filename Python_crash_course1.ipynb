{
    "nbformat_minor": 1,
    "cells": [
        {
            "source": "<H1>Python Refresher</h1>",
            "cell_type": "markdown",
            "metadata": {}
        },
        {
            "source": "1+1",
            "cell_type": "code",
            "execution_count": 2,
            "outputs": [
                {
                    "output_type": "execute_result",
                    "metadata": {},
                    "data": {
                        "text/plain": "2"
                    },
                    "execution_count": 2
                }
            ],
            "metadata": {}
        },
        {
            "source": "1.0",
            "cell_type": "code",
            "execution_count": 3,
            "outputs": [
                {
                    "output_type": "execute_result",
                    "metadata": {},
                    "data": {
                        "text/plain": "1.0"
                    },
                    "execution_count": 3
                }
            ],
            "metadata": {}
        },
        {
            "source": "1*3",
            "cell_type": "code",
            "execution_count": 4,
            "outputs": [
                {
                    "output_type": "execute_result",
                    "metadata": {},
                    "data": {
                        "text/plain": "3"
                    },
                    "execution_count": 4
                }
            ],
            "metadata": {}
        },
        {
            "source": "1/2",
            "cell_type": "code",
            "execution_count": 5,
            "outputs": [
                {
                    "output_type": "execute_result",
                    "metadata": {},
                    "data": {
                        "text/plain": "0.5"
                    },
                    "execution_count": 5
                }
            ],
            "metadata": {}
        },
        {
            "source": "2 ** 4 #2 to the power of 4",
            "cell_type": "code",
            "execution_count": 6,
            "outputs": [
                {
                    "output_type": "execute_result",
                    "metadata": {},
                    "data": {
                        "text/plain": "16"
                    },
                    "execution_count": 6
                }
            ],
            "metadata": {}
        },
        {
            "source": "2 + 3 * 5 + 5",
            "cell_type": "code",
            "execution_count": 7,
            "outputs": [
                {
                    "output_type": "execute_result",
                    "metadata": {},
                    "data": {
                        "text/plain": "22"
                    },
                    "execution_count": 7
                }
            ],
            "metadata": {}
        },
        {
            "source": "(2+3)* (5+5)",
            "cell_type": "code",
            "execution_count": 8,
            "outputs": [
                {
                    "output_type": "execute_result",
                    "metadata": {},
                    "data": {
                        "text/plain": "50"
                    },
                    "execution_count": 8
                }
            ],
            "metadata": {}
        },
        {
            "source": "4 % 2 # remainder",
            "cell_type": "code",
            "execution_count": 9,
            "outputs": [
                {
                    "output_type": "execute_result",
                    "metadata": {},
                    "data": {
                        "text/plain": "0"
                    },
                    "execution_count": 9
                }
            ],
            "metadata": {}
        },
        {
            "source": "5%2",
            "cell_type": "code",
            "execution_count": 10,
            "outputs": [
                {
                    "output_type": "execute_result",
                    "metadata": {},
                    "data": {
                        "text/plain": "1"
                    },
                    "execution_count": 10
                }
            ],
            "metadata": {}
        },
        {
            "source": "<h2> variable assigntments</h2>",
            "cell_type": "markdown",
            "metadata": {}
        },
        {
            "source": "var = 2",
            "cell_type": "code",
            "execution_count": 11,
            "outputs": [],
            "metadata": {}
        },
        {
            "source": "var",
            "cell_type": "code",
            "execution_count": 12,
            "outputs": [
                {
                    "output_type": "execute_result",
                    "metadata": {},
                    "data": {
                        "text/plain": "2"
                    },
                    "execution_count": 12
                }
            ],
            "metadata": {}
        },
        {
            "source": "x = 2\ny = 3\nx + y",
            "cell_type": "code",
            "execution_count": 16,
            "outputs": [
                {
                    "output_type": "execute_result",
                    "metadata": {},
                    "data": {
                        "text/plain": "5"
                    },
                    "execution_count": 16
                }
            ],
            "metadata": {}
        },
        {
            "source": "x = x + x",
            "cell_type": "code",
            "execution_count": 17,
            "outputs": [],
            "metadata": {}
        },
        {
            "source": "x",
            "cell_type": "code",
            "execution_count": 18,
            "outputs": [
                {
                    "output_type": "execute_result",
                    "metadata": {},
                    "data": {
                        "text/plain": "4"
                    },
                    "execution_count": 18
                }
            ],
            "metadata": {}
        },
        {
            "source": "<h2>Strings</h2>",
            "cell_type": "markdown",
            "metadata": {}
        },
        {
            "source": "'Single quote'",
            "cell_type": "code",
            "execution_count": 19,
            "outputs": [
                {
                    "output_type": "execute_result",
                    "metadata": {},
                    "data": {
                        "text/plain": "'Single quote'"
                    },
                    "execution_count": 19
                }
            ],
            "metadata": {}
        },
        {
            "source": "\"This is a string\"",
            "cell_type": "code",
            "execution_count": 20,
            "outputs": [
                {
                    "output_type": "execute_result",
                    "metadata": {},
                    "data": {
                        "text/plain": "'This is a string'"
                    },
                    "execution_count": 20
                }
            ],
            "metadata": {}
        },
        {
            "source": "\"I can't go\"",
            "cell_type": "code",
            "execution_count": 21,
            "outputs": [
                {
                    "output_type": "execute_result",
                    "metadata": {},
                    "data": {
                        "text/plain": "\"I can't go\""
                    },
                    "execution_count": 21
                }
            ],
            "metadata": {}
        },
        {
            "source": "x = 'hello'",
            "cell_type": "code",
            "execution_count": 22,
            "outputs": [],
            "metadata": {}
        },
        {
            "source": "x",
            "cell_type": "code",
            "execution_count": 23,
            "outputs": [
                {
                    "output_type": "execute_result",
                    "metadata": {},
                    "data": {
                        "text/plain": "'hello'"
                    },
                    "execution_count": 23
                }
            ],
            "metadata": {}
        },
        {
            "source": "print(x)",
            "cell_type": "code",
            "execution_count": 24,
            "outputs": [
                {
                    "output_type": "stream",
                    "name": "stdout",
                    "text": "hello\n"
                }
            ],
            "metadata": {}
        },
        {
            "source": "num = 12\nname = 'Sam'",
            "cell_type": "code",
            "execution_count": 25,
            "outputs": [],
            "metadata": {}
        },
        {
            "source": "'My Number is {} and my name is {}'.format(num,name) # Using {} and format",
            "cell_type": "code",
            "execution_count": 28,
            "outputs": [
                {
                    "output_type": "execute_result",
                    "metadata": {},
                    "data": {
                        "text/plain": "'My Number is 12 and my name is Sam'"
                    },
                    "execution_count": 28
                }
            ],
            "metadata": {}
        },
        {
            "source": "print('My Number is {} and my name is {}'.format(num,name))",
            "cell_type": "code",
            "execution_count": 27,
            "outputs": [
                {
                    "output_type": "stream",
                    "name": "stdout",
                    "text": "My Number is 12 and my name is Sam\n"
                }
            ],
            "metadata": {}
        },
        {
            "source": "print('My Number is {one} and my name is {two}'.format(one=num,two=name)) # Passing variables in {} and assigning variables format",
            "cell_type": "code",
            "execution_count": 29,
            "outputs": [
                {
                    "output_type": "stream",
                    "name": "stdout",
                    "text": "My Number is 12 and my name is Sam\n"
                }
            ],
            "metadata": {}
        },
        {
            "source": "print('My Number is {one} and my name is {two}, more {one}'.format(one=num,two=name))",
            "cell_type": "code",
            "execution_count": 30,
            "outputs": [
                {
                    "output_type": "stream",
                    "name": "stdout",
                    "text": "My Number is 12 and my name is Sam, more 12\n"
                }
            ],
            "metadata": {}
        },
        {
            "source": "<h3>String Index</h3>",
            "cell_type": "markdown",
            "metadata": {}
        },
        {
            "source": "s = 'elephant'",
            "cell_type": "code",
            "execution_count": 42,
            "outputs": [],
            "metadata": {}
        },
        {
            "source": "s[0]",
            "cell_type": "code",
            "execution_count": 43,
            "outputs": [
                {
                    "output_type": "execute_result",
                    "metadata": {},
                    "data": {
                        "text/plain": "'e'"
                    },
                    "execution_count": 43
                }
            ],
            "metadata": {}
        },
        {
            "source": "s[4]",
            "cell_type": "code",
            "execution_count": 44,
            "outputs": [
                {
                    "output_type": "execute_result",
                    "metadata": {},
                    "data": {
                        "text/plain": "'h'"
                    },
                    "execution_count": 44
                }
            ],
            "metadata": {}
        },
        {
            "source": "<h3>Index Slicing</h3>",
            "cell_type": "markdown",
            "metadata": {}
        },
        {
            "source": "s[:2] # Get the first two values only",
            "cell_type": "code",
            "execution_count": 45,
            "outputs": [
                {
                    "output_type": "execute_result",
                    "metadata": {},
                    "data": {
                        "text/plain": "'el'"
                    },
                    "execution_count": 45
                }
            ],
            "metadata": {}
        },
        {
            "source": "s[2:] # Skip the first two values, and get all others",
            "cell_type": "code",
            "execution_count": 46,
            "outputs": [
                {
                    "output_type": "execute_result",
                    "metadata": {},
                    "data": {
                        "text/plain": "'ephant'"
                    },
                    "execution_count": 46
                }
            ],
            "metadata": {}
        },
        {
            "source": "s[-1] # Get only the very last value ",
            "cell_type": "code",
            "execution_count": 47,
            "outputs": [
                {
                    "output_type": "execute_result",
                    "metadata": {},
                    "data": {
                        "text/plain": "'t'"
                    },
                    "execution_count": 47
                }
            ],
            "metadata": {}
        },
        {
            "source": "s[0] # Get the first value",
            "cell_type": "code",
            "execution_count": 48,
            "outputs": [
                {
                    "output_type": "execute_result",
                    "metadata": {},
                    "data": {
                        "text/plain": "'e'"
                    },
                    "execution_count": 48
                }
            ],
            "metadata": {}
        },
        {
            "source": "s[0:3] # Get the first three values only",
            "cell_type": "code",
            "execution_count": 49,
            "outputs": [
                {
                    "output_type": "execute_result",
                    "metadata": {},
                    "data": {
                        "text/plain": "'ele'"
                    },
                    "execution_count": 49
                }
            ],
            "metadata": {}
        },
        {
            "source": "s[0:2] # Get the first two values only",
            "cell_type": "code",
            "execution_count": 50,
            "outputs": [
                {
                    "output_type": "execute_result",
                    "metadata": {},
                    "data": {
                        "text/plain": "'el'"
                    },
                    "execution_count": 50
                }
            ],
            "metadata": {}
        },
        {
            "source": "s[0: -1] # Get all but the last value only",
            "cell_type": "code",
            "execution_count": 51,
            "outputs": [
                {
                    "output_type": "execute_result",
                    "metadata": {},
                    "data": {
                        "text/plain": "'elephan'"
                    },
                    "execution_count": 51
                }
            ],
            "metadata": {}
        },
        {
            "source": "<h3>List</h3>",
            "cell_type": "markdown",
            "metadata": {}
        },
        {
            "source": "# List are mutable = Can change the values inside of them",
            "cell_type": "code",
            "execution_count": null,
            "outputs": [],
            "metadata": {}
        },
        {
            "source": "['a', 'b','c']",
            "cell_type": "code",
            "execution_count": 52,
            "outputs": [
                {
                    "output_type": "execute_result",
                    "metadata": {},
                    "data": {
                        "text/plain": "['a', 'b', 'c']"
                    },
                    "execution_count": 52
                }
            ],
            "metadata": {}
        },
        {
            "source": "my_list = ['a', 'b','c']",
            "cell_type": "code",
            "execution_count": 53,
            "outputs": [],
            "metadata": {}
        },
        {
            "source": "my_list",
            "cell_type": "code",
            "execution_count": 54,
            "outputs": [
                {
                    "output_type": "execute_result",
                    "metadata": {},
                    "data": {
                        "text/plain": "['a', 'b', 'c']"
                    },
                    "execution_count": 54
                }
            ],
            "metadata": {}
        },
        {
            "source": "my_list.append('d') # append to list",
            "cell_type": "code",
            "execution_count": 55,
            "outputs": [],
            "metadata": {}
        },
        {
            "source": "my_list",
            "cell_type": "code",
            "execution_count": 56,
            "outputs": [
                {
                    "output_type": "execute_result",
                    "metadata": {},
                    "data": {
                        "text/plain": "['a', 'b', 'c', 'd']"
                    },
                    "execution_count": 56
                }
            ],
            "metadata": {}
        },
        {
            "source": "my_list[0]",
            "cell_type": "code",
            "execution_count": 57,
            "outputs": [
                {
                    "output_type": "execute_result",
                    "metadata": {},
                    "data": {
                        "text/plain": "'a'"
                    },
                    "execution_count": 57
                }
            ],
            "metadata": {}
        },
        {
            "source": "my_list[3]",
            "cell_type": "code",
            "execution_count": 60,
            "outputs": [
                {
                    "output_type": "execute_result",
                    "metadata": {},
                    "data": {
                        "text/plain": "'d'"
                    },
                    "execution_count": 60
                }
            ],
            "metadata": {}
        },
        {
            "source": "my_list[1:3]",
            "cell_type": "code",
            "execution_count": 61,
            "outputs": [
                {
                    "output_type": "execute_result",
                    "metadata": {},
                    "data": {
                        "text/plain": "['b', 'c']"
                    },
                    "execution_count": 61
                }
            ],
            "metadata": {}
        },
        {
            "source": "my_list[0] = 'NEW' # (replace)Assign new variable to an index",
            "cell_type": "code",
            "execution_count": 62,
            "outputs": [],
            "metadata": {}
        },
        {
            "source": "my_list",
            "cell_type": "code",
            "execution_count": 63,
            "outputs": [
                {
                    "output_type": "execute_result",
                    "metadata": {},
                    "data": {
                        "text/plain": "['NEW', 'b', 'c', 'd']"
                    },
                    "execution_count": 63
                }
            ],
            "metadata": {}
        },
        {
            "source": "nest = [[1,2],[3,4]] # Nested Lists",
            "cell_type": "code",
            "execution_count": 73,
            "outputs": [],
            "metadata": {}
        },
        {
            "source": "nest",
            "cell_type": "code",
            "execution_count": 74,
            "outputs": [
                {
                    "output_type": "execute_result",
                    "metadata": {},
                    "data": {
                        "text/plain": "[[1, 2], [3, 4]]"
                    },
                    "execution_count": 74
                }
            ],
            "metadata": {}
        },
        {
            "source": "nest[0][1] # Accessing first array, then second index value",
            "cell_type": "code",
            "execution_count": 75,
            "outputs": [
                {
                    "output_type": "execute_result",
                    "metadata": {},
                    "data": {
                        "text/plain": "2"
                    },
                    "execution_count": 75
                }
            ],
            "metadata": {}
        },
        {
            "source": "nest[1][1] # Accessing second array, then second index value",
            "cell_type": "code",
            "execution_count": 76,
            "outputs": [
                {
                    "output_type": "execute_result",
                    "metadata": {},
                    "data": {
                        "text/plain": "4"
                    },
                    "execution_count": 76
                }
            ],
            "metadata": {}
        },
        {
            "source": "nest[0][0] # Accessing first array, then first index value",
            "cell_type": "code",
            "execution_count": 79,
            "outputs": [
                {
                    "output_type": "execute_result",
                    "metadata": {},
                    "data": {
                        "text/plain": "1"
                    },
                    "execution_count": 79
                }
            ],
            "metadata": {}
        },
        {
            "source": "nest[1][0] #Accessing second array, then first index value",
            "cell_type": "code",
            "execution_count": 80,
            "outputs": [
                {
                    "output_type": "execute_result",
                    "metadata": {},
                    "data": {
                        "text/plain": "3"
                    },
                    "execution_count": 80
                }
            ],
            "metadata": {}
        },
        {
            "source": "nest2 = [1,2,3,[4,5,['target']]]",
            "cell_type": "code",
            "execution_count": 82,
            "outputs": [],
            "metadata": {}
        },
        {
            "source": "nest2",
            "cell_type": "code",
            "execution_count": 83,
            "outputs": [
                {
                    "output_type": "execute_result",
                    "metadata": {},
                    "data": {
                        "text/plain": "[1, 2, 3, [4, 5, ['target']]]"
                    },
                    "execution_count": 83
                }
            ],
            "metadata": {}
        },
        {
            "source": "nest2[3]  # Get the 4th element (0,1,2,3)",
            "cell_type": "code",
            "execution_count": 84,
            "outputs": [
                {
                    "output_type": "execute_result",
                    "metadata": {},
                    "data": {
                        "text/plain": "[4, 5, ['target']]"
                    },
                    "execution_count": 84
                }
            ],
            "metadata": {}
        },
        {
            "source": "nest2[3][2] # Get the 3rd element in the list, which is 'target', at the 2nd index",
            "cell_type": "code",
            "execution_count": 90,
            "outputs": [
                {
                    "output_type": "execute_result",
                    "metadata": {},
                    "data": {
                        "text/plain": "['target']"
                    },
                    "execution_count": 90
                }
            ],
            "metadata": {}
        },
        {
            "source": "nest2[3][2][0] # Get the first index value in the list, which is the string 'target', at the 0 index",
            "cell_type": "code",
            "execution_count": 92,
            "outputs": [
                {
                    "output_type": "execute_result",
                    "metadata": {},
                    "data": {
                        "text/plain": "'target'"
                    },
                    "execution_count": 92
                }
            ],
            "metadata": {}
        },
        {
            "source": "print(nest2[3][2][0])",
            "cell_type": "code",
            "execution_count": 93,
            "outputs": [
                {
                    "output_type": "stream",
                    "name": "stdout",
                    "text": "target\n"
                }
            ],
            "metadata": {}
        },
        {
            "source": "",
            "cell_type": "code",
            "execution_count": null,
            "outputs": [],
            "metadata": {}
        },
        {
            "source": "",
            "cell_type": "code",
            "execution_count": null,
            "outputs": [],
            "metadata": {}
        },
        {
            "source": "",
            "cell_type": "code",
            "execution_count": null,
            "outputs": [],
            "metadata": {}
        }
    ],
    "nbformat": 4,
    "metadata": {
        "kernelspec": {
            "display_name": "Python 3.5",
            "name": "python3",
            "language": "python"
        },
        "language_info": {
            "mimetype": "text/x-python",
            "nbconvert_exporter": "python",
            "version": "3.5.5",
            "name": "python",
            "file_extension": ".py",
            "pygments_lexer": "ipython3",
            "codemirror_mode": {
                "version": 3,
                "name": "ipython"
            }
        }
    }
}