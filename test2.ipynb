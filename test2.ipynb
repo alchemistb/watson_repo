{
    "nbformat_minor": 1,
    "cells": [
        {
            "source": "print('hello!')",
            "cell_type": "code",
            "execution_count": 1,
            "outputs": [
                {
                    "output_type": "stream",
                    "name": "stdout",
                    "text": "hello!\n"
                }
            ],
            "metadata": {}
        },
        {
            "source": "24*7*60*60",
            "cell_type": "code",
            "execution_count": 2,
            "outputs": [
                {
                    "output_type": "execute_result",
                    "metadata": {},
                    "data": {
                        "text/plain": "604800"
                    },
                    "execution_count": 2
                }
            ],
            "metadata": {}
        },
        {
            "source": "https://dataplatform.cloud.ibm.com/data/jupyter2/runtimeenv2/v1/wdpx/service/notebook/conda2x49e3687b9d8694c3f84546141c09b8cae/dsxjpy/uUSEsdVXuMuGbQ8QN_uJbQ:7pUnhp9LK6eI8tS5LfgvNZCg2THZ6VkOoRCp-u2vxm-2Chg9uiScwlyyqunrm9N5j9ffn-Q/container/notebooks/ef20b90e-b1c6-4dbb-b376-a647471f81e3?project=9e3687b9-d869-4c3f-8454-6141c09b8cae&api=v2&env=a#This-is-heading-1_/1e6",
            "cell_type": "code",
            "execution_count": 3,
            "outputs": [
                {
                    "output_type": "execute_result",
                    "metadata": {},
                    "data": {
                        "text/plain": "0.6048"
                    },
                    "execution_count": 3
                }
            ],
            "metadata": {}
        },
        {
            "source": "_ #show last value",
            "cell_type": "code",
            "execution_count": 4,
            "outputs": [
                {
                    "output_type": "execute_result",
                    "metadata": {},
                    "data": {
                        "text/plain": "0.6048"
                    },
                    "execution_count": 4
                }
            ],
            "metadata": {}
        },
        {
            "source": "## This is heading 1\n### This is heading 2\n### This is heading 3",
            "cell_type": "markdown",
            "metadata": {}
        },
        {
            "source": "",
            "cell_type": "code",
            "execution_count": null,
            "outputs": [],
            "metadata": {}
        }
    ],
    "nbformat": 4,
    "metadata": {
        "kernelspec": {
            "display_name": "Python 3.5",
            "name": "python3",
            "language": "python"
        },
        "language_info": {
            "mimetype": "text/x-python",
            "nbconvert_exporter": "python",
            "version": "3.5.5",
            "name": "python",
            "file_extension": ".py",
            "pygments_lexer": "ipython3",
            "codemirror_mode": {
                "version": 3,
                "name": "ipython"
            }
        }
    }
}