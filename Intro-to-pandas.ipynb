{
    "nbformat_minor": 1,
    "cells": [
        {
            "source": "<h1> Python for Data Analysis - Pandas - Introduction</h1>",
            "cell_type": "markdown",
            "metadata": {
                "collapsed": true
            }
        },
        {
            "source": "!pip install pandas",
            "cell_type": "code",
            "execution_count": 1,
            "outputs": [
                {
                    "output_type": "stream",
                    "name": "stdout",
                    "text": "Requirement already satisfied: pandas in /opt/conda/envs/DSX-Python35/lib/python3.5/site-packages (0.21.0)\nRequirement already satisfied: python-dateutil>=2 in /opt/conda/envs/DSX-Python35/lib/python3.5/site-packages (from pandas) (2.6.1)\nRequirement already satisfied: pytz>=2011k in /opt/conda/envs/DSX-Python35/lib/python3.5/site-packages (from pandas) (2018.3)\nRequirement already satisfied: numpy>=1.9.0 in /opt/conda/envs/DSX-Python35/lib/python3.5/site-packages (from pandas) (1.13.3)\nRequirement already satisfied: six>=1.5 in /opt/conda/envs/DSX-Python35/lib/python3.5/site-packages (from python-dateutil>=2->pandas) (1.11.0)\n\u001b[31mtensorflow 1.3.0 requires tensorflow-tensorboard<0.2.0,>=0.1.0, which is not installed.\u001b[0m\n"
                }
            ],
            "metadata": {}
        },
        {
            "source": "import numpy as np\nimport pandas as pd",
            "cell_type": "code",
            "execution_count": 2,
            "outputs": [],
            "metadata": {}
        },
        {
            "source": "<h2> Pandas Series</h2>",
            "cell_type": "markdown",
            "metadata": {}
        },
        {
            "source": "<h3> A Panda Series can hold just about any data type; arrays, strings, numbers, dictionaries, lists, data functions etc.</h3>",
            "cell_type": "markdown",
            "metadata": {}
        },
        {
            "source": "labels = ['a','b','c']\nmy_data = [10,20,30]\narr = np.array(my_data)\nd = {'a':10,'b':20,'c':30}",
            "cell_type": "code",
            "execution_count": 4,
            "outputs": [],
            "metadata": {}
        },
        {
            "source": "arr",
            "cell_type": "code",
            "execution_count": 5,
            "outputs": [
                {
                    "output_type": "execute_result",
                    "metadata": {},
                    "data": {
                        "text/plain": "array([10, 20, 30])"
                    },
                    "execution_count": 5
                }
            ],
            "metadata": {}
        },
        {
            "source": "d",
            "cell_type": "code",
            "execution_count": 6,
            "outputs": [
                {
                    "output_type": "execute_result",
                    "metadata": {},
                    "data": {
                        "text/plain": "{'a': 10, 'b': 20, 'c': 30}"
                    },
                    "execution_count": 6
                }
            ],
            "metadata": {}
        },
        {
            "source": "pd.Series(data = my_data)                   # Create a Series with data = my_data\n                                            # No index was specified in the Series",
            "cell_type": "code",
            "execution_count": 9,
            "outputs": [
                {
                    "output_type": "execute_result",
                    "metadata": {},
                    "data": {
                        "text/plain": "0    10\n1    20\n2    30\ndtype: int64"
                    },
                    "execution_count": 9
                }
            ],
            "metadata": {}
        },
        {
            "source": "pd.Series(data = my_data, index = labels)   # Creating a Series with list data = my_data\n                                            # Specifying index as 'labels' ",
            "cell_type": "code",
            "execution_count": 10,
            "outputs": [
                {
                    "output_type": "execute_result",
                    "metadata": {},
                    "data": {
                        "text/plain": "a    10\nb    20\nc    30\ndtype: int64"
                    },
                    "execution_count": 10
                }
            ],
            "metadata": {}
        },
        {
            "source": "pd.Series(my_data,labels)                   # Creating the Series with my_data and labels",
            "cell_type": "code",
            "execution_count": 11,
            "outputs": [
                {
                    "output_type": "execute_result",
                    "metadata": {},
                    "data": {
                        "text/plain": "a    10\nb    20\nc    30\ndtype: int64"
                    },
                    "execution_count": 11
                }
            ],
            "metadata": {}
        },
        {
            "source": "pd.Series(arr)                              # Pass in numpy array (arr) into Series",
            "cell_type": "code",
            "execution_count": 12,
            "outputs": [
                {
                    "output_type": "execute_result",
                    "metadata": {},
                    "data": {
                        "text/plain": "0    10\n1    20\n2    30\ndtype: int64"
                    },
                    "execution_count": 12
                }
            ],
            "metadata": {}
        },
        {
            "source": "pd.Series(arr,labels)                      # Pass in numpy array (arr) and labels into Series",
            "cell_type": "code",
            "execution_count": 13,
            "outputs": [
                {
                    "output_type": "execute_result",
                    "metadata": {},
                    "data": {
                        "text/plain": "a    10\nb    20\nc    30\ndtype: int64"
                    },
                    "execution_count": 13
                }
            ],
            "metadata": {}
        },
        {
            "source": "pd.Series(d)                               # Pass dictionary (d) in the Series\n                                           # Note: The output will list keys as indexes and values as data",
            "cell_type": "code",
            "execution_count": 14,
            "outputs": [
                {
                    "output_type": "execute_result",
                    "metadata": {},
                    "data": {
                        "text/plain": "a    10\nb    20\nc    30\ndtype: int64"
                    },
                    "execution_count": 14
                }
            ],
            "metadata": {}
        },
        {
            "source": "d",
            "cell_type": "code",
            "execution_count": 15,
            "outputs": [
                {
                    "output_type": "execute_result",
                    "metadata": {},
                    "data": {
                        "text/plain": "{'a': 10, 'b': 20, 'c': 30}"
                    },
                    "execution_count": 15
                }
            ],
            "metadata": {}
        },
        {
            "source": "pd.Series(data=[sum,print,len])              # Series can hold data functions too\n                                             # Note: Numpy can't do this",
            "cell_type": "code",
            "execution_count": 18,
            "outputs": [
                {
                    "output_type": "execute_result",
                    "metadata": {},
                    "data": {
                        "text/plain": "0      <built-in function sum>\n1    <built-in function print>\n2      <built-in function len>\ndtype: object"
                    },
                    "execution_count": 18
                }
            ],
            "metadata": {}
        },
        {
            "source": "<h2> Grabbing Information from a Pandas Series</h2>",
            "cell_type": "markdown",
            "metadata": {}
        },
        {
            "source": "ser1 = pd.Series([1,2,3,4],['USA', 'Germany', 'USSR', 'Japan'])       # Building a test Series, called ser1 with data [1,2,3,4] and indexes ['USA', 'Germany', 'USSR', 'Japan']",
            "cell_type": "code",
            "execution_count": 24,
            "outputs": [],
            "metadata": {}
        },
        {
            "source": "ser1",
            "cell_type": "code",
            "execution_count": 25,
            "outputs": [
                {
                    "output_type": "execute_result",
                    "metadata": {},
                    "data": {
                        "text/plain": "USA        1\nGermany    2\nUSSR       3\nJapan      4\ndtype: int64"
                    },
                    "execution_count": 25
                }
            ],
            "metadata": {}
        },
        {
            "source": "ser2 = pd.Series([1,2,5,4],['USA','Germany','Italy','Japan'])       # Building a test Series, called ser2 with data [1,2,5,4] and indexes ['USA','Germany','Italy','Japan']",
            "cell_type": "code",
            "execution_count": 26,
            "outputs": [],
            "metadata": {}
        },
        {
            "source": "ser2",
            "cell_type": "code",
            "execution_count": 27,
            "outputs": [
                {
                    "output_type": "execute_result",
                    "metadata": {},
                    "data": {
                        "text/plain": "USA        1\nGermany    2\nItaly      5\nJapan      4\ndtype: int64"
                    },
                    "execution_count": 27
                }
            ],
            "metadata": {}
        },
        {
            "source": "ser1['USA']                                 # Grabbing data by referencing the index.\n                                            # In this case, the index for string 'USA' references value 1",
            "cell_type": "code",
            "execution_count": 28,
            "outputs": [
                {
                    "output_type": "execute_result",
                    "metadata": {},
                    "data": {
                        "text/plain": "1"
                    },
                    "execution_count": 28
                }
            ],
            "metadata": {}
        },
        {
            "source": "ser2['Japan']                               # Grabbing data for index Japan",
            "cell_type": "code",
            "execution_count": 37,
            "outputs": [
                {
                    "output_type": "execute_result",
                    "metadata": {},
                    "data": {
                        "text/plain": "4"
                    },
                    "execution_count": 37
                }
            ],
            "metadata": {}
        },
        {
            "source": "ser3 = pd.Series(labels)",
            "cell_type": "code",
            "execution_count": 46,
            "outputs": [],
            "metadata": {}
        },
        {
            "source": "ser3                                        # Note dtype is object, which refers to the values as strings",
            "cell_type": "code",
            "execution_count": 47,
            "outputs": [
                {
                    "output_type": "execute_result",
                    "metadata": {},
                    "data": {
                        "text/plain": "0    a\n1    b\n2    c\ndtype: object"
                    },
                    "execution_count": 47
                }
            ],
            "metadata": {}
        },
        {
            "source": "ser3[1]",
            "cell_type": "code",
            "execution_count": 32,
            "outputs": [
                {
                    "output_type": "execute_result",
                    "metadata": {},
                    "data": {
                        "text/plain": "'b'"
                    },
                    "execution_count": 32
                }
            ],
            "metadata": {}
        },
        {
            "source": "ser3[2]",
            "cell_type": "code",
            "execution_count": 35,
            "outputs": [
                {
                    "output_type": "execute_result",
                    "metadata": {},
                    "data": {
                        "text/plain": "'c'"
                    },
                    "execution_count": 35
                }
            ],
            "metadata": {}
        },
        {
            "source": "ser3[0]",
            "cell_type": "code",
            "execution_count": 36,
            "outputs": [
                {
                    "output_type": "execute_result",
                    "metadata": {},
                    "data": {
                        "text/plain": "'a'"
                    },
                    "execution_count": 36
                }
            ],
            "metadata": {}
        },
        {
            "source": "<h4> Basic Operations</h4>",
            "cell_type": "markdown",
            "metadata": {}
        },
        {
            "source": "ser1",
            "cell_type": "code",
            "execution_count": 38,
            "outputs": [
                {
                    "output_type": "execute_result",
                    "metadata": {},
                    "data": {
                        "text/plain": "USA        1\nGermany    2\nUSSR       3\nJapan      4\ndtype: int64"
                    },
                    "execution_count": 38
                }
            ],
            "metadata": {}
        },
        {
            "source": "ser2",
            "cell_type": "code",
            "execution_count": 39,
            "outputs": [
                {
                    "output_type": "execute_result",
                    "metadata": {},
                    "data": {
                        "text/plain": "USA        1\nGermany    2\nItaly      5\nJapan      4\ndtype: int64"
                    },
                    "execution_count": 39
                }
            ],
            "metadata": {}
        },
        {
            "source": "ser1 + ser2                     # Adding Series\n                                # If there are matches in both series, a value will be returned\n                                # If there IS NOT a match in both series, then NaN is returned\n                                # For example, Italy and USSR are not in both Series, so Nan is returned for those values",
            "cell_type": "code",
            "execution_count": 41,
            "outputs": [
                {
                    "output_type": "execute_result",
                    "metadata": {},
                    "data": {
                        "text/plain": "Germany    4.0\nItaly      NaN\nJapan      8.0\nUSA        2.0\nUSSR       NaN\ndtype: float64"
                    },
                    "execution_count": 41
                }
            ],
            "metadata": {}
        },
        {
            "source": "",
            "cell_type": "code",
            "execution_count": null,
            "outputs": [],
            "metadata": {}
        }
    ],
    "nbformat": 4,
    "metadata": {
        "kernelspec": {
            "display_name": "Python 3.5",
            "name": "python3",
            "language": "python"
        },
        "language_info": {
            "mimetype": "text/x-python",
            "nbconvert_exporter": "python",
            "version": "3.5.5",
            "name": "python",
            "pygments_lexer": "ipython3",
            "file_extension": ".py",
            "codemirror_mode": {
                "version": 3,
                "name": "ipython"
            }
        }
    }
}