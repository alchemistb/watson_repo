{
    "nbformat_minor": 1,
    "cells": [
        {
            "source": "<h1> Pandas - Missing Data </h1>",
            "cell_type": "markdown",
            "metadata": {
                "collapsed": true
            }
        },
        {
            "source": "<h2> How to handle missing data in Pandas DataFrames</h2>",
            "cell_type": "markdown",
            "metadata": {}
        },
        {
            "source": "import numpy as np\nimport pandas as pd",
            "cell_type": "code",
            "execution_count": 1,
            "outputs": [],
            "metadata": {}
        },
        {
            "source": "d = {'A':[1,2,np.nan],'B':[5,np.nan,np.nan],'C':[1,2,3]}     # Create a dictionary with some key values including NaN",
            "cell_type": "code",
            "execution_count": 2,
            "outputs": [],
            "metadata": {}
        },
        {
            "source": "d",
            "cell_type": "code",
            "execution_count": 3,
            "outputs": [
                {
                    "output_type": "execute_result",
                    "metadata": {},
                    "data": {
                        "text/plain": "{'A': [1, 2, nan], 'B': [5, nan, nan], 'C': [1, 2, 3]}"
                    },
                    "execution_count": 3
                }
            ],
            "metadata": {}
        },
        {
            "source": "df = pd.DataFrame(d)    # Create a df for the dictonary d",
            "cell_type": "code",
            "execution_count": 6,
            "outputs": [],
            "metadata": {}
        },
        {
            "source": "df",
            "cell_type": "code",
            "execution_count": 7,
            "outputs": [
                {
                    "output_type": "execute_result",
                    "metadata": {},
                    "data": {
                        "text/html": "<div>\n<style scoped>\n    .dataframe tbody tr th:only-of-type {\n        vertical-align: middle;\n    }\n\n    .dataframe tbody tr th {\n        vertical-align: top;\n    }\n\n    .dataframe thead th {\n        text-align: right;\n    }\n</style>\n<table border=\"1\" class=\"dataframe\">\n  <thead>\n    <tr style=\"text-align: right;\">\n      <th></th>\n      <th>A</th>\n      <th>B</th>\n      <th>C</th>\n    </tr>\n  </thead>\n  <tbody>\n    <tr>\n      <th>0</th>\n      <td>1.0</td>\n      <td>5.0</td>\n      <td>1</td>\n    </tr>\n    <tr>\n      <th>1</th>\n      <td>2.0</td>\n      <td>NaN</td>\n      <td>2</td>\n    </tr>\n    <tr>\n      <th>2</th>\n      <td>NaN</td>\n      <td>NaN</td>\n      <td>3</td>\n    </tr>\n  </tbody>\n</table>\n</div>",
                        "text/plain": "     A    B  C\n0  1.0  5.0  1\n1  2.0  NaN  2\n2  NaN  NaN  3"
                    },
                    "execution_count": 7
                }
            ],
            "metadata": {}
        },
        {
            "source": "<h3> Drop NA Method</h3>",
            "cell_type": "markdown",
            "metadata": {}
        },
        {
            "source": "df.dropna(axis=1)   # Drop all columns with NaN values in them\n                    # (Axis = 1 applies to columns)",
            "cell_type": "code",
            "execution_count": 8,
            "outputs": [
                {
                    "output_type": "execute_result",
                    "metadata": {},
                    "data": {
                        "text/html": "<div>\n<style scoped>\n    .dataframe tbody tr th:only-of-type {\n        vertical-align: middle;\n    }\n\n    .dataframe tbody tr th {\n        vertical-align: top;\n    }\n\n    .dataframe thead th {\n        text-align: right;\n    }\n</style>\n<table border=\"1\" class=\"dataframe\">\n  <thead>\n    <tr style=\"text-align: right;\">\n      <th></th>\n      <th>C</th>\n    </tr>\n  </thead>\n  <tbody>\n    <tr>\n      <th>0</th>\n      <td>1</td>\n    </tr>\n    <tr>\n      <th>1</th>\n      <td>2</td>\n    </tr>\n    <tr>\n      <th>2</th>\n      <td>3</td>\n    </tr>\n  </tbody>\n</table>\n</div>",
                        "text/plain": "   C\n0  1\n1  2\n2  3"
                    },
                    "execution_count": 8
                }
            ],
            "metadata": {}
        },
        {
            "source": "df.dropna()       # Drop all rows with NaN values in them (this is the default)",
            "cell_type": "code",
            "execution_count": 9,
            "outputs": [
                {
                    "output_type": "execute_result",
                    "metadata": {},
                    "data": {
                        "text/html": "<div>\n<style scoped>\n    .dataframe tbody tr th:only-of-type {\n        vertical-align: middle;\n    }\n\n    .dataframe tbody tr th {\n        vertical-align: top;\n    }\n\n    .dataframe thead th {\n        text-align: right;\n    }\n</style>\n<table border=\"1\" class=\"dataframe\">\n  <thead>\n    <tr style=\"text-align: right;\">\n      <th></th>\n      <th>A</th>\n      <th>B</th>\n      <th>C</th>\n    </tr>\n  </thead>\n  <tbody>\n    <tr>\n      <th>0</th>\n      <td>1.0</td>\n      <td>5.0</td>\n      <td>1</td>\n    </tr>\n  </tbody>\n</table>\n</div>",
                        "text/plain": "     A    B  C\n0  1.0  5.0  1"
                    },
                    "execution_count": 9
                }
            ],
            "metadata": {}
        },
        {
            "source": "df.dropna(thresh=2)     # Drop any NaN values that are 2 or greater from any row, (using thresh),\n                        # This returned row 0 (has non NaN values),\n                        # and returned row 1 (has one NaN value).\n                        # Row two was not returned because it has 2 NaN values",
            "cell_type": "code",
            "execution_count": 10,
            "outputs": [
                {
                    "output_type": "execute_result",
                    "metadata": {},
                    "data": {
                        "text/html": "<div>\n<style scoped>\n    .dataframe tbody tr th:only-of-type {\n        vertical-align: middle;\n    }\n\n    .dataframe tbody tr th {\n        vertical-align: top;\n    }\n\n    .dataframe thead th {\n        text-align: right;\n    }\n</style>\n<table border=\"1\" class=\"dataframe\">\n  <thead>\n    <tr style=\"text-align: right;\">\n      <th></th>\n      <th>A</th>\n      <th>B</th>\n      <th>C</th>\n    </tr>\n  </thead>\n  <tbody>\n    <tr>\n      <th>0</th>\n      <td>1.0</td>\n      <td>5.0</td>\n      <td>1</td>\n    </tr>\n    <tr>\n      <th>1</th>\n      <td>2.0</td>\n      <td>NaN</td>\n      <td>2</td>\n    </tr>\n  </tbody>\n</table>\n</div>",
                        "text/plain": "     A    B  C\n0  1.0  5.0  1\n1  2.0  NaN  2"
                    },
                    "execution_count": 10
                }
            ],
            "metadata": {}
        },
        {
            "source": "<h3>Fill NA Method</h3>",
            "cell_type": "markdown",
            "metadata": {}
        },
        {
            "source": "<h4> Used to replace missing values</h4>",
            "cell_type": "markdown",
            "metadata": {}
        },
        {
            "source": "df.fillna(value='FILL Value')   # Fill in NaN values\n                                # In this example, use 'FILL Value'\n                                # Usage: df.fillna(value='some value')",
            "cell_type": "code",
            "execution_count": 11,
            "outputs": [
                {
                    "output_type": "execute_result",
                    "metadata": {},
                    "data": {
                        "text/html": "<div>\n<style scoped>\n    .dataframe tbody tr th:only-of-type {\n        vertical-align: middle;\n    }\n\n    .dataframe tbody tr th {\n        vertical-align: top;\n    }\n\n    .dataframe thead th {\n        text-align: right;\n    }\n</style>\n<table border=\"1\" class=\"dataframe\">\n  <thead>\n    <tr style=\"text-align: right;\">\n      <th></th>\n      <th>A</th>\n      <th>B</th>\n      <th>C</th>\n    </tr>\n  </thead>\n  <tbody>\n    <tr>\n      <th>0</th>\n      <td>1</td>\n      <td>5</td>\n      <td>1</td>\n    </tr>\n    <tr>\n      <th>1</th>\n      <td>2</td>\n      <td>FILL Value</td>\n      <td>2</td>\n    </tr>\n    <tr>\n      <th>2</th>\n      <td>FILL Value</td>\n      <td>FILL Value</td>\n      <td>3</td>\n    </tr>\n  </tbody>\n</table>\n</div>",
                        "text/plain": "            A           B  C\n0           1           5  1\n1           2  FILL Value  2\n2  FILL Value  FILL Value  3"
                    },
                    "execution_count": 11
                }
            ],
            "metadata": {}
        },
        {
            "source": "df['A']                    ",
            "cell_type": "code",
            "execution_count": 12,
            "outputs": [
                {
                    "output_type": "execute_result",
                    "metadata": {},
                    "data": {
                        "text/plain": "0    1.0\n1    2.0\n2    NaN\nName: A, dtype: float64"
                    },
                    "execution_count": 12
                }
            ],
            "metadata": {}
        },
        {
            "source": "df['A'].fillna(value=df['A'].mean())    # Fill in NaN value with the mean\n                                        # Example: df['A'] has a NaN value\n                                        # fillna with mean of column df['A'],\n                                        # therefore: df['A'].fillna(value = df['A'].mean())",
            "cell_type": "code",
            "execution_count": 13,
            "outputs": [
                {
                    "output_type": "execute_result",
                    "metadata": {},
                    "data": {
                        "text/plain": "0    1.0\n1    2.0\n2    1.5\nName: A, dtype: float64"
                    },
                    "execution_count": 13
                }
            ],
            "metadata": {}
        },
        {
            "source": "",
            "cell_type": "code",
            "execution_count": null,
            "outputs": [],
            "metadata": {}
        },
        {
            "source": "",
            "cell_type": "code",
            "execution_count": null,
            "outputs": [],
            "metadata": {}
        },
        {
            "source": "",
            "cell_type": "code",
            "execution_count": null,
            "outputs": [],
            "metadata": {}
        }
    ],
    "nbformat": 4,
    "metadata": {
        "kernelspec": {
            "display_name": "Python 3.5",
            "name": "python3",
            "language": "python"
        },
        "language_info": {
            "mimetype": "text/x-python",
            "nbconvert_exporter": "python",
            "version": "3.5.5",
            "name": "python",
            "pygments_lexer": "ipython3",
            "file_extension": ".py",
            "codemirror_mode": {
                "version": 3,
                "name": "ipython"
            }
        }
    }
}